{
  "nbformat": 4,
  "nbformat_minor": 0,
  "metadata": {
    "kernelspec": {
      "name": "python3",
      "display_name": "Python 3.8.3 64-bit ('venv')",
      "metadata": {
        "interpreter": {
          "hash": "64bbae2be10d8b9155a828b58e2a46bb3532e0038f2e702c1a1cd38212cc45c1"
        }
      }
    },
    "language_info": {
      "codemirror_mode": {
        "name": "ipython",
        "version": 3
      },
      "file_extension": ".py",
      "mimetype": "text/x-python",
      "name": "python",
      "nbconvert_exporter": "python",
      "pygments_lexer": "ipython3",
      "version": "3.8.3-final"
    },
    "colab": {
      "name": "141.ipynb",
      "provenance": [],
      "include_colab_link": true
    }
  },
  "cells": [
    {
      "cell_type": "markdown",
      "metadata": {
        "id": "view-in-github",
        "colab_type": "text"
      },
      "source": [
        "<a href=\"https://colab.research.google.com/github/valdas-v1/Fatal-Police-Shooting-in-United-States/blob/master/notebook.ipynb\" target=\"_parent\"><img src=\"https://colab.research.google.com/assets/colab-badge.svg\" alt=\"Open In Colab\"/></a>"
      ]
    },
    {
      "cell_type": "markdown",
      "metadata": {
        "id": "DEsTLqTaQZEZ"
      },
      "source": [
        "# Fatal Police Shooting in United States"
      ]
    },
    {
      "cell_type": "markdown",
      "metadata": {
        "id": "JqNFt4O-nLiO"
      },
      "source": [
        "This project will take a look at killings that took place at the hands of police officers in the United States from the beginning of 2015 to into February 2017. The main goal is to explore the data, provide a list of issues and propose a plan on how to tackle these issues.\r\n",
        "\r\n",
        "Details about the dataset can be found [here](https://www.kaggle.com/washingtonpost/police-shootings)"
      ]
    },
    {
      "cell_type": "markdown",
      "metadata": {
        "id": "tPPtBBSrIZPQ"
      },
      "source": [
        "# Table of Contents\r\n",
        "1. [Mental ilness among fatal police shootings](#mental_illness)\r\n",
        "2. [Fatal shootings by state](#fatal_shootings)\r\n",
        "3. [Hypothesis testing](#hypothesis_testing)\r\n",
        "4. [Racial bias among fatal police shootings](#racial_bias)\r\n",
        "5. [Cluster analysis](#cluster_analysis)\r\n",
        "6. [Building a machine learning model](#machine_learning)"
      ]
    },
    {
      "cell_type": "markdown",
      "metadata": {
        "id": "5izl-nVjQweD"
      },
      "source": [
        "## Imports and dataset cleaning"
      ]
    },
    {
      "cell_type": "markdown",
      "metadata": {
        "id": "PcUs5_KcBxBB"
      },
      "source": [
        "### Imports"
      ]
    },
    {
      "cell_type": "code",
      "metadata": {
        "id": "aHYOCwMLQYrB"
      },
      "source": [
        "# Data wrangling\r\n",
        "import pandas as pd\r\n",
        "import numpy as np\r\n",
        "\r\n",
        "# Statistics\r\n",
        "import scipy.stats as st\r\n",
        "\r\n",
        "# Visualisations\r\n",
        "import seaborn as sns\r\n",
        "sns.set_theme()\r\n",
        "import matplotlib.pyplot as plt\r\n",
        "import plotly.express as px\r\n",
        "\r\n",
        "# Model evaluation\r\n",
        "from sklearn.metrics import classification_report"
      ],
      "execution_count": 98,
      "outputs": []
    },
    {
      "cell_type": "code",
      "metadata": {
        "id": "N8iU3w48QcmG"
      },
      "source": [
        "# Importing the dataset\n",
        "df = pd.read_csv('https://raw.githubusercontent.com/valdas-v1/Fatal-Police-Shooting-in-United-States/master/data/data.csv')"
      ],
      "execution_count": 99,
      "outputs": []
    },
    {
      "cell_type": "markdown",
      "metadata": {
        "id": "gGULRa6mLBq1"
      },
      "source": [
        "### Initial look at the dataset"
      ]
    },
    {
      "cell_type": "code",
      "metadata": {
        "colab": {
          "base_uri": "https://localhost:8080/",
          "height": 136
        },
        "id": "K1uQpRe5LICg",
        "outputId": "af72644a-9145-44bb-e6f7-91d5ff822d8c"
      },
      "source": [
        "df.head(3)"
      ],
      "execution_count": 100,
      "outputs": [
        {
          "output_type": "execute_result",
          "data": {
            "text/html": [
              "<div>\n",
              "<style scoped>\n",
              "    .dataframe tbody tr th:only-of-type {\n",
              "        vertical-align: middle;\n",
              "    }\n",
              "\n",
              "    .dataframe tbody tr th {\n",
              "        vertical-align: top;\n",
              "    }\n",
              "\n",
              "    .dataframe thead th {\n",
              "        text-align: right;\n",
              "    }\n",
              "</style>\n",
              "<table border=\"1\" class=\"dataframe\">\n",
              "  <thead>\n",
              "    <tr style=\"text-align: right;\">\n",
              "      <th></th>\n",
              "      <th>id</th>\n",
              "      <th>name</th>\n",
              "      <th>date</th>\n",
              "      <th>manner_of_death</th>\n",
              "      <th>armed</th>\n",
              "      <th>age</th>\n",
              "      <th>gender</th>\n",
              "      <th>race</th>\n",
              "      <th>city</th>\n",
              "      <th>state</th>\n",
              "      <th>signs_of_mental_illness</th>\n",
              "      <th>threat_level</th>\n",
              "      <th>flee</th>\n",
              "      <th>body_camera</th>\n",
              "    </tr>\n",
              "  </thead>\n",
              "  <tbody>\n",
              "    <tr>\n",
              "      <th>0</th>\n",
              "      <td>3</td>\n",
              "      <td>Tim Elliot</td>\n",
              "      <td>2015-01-02</td>\n",
              "      <td>shot</td>\n",
              "      <td>gun</td>\n",
              "      <td>53.0</td>\n",
              "      <td>M</td>\n",
              "      <td>A</td>\n",
              "      <td>Shelton</td>\n",
              "      <td>WA</td>\n",
              "      <td>True</td>\n",
              "      <td>attack</td>\n",
              "      <td>Not fleeing</td>\n",
              "      <td>False</td>\n",
              "    </tr>\n",
              "    <tr>\n",
              "      <th>1</th>\n",
              "      <td>4</td>\n",
              "      <td>Lewis Lee Lembke</td>\n",
              "      <td>2015-01-02</td>\n",
              "      <td>shot</td>\n",
              "      <td>gun</td>\n",
              "      <td>47.0</td>\n",
              "      <td>M</td>\n",
              "      <td>W</td>\n",
              "      <td>Aloha</td>\n",
              "      <td>OR</td>\n",
              "      <td>False</td>\n",
              "      <td>attack</td>\n",
              "      <td>Not fleeing</td>\n",
              "      <td>False</td>\n",
              "    </tr>\n",
              "    <tr>\n",
              "      <th>2</th>\n",
              "      <td>5</td>\n",
              "      <td>John Paul Quintero</td>\n",
              "      <td>2015-01-03</td>\n",
              "      <td>shot and Tasered</td>\n",
              "      <td>unarmed</td>\n",
              "      <td>23.0</td>\n",
              "      <td>M</td>\n",
              "      <td>H</td>\n",
              "      <td>Wichita</td>\n",
              "      <td>KS</td>\n",
              "      <td>False</td>\n",
              "      <td>other</td>\n",
              "      <td>Not fleeing</td>\n",
              "      <td>False</td>\n",
              "    </tr>\n",
              "  </tbody>\n",
              "</table>\n",
              "</div>"
            ],
            "text/plain": [
              "   id                name        date  ... threat_level         flee  body_camera\n",
              "0   3          Tim Elliot  2015-01-02  ...       attack  Not fleeing        False\n",
              "1   4    Lewis Lee Lembke  2015-01-02  ...       attack  Not fleeing        False\n",
              "2   5  John Paul Quintero  2015-01-03  ...        other  Not fleeing        False\n",
              "\n",
              "[3 rows x 14 columns]"
            ]
          },
          "metadata": {
            "tags": []
          },
          "execution_count": 100
        }
      ]
    },
    {
      "cell_type": "markdown",
      "metadata": {
        "id": "Llsqo2NRL2Up"
      },
      "source": [
        "The dataset provides data about each case, including the manner of death, whether there were signs of mental illness and so on"
      ]
    },
    {
      "cell_type": "markdown",
      "metadata": {
        "id": "VHCmmqNHqFeQ"
      },
      "source": [
        "I will modify the 'race' column to make it more understandable"
      ]
    },
    {
      "cell_type": "code",
      "metadata": {
        "id": "QpfFq997pmai",
        "colab": {
          "base_uri": "https://localhost:8080/",
          "height": 77
        },
        "outputId": "6986eb63-68e4-4c4b-809d-104b36b9372a"
      },
      "source": [
        "df = df.replace({\"race\": {'W': 'White', 'B': 'Black', 'A': 'Asian', 'H': 'Hispanic', 'O': 'Other', 'N': 'Native'}})\r\n",
        "df.head(1)"
      ],
      "execution_count": 101,
      "outputs": [
        {
          "output_type": "execute_result",
          "data": {
            "text/html": [
              "<div>\n",
              "<style scoped>\n",
              "    .dataframe tbody tr th:only-of-type {\n",
              "        vertical-align: middle;\n",
              "    }\n",
              "\n",
              "    .dataframe tbody tr th {\n",
              "        vertical-align: top;\n",
              "    }\n",
              "\n",
              "    .dataframe thead th {\n",
              "        text-align: right;\n",
              "    }\n",
              "</style>\n",
              "<table border=\"1\" class=\"dataframe\">\n",
              "  <thead>\n",
              "    <tr style=\"text-align: right;\">\n",
              "      <th></th>\n",
              "      <th>id</th>\n",
              "      <th>name</th>\n",
              "      <th>date</th>\n",
              "      <th>manner_of_death</th>\n",
              "      <th>armed</th>\n",
              "      <th>age</th>\n",
              "      <th>gender</th>\n",
              "      <th>race</th>\n",
              "      <th>city</th>\n",
              "      <th>state</th>\n",
              "      <th>signs_of_mental_illness</th>\n",
              "      <th>threat_level</th>\n",
              "      <th>flee</th>\n",
              "      <th>body_camera</th>\n",
              "    </tr>\n",
              "  </thead>\n",
              "  <tbody>\n",
              "    <tr>\n",
              "      <th>0</th>\n",
              "      <td>3</td>\n",
              "      <td>Tim Elliot</td>\n",
              "      <td>2015-01-02</td>\n",
              "      <td>shot</td>\n",
              "      <td>gun</td>\n",
              "      <td>53.0</td>\n",
              "      <td>M</td>\n",
              "      <td>Asian</td>\n",
              "      <td>Shelton</td>\n",
              "      <td>WA</td>\n",
              "      <td>True</td>\n",
              "      <td>attack</td>\n",
              "      <td>Not fleeing</td>\n",
              "      <td>False</td>\n",
              "    </tr>\n",
              "  </tbody>\n",
              "</table>\n",
              "</div>"
            ],
            "text/plain": [
              "   id        name        date  ... threat_level         flee  body_camera\n",
              "0   3  Tim Elliot  2015-01-02  ...       attack  Not fleeing        False\n",
              "\n",
              "[1 rows x 14 columns]"
            ]
          },
          "metadata": {
            "tags": []
          },
          "execution_count": 101
        }
      ]
    },
    {
      "cell_type": "code",
      "metadata": {
        "colab": {
          "base_uri": "https://localhost:8080/"
        },
        "id": "IrONIofnLMca",
        "outputId": "cb8ca01e-cd34-4ada-e5ef-aa7cda48cf2e"
      },
      "source": [
        "df.info()"
      ],
      "execution_count": 102,
      "outputs": [
        {
          "output_type": "stream",
          "text": [
            "<class 'pandas.core.frame.DataFrame'>\n",
            "RangeIndex: 2142 entries, 0 to 2141\n",
            "Data columns (total 14 columns):\n",
            " #   Column                   Non-Null Count  Dtype  \n",
            "---  ------                   --------------  -----  \n",
            " 0   id                       2142 non-null   int64  \n",
            " 1   name                     2123 non-null   object \n",
            " 2   date                     2142 non-null   object \n",
            " 3   manner_of_death          2142 non-null   object \n",
            " 4   armed                    2136 non-null   object \n",
            " 5   age                      2099 non-null   float64\n",
            " 6   gender                   2141 non-null   object \n",
            " 7   race                     2039 non-null   object \n",
            " 8   city                     2142 non-null   object \n",
            " 9   state                    2142 non-null   object \n",
            " 10  signs_of_mental_illness  2142 non-null   bool   \n",
            " 11  threat_level             2142 non-null   object \n",
            " 12  flee                     2106 non-null   object \n",
            " 13  body_camera              2142 non-null   bool   \n",
            "dtypes: bool(2), float64(1), int64(1), object(10)\n",
            "memory usage: 205.1+ KB\n"
          ],
          "name": "stdout"
        }
      ]
    },
    {
      "cell_type": "markdown",
      "metadata": {
        "id": "nFyRniNKu63Q"
      },
      "source": [
        "Since 'Non-Null Counts' do not match, there are null values, the dataset will need to be cleaned"
      ]
    },
    {
      "cell_type": "markdown",
      "metadata": {
        "id": "TLkFSwOfuBgr"
      },
      "source": [
        "### Cleaning the dataset"
      ]
    },
    {
      "cell_type": "code",
      "metadata": {
        "colab": {
          "base_uri": "https://localhost:8080/"
        },
        "id": "ERC05Q4zuJAx",
        "outputId": "e6b03142-288e-4957-dad4-25e8337c1a4b"
      },
      "source": [
        "# Counting null values in each column\r\n",
        "df.isnull().sum()"
      ],
      "execution_count": 103,
      "outputs": [
        {
          "output_type": "execute_result",
          "data": {
            "text/plain": [
              "id                           0\n",
              "name                        19\n",
              "date                         0\n",
              "manner_of_death              0\n",
              "armed                        6\n",
              "age                         43\n",
              "gender                       1\n",
              "race                       103\n",
              "city                         0\n",
              "state                        0\n",
              "signs_of_mental_illness      0\n",
              "threat_level                 0\n",
              "flee                        36\n",
              "body_camera                  0\n",
              "dtype: int64"
            ]
          },
          "metadata": {
            "tags": []
          },
          "execution_count": 103
        }
      ]
    },
    {
      "cell_type": "code",
      "metadata": {
        "id": "8WBVaWo4uOvM"
      },
      "source": [
        "# Dropping all null values\r\n",
        "clean_df = df.dropna().drop('id', axis=1).reset_index()"
      ],
      "execution_count": 104,
      "outputs": []
    },
    {
      "cell_type": "code",
      "metadata": {
        "id": "tdKFad87zHfx"
      },
      "source": [
        "# Parsing date column\r\n",
        "clean_df['date'] = pd.to_datetime(clean_df['date'])"
      ],
      "execution_count": 105,
      "outputs": []
    },
    {
      "cell_type": "markdown",
      "metadata": {
        "id": "iK1kfonclTtu"
      },
      "source": [
        "<a name=\"mental_illness\"></a>\r\n",
        "## Mental ilness among fatal police shootings "
      ]
    },
    {
      "cell_type": "markdown",
      "metadata": {
        "id": "hSgpDxafo8NK"
      },
      "source": [
        "Since we have the data, I would like to begin by exploring the data on mental ilness and shootings. I want to know where the mentally ill are shot most frequently"
      ]
    },
    {
      "cell_type": "markdown",
      "metadata": {
        "id": "tCmwsv905Gp4"
      },
      "source": [
        "### Preprocessing data"
      ]
    },
    {
      "cell_type": "markdown",
      "metadata": {
        "id": "ldfCUnZgqSG3"
      },
      "source": [
        "I will create two DataFrames: one for counts of shootings, separated by whether there were signs of mental illness and another one, which will include only the cases with signs of mental illness"
      ]
    },
    {
      "cell_type": "code",
      "metadata": {
        "id": "idBPAbBVpCRz"
      },
      "source": [
        "# Grouping the data by state and if there are signs of mental ilness\r\n",
        "mental_ilness = clean_df.groupby(['state','signs_of_mental_illness'], as_index = False).index.count()\r\n",
        "mental_ilness.sort_values(by = ['signs_of_mental_illness', 'index'], ascending=[False, False], inplace = True)\r\n",
        "mental_ilness = mental_ilness.rename(columns={\"index\": \"count\"})"
      ],
      "execution_count": 106,
      "outputs": []
    },
    {
      "cell_type": "code",
      "metadata": {
        "colab": {
          "base_uri": "https://localhost:8080/",
          "height": 106
        },
        "id": "KFk3Vu2Mo5HX",
        "outputId": "016cbf6a-43b1-4218-c831-42b80d30c317"
      },
      "source": [
        "mental_ilness.head(2)"
      ],
      "execution_count": 107,
      "outputs": [
        {
          "output_type": "execute_result",
          "data": {
            "text/html": [
              "<div>\n",
              "<style scoped>\n",
              "    .dataframe tbody tr th:only-of-type {\n",
              "        vertical-align: middle;\n",
              "    }\n",
              "\n",
              "    .dataframe tbody tr th {\n",
              "        vertical-align: top;\n",
              "    }\n",
              "\n",
              "    .dataframe thead th {\n",
              "        text-align: right;\n",
              "    }\n",
              "</style>\n",
              "<table border=\"1\" class=\"dataframe\">\n",
              "  <thead>\n",
              "    <tr style=\"text-align: right;\">\n",
              "      <th></th>\n",
              "      <th>state</th>\n",
              "      <th>signs_of_mental_illness</th>\n",
              "      <th>count</th>\n",
              "    </tr>\n",
              "  </thead>\n",
              "  <tbody>\n",
              "    <tr>\n",
              "      <th>9</th>\n",
              "      <td>CA</td>\n",
              "      <td>True</td>\n",
              "      <td>76</td>\n",
              "    </tr>\n",
              "    <tr>\n",
              "      <th>84</th>\n",
              "      <td>TX</td>\n",
              "      <td>True</td>\n",
              "      <td>45</td>\n",
              "    </tr>\n",
              "  </tbody>\n",
              "</table>\n",
              "</div>"
            ],
            "text/plain": [
              "   state  signs_of_mental_illness  count\n",
              "9     CA                     True     76\n",
              "84    TX                     True     45"
            ]
          },
          "metadata": {
            "tags": []
          },
          "execution_count": 107
        }
      ]
    },
    {
      "cell_type": "code",
      "metadata": {
        "colab": {
          "base_uri": "https://localhost:8080/",
          "height": 136
        },
        "id": "dH9tMWDToifg",
        "outputId": "d62aac98-ca96-4255-b609-ac3e7492018d"
      },
      "source": [
        "# Filter cases where signs of mental ilness were present\r\n",
        "mental_ilness_true = mental_ilness[mental_ilness['signs_of_mental_illness'] == True].drop('signs_of_mental_illness',                                                         axis=1).reset_index(drop=True)\r\n",
        "mental_ilness_true.head(3)"
      ],
      "execution_count": 108,
      "outputs": [
        {
          "output_type": "execute_result",
          "data": {
            "text/html": [
              "<div>\n",
              "<style scoped>\n",
              "    .dataframe tbody tr th:only-of-type {\n",
              "        vertical-align: middle;\n",
              "    }\n",
              "\n",
              "    .dataframe tbody tr th {\n",
              "        vertical-align: top;\n",
              "    }\n",
              "\n",
              "    .dataframe thead th {\n",
              "        text-align: right;\n",
              "    }\n",
              "</style>\n",
              "<table border=\"1\" class=\"dataframe\">\n",
              "  <thead>\n",
              "    <tr style=\"text-align: right;\">\n",
              "      <th></th>\n",
              "      <th>state</th>\n",
              "      <th>count</th>\n",
              "    </tr>\n",
              "  </thead>\n",
              "  <tbody>\n",
              "    <tr>\n",
              "      <th>0</th>\n",
              "      <td>CA</td>\n",
              "      <td>76</td>\n",
              "    </tr>\n",
              "    <tr>\n",
              "      <th>1</th>\n",
              "      <td>TX</td>\n",
              "      <td>45</td>\n",
              "    </tr>\n",
              "    <tr>\n",
              "      <th>2</th>\n",
              "      <td>FL</td>\n",
              "      <td>34</td>\n",
              "    </tr>\n",
              "  </tbody>\n",
              "</table>\n",
              "</div>"
            ],
            "text/plain": [
              "  state  count\n",
              "0    CA     76\n",
              "1    TX     45\n",
              "2    FL     34"
            ]
          },
          "metadata": {
            "tags": []
          },
          "execution_count": 108
        }
      ]
    },
    {
      "cell_type": "markdown",
      "metadata": {
        "id": "ugmzBKj1-4hb"
      },
      "source": [
        "### Fatal shootings by state <a name=\"fatal_shootings\"></a>"
      ]
    },
    {
      "cell_type": "markdown",
      "metadata": {
        "id": "zm94YOfDru__"
      },
      "source": [
        "Let us begin by visualising counts of victims with signs of mental illness by state"
      ]
    },
    {
      "cell_type": "code",
      "metadata": {
        "id": "Gz0GCKQcoTRB",
        "colab": {
          "base_uri": "https://localhost:8080/",
          "height": 542
        },
        "outputId": "bf49dd91-5c92-48ac-b24f-4f8ff8ba421c"
      },
      "source": [
        "# Interactive map of the USA to visualise shootings where signs of mental illness were present\r\n",
        "fig = px.choropleth(mental_ilness_true,\r\n",
        "                    locations=\"state\",\r\n",
        "                    color=\"count\",\r\n",
        "                    hover_name=\"state\",\r\n",
        "                    locationmode = 'USA-states')\r\n",
        "fig.update_layout(\r\n",
        "    title_text = 'Fatal shootings of people with signs of mental illness',\r\n",
        "    geo_scope='usa',\r\n",
        ")\r\n",
        "fig.show()"
      ],
      "execution_count": 109,
      "outputs": [
        {
          "output_type": "display_data",
          "data": {
            "text/html": [
              "<html>\n",
              "<head><meta charset=\"utf-8\" /></head>\n",
              "<body>\n",
              "    <div>\n",
              "            <script src=\"https://cdnjs.cloudflare.com/ajax/libs/mathjax/2.7.5/MathJax.js?config=TeX-AMS-MML_SVG\"></script><script type=\"text/javascript\">if (window.MathJax) {MathJax.Hub.Config({SVG: {font: \"STIX-Web\"}});}</script>\n",
              "                <script type=\"text/javascript\">window.PlotlyConfig = {MathJaxConfig: 'local'};</script>\n",
              "        <script src=\"https://cdn.plot.ly/plotly-latest.min.js\"></script>    \n",
              "            <div id=\"48f3948a-4ba2-47ef-bcd8-26aca1dc6261\" class=\"plotly-graph-div\" style=\"height:525px; width:100%;\"></div>\n",
              "            <script type=\"text/javascript\">\n",
              "                \n",
              "                    window.PLOTLYENV=window.PLOTLYENV || {};\n",
              "                    \n",
              "                if (document.getElementById(\"48f3948a-4ba2-47ef-bcd8-26aca1dc6261\")) {\n",
              "                    Plotly.newPlot(\n",
              "                        '48f3948a-4ba2-47ef-bcd8-26aca1dc6261',\n",
              "                        [{\"coloraxis\": \"coloraxis\", \"geo\": \"geo\", \"hoverlabel\": {\"namelength\": 0}, \"hovertemplate\": \"<b>%{hovertext}</b><br><br>state=%{location}<br>count=%{z}\", \"hovertext\": [\"CA\", \"TX\", \"FL\", \"AZ\", \"WA\", \"NC\", \"NY\", \"OK\", \"VA\", \"GA\", \"LA\", \"OH\", \"AL\", \"IL\", \"MN\", \"CO\", \"MD\", \"MI\", \"WI\", \"NM\", \"NV\", \"OR\", \"PA\", \"TN\", \"UT\", \"MA\", \"IN\", \"MO\", \"NJ\", \"NH\", \"SC\", \"KY\", \"AR\", \"KS\", \"NE\", \"SD\", \"AK\", \"CT\", \"DC\", \"IA\", \"ID\", \"WV\", \"WY\", \"DE\", \"HI\", \"ME\", \"MS\", \"MT\", \"VT\"], \"locationmode\": \"USA-states\", \"locations\": [\"CA\", \"TX\", \"FL\", \"AZ\", \"WA\", \"NC\", \"NY\", \"OK\", \"VA\", \"GA\", \"LA\", \"OH\", \"AL\", \"IL\", \"MN\", \"CO\", \"MD\", \"MI\", \"WI\", \"NM\", \"NV\", \"OR\", \"PA\", \"TN\", \"UT\", \"MA\", \"IN\", \"MO\", \"NJ\", \"NH\", \"SC\", \"KY\", \"AR\", \"KS\", \"NE\", \"SD\", \"AK\", \"CT\", \"DC\", \"IA\", \"ID\", \"WV\", \"WY\", \"DE\", \"HI\", \"ME\", \"MS\", \"MT\", \"VT\"], \"name\": \"\", \"type\": \"choropleth\", \"z\": [76, 45, 34, 25, 19, 16, 16, 14, 14, 12, 12, 12, 11, 11, 11, 10, 10, 10, 10, 9, 9, 9, 9, 9, 9, 8, 7, 7, 6, 5, 5, 4, 3, 3, 3, 3, 2, 2, 2, 2, 2, 2, 2, 1, 1, 1, 1, 1, 1]}],\n",
              "                        {\"coloraxis\": {\"colorbar\": {\"title\": {\"text\": \"count\"}}, \"colorscale\": [[0.0, \"#0d0887\"], [0.1111111111111111, \"#46039f\"], [0.2222222222222222, \"#7201a8\"], [0.3333333333333333, \"#9c179e\"], [0.4444444444444444, \"#bd3786\"], [0.5555555555555556, \"#d8576b\"], [0.6666666666666666, \"#ed7953\"], [0.7777777777777778, \"#fb9f3a\"], [0.8888888888888888, \"#fdca26\"], [1.0, \"#f0f921\"]]}, \"geo\": {\"center\": {}, \"domain\": {\"x\": [0.0, 1.0], \"y\": [0.0, 1.0]}, \"scope\": \"usa\"}, \"legend\": {\"tracegroupgap\": 0}, \"margin\": {\"t\": 60}, \"template\": {\"data\": {\"bar\": [{\"error_x\": {\"color\": \"#2a3f5f\"}, \"error_y\": {\"color\": \"#2a3f5f\"}, \"marker\": {\"line\": {\"color\": \"#E5ECF6\", \"width\": 0.5}}, \"type\": \"bar\"}], \"barpolar\": [{\"marker\": {\"line\": {\"color\": \"#E5ECF6\", \"width\": 0.5}}, \"type\": \"barpolar\"}], \"carpet\": [{\"aaxis\": {\"endlinecolor\": \"#2a3f5f\", \"gridcolor\": \"white\", \"linecolor\": \"white\", \"minorgridcolor\": \"white\", \"startlinecolor\": \"#2a3f5f\"}, \"baxis\": {\"endlinecolor\": \"#2a3f5f\", \"gridcolor\": \"white\", \"linecolor\": \"white\", \"minorgridcolor\": \"white\", \"startlinecolor\": \"#2a3f5f\"}, \"type\": \"carpet\"}], \"choropleth\": [{\"colorbar\": {\"outlinewidth\": 0, \"ticks\": \"\"}, \"type\": \"choropleth\"}], \"contour\": [{\"colorbar\": {\"outlinewidth\": 0, \"ticks\": \"\"}, \"colorscale\": [[0.0, \"#0d0887\"], [0.1111111111111111, \"#46039f\"], [0.2222222222222222, \"#7201a8\"], [0.3333333333333333, \"#9c179e\"], [0.4444444444444444, \"#bd3786\"], [0.5555555555555556, \"#d8576b\"], [0.6666666666666666, \"#ed7953\"], [0.7777777777777778, \"#fb9f3a\"], [0.8888888888888888, \"#fdca26\"], [1.0, \"#f0f921\"]], \"type\": \"contour\"}], \"contourcarpet\": [{\"colorbar\": {\"outlinewidth\": 0, \"ticks\": \"\"}, \"type\": \"contourcarpet\"}], \"heatmap\": [{\"colorbar\": {\"outlinewidth\": 0, \"ticks\": \"\"}, \"colorscale\": [[0.0, \"#0d0887\"], [0.1111111111111111, \"#46039f\"], [0.2222222222222222, \"#7201a8\"], [0.3333333333333333, \"#9c179e\"], [0.4444444444444444, \"#bd3786\"], [0.5555555555555556, \"#d8576b\"], [0.6666666666666666, \"#ed7953\"], [0.7777777777777778, \"#fb9f3a\"], [0.8888888888888888, \"#fdca26\"], [1.0, \"#f0f921\"]], \"type\": \"heatmap\"}], \"heatmapgl\": [{\"colorbar\": {\"outlinewidth\": 0, \"ticks\": \"\"}, \"colorscale\": [[0.0, \"#0d0887\"], [0.1111111111111111, \"#46039f\"], [0.2222222222222222, \"#7201a8\"], [0.3333333333333333, \"#9c179e\"], [0.4444444444444444, \"#bd3786\"], [0.5555555555555556, \"#d8576b\"], [0.6666666666666666, \"#ed7953\"], [0.7777777777777778, \"#fb9f3a\"], [0.8888888888888888, \"#fdca26\"], [1.0, \"#f0f921\"]], \"type\": \"heatmapgl\"}], \"histogram\": [{\"marker\": {\"colorbar\": {\"outlinewidth\": 0, \"ticks\": \"\"}}, \"type\": \"histogram\"}], \"histogram2d\": [{\"colorbar\": {\"outlinewidth\": 0, \"ticks\": \"\"}, \"colorscale\": [[0.0, \"#0d0887\"], [0.1111111111111111, \"#46039f\"], [0.2222222222222222, \"#7201a8\"], [0.3333333333333333, \"#9c179e\"], [0.4444444444444444, \"#bd3786\"], [0.5555555555555556, \"#d8576b\"], [0.6666666666666666, \"#ed7953\"], [0.7777777777777778, \"#fb9f3a\"], [0.8888888888888888, \"#fdca26\"], [1.0, \"#f0f921\"]], \"type\": \"histogram2d\"}], \"histogram2dcontour\": [{\"colorbar\": {\"outlinewidth\": 0, \"ticks\": \"\"}, \"colorscale\": [[0.0, \"#0d0887\"], [0.1111111111111111, \"#46039f\"], [0.2222222222222222, \"#7201a8\"], [0.3333333333333333, \"#9c179e\"], [0.4444444444444444, \"#bd3786\"], [0.5555555555555556, \"#d8576b\"], [0.6666666666666666, \"#ed7953\"], [0.7777777777777778, \"#fb9f3a\"], [0.8888888888888888, \"#fdca26\"], [1.0, \"#f0f921\"]], \"type\": \"histogram2dcontour\"}], \"mesh3d\": [{\"colorbar\": {\"outlinewidth\": 0, \"ticks\": \"\"}, \"type\": \"mesh3d\"}], \"parcoords\": [{\"line\": {\"colorbar\": {\"outlinewidth\": 0, \"ticks\": \"\"}}, \"type\": \"parcoords\"}], \"pie\": [{\"automargin\": true, \"type\": \"pie\"}], \"scatter\": [{\"marker\": {\"colorbar\": {\"outlinewidth\": 0, \"ticks\": \"\"}}, \"type\": \"scatter\"}], \"scatter3d\": [{\"line\": {\"colorbar\": {\"outlinewidth\": 0, \"ticks\": \"\"}}, \"marker\": {\"colorbar\": {\"outlinewidth\": 0, \"ticks\": \"\"}}, \"type\": \"scatter3d\"}], \"scattercarpet\": [{\"marker\": {\"colorbar\": {\"outlinewidth\": 0, \"ticks\": \"\"}}, \"type\": \"scattercarpet\"}], \"scattergeo\": [{\"marker\": {\"colorbar\": {\"outlinewidth\": 0, \"ticks\": \"\"}}, \"type\": \"scattergeo\"}], \"scattergl\": [{\"marker\": {\"colorbar\": {\"outlinewidth\": 0, \"ticks\": \"\"}}, \"type\": \"scattergl\"}], \"scattermapbox\": [{\"marker\": {\"colorbar\": {\"outlinewidth\": 0, \"ticks\": \"\"}}, \"type\": \"scattermapbox\"}], \"scatterpolar\": [{\"marker\": {\"colorbar\": {\"outlinewidth\": 0, \"ticks\": \"\"}}, \"type\": \"scatterpolar\"}], \"scatterpolargl\": [{\"marker\": {\"colorbar\": {\"outlinewidth\": 0, \"ticks\": \"\"}}, \"type\": \"scatterpolargl\"}], \"scatterternary\": [{\"marker\": {\"colorbar\": {\"outlinewidth\": 0, \"ticks\": \"\"}}, \"type\": \"scatterternary\"}], \"surface\": [{\"colorbar\": {\"outlinewidth\": 0, \"ticks\": \"\"}, \"colorscale\": [[0.0, \"#0d0887\"], [0.1111111111111111, \"#46039f\"], [0.2222222222222222, \"#7201a8\"], [0.3333333333333333, \"#9c179e\"], [0.4444444444444444, \"#bd3786\"], [0.5555555555555556, \"#d8576b\"], [0.6666666666666666, \"#ed7953\"], [0.7777777777777778, \"#fb9f3a\"], [0.8888888888888888, \"#fdca26\"], [1.0, \"#f0f921\"]], \"type\": \"surface\"}], \"table\": [{\"cells\": {\"fill\": {\"color\": \"#EBF0F8\"}, \"line\": {\"color\": \"white\"}}, \"header\": {\"fill\": {\"color\": \"#C8D4E3\"}, \"line\": {\"color\": \"white\"}}, \"type\": \"table\"}]}, \"layout\": {\"annotationdefaults\": {\"arrowcolor\": \"#2a3f5f\", \"arrowhead\": 0, \"arrowwidth\": 1}, \"coloraxis\": {\"colorbar\": {\"outlinewidth\": 0, \"ticks\": \"\"}}, \"colorscale\": {\"diverging\": [[0, \"#8e0152\"], [0.1, \"#c51b7d\"], [0.2, \"#de77ae\"], [0.3, \"#f1b6da\"], [0.4, \"#fde0ef\"], [0.5, \"#f7f7f7\"], [0.6, \"#e6f5d0\"], [0.7, \"#b8e186\"], [0.8, \"#7fbc41\"], [0.9, \"#4d9221\"], [1, \"#276419\"]], \"sequential\": [[0.0, \"#0d0887\"], [0.1111111111111111, \"#46039f\"], [0.2222222222222222, \"#7201a8\"], [0.3333333333333333, \"#9c179e\"], [0.4444444444444444, \"#bd3786\"], [0.5555555555555556, \"#d8576b\"], [0.6666666666666666, \"#ed7953\"], [0.7777777777777778, \"#fb9f3a\"], [0.8888888888888888, \"#fdca26\"], [1.0, \"#f0f921\"]], \"sequentialminus\": [[0.0, \"#0d0887\"], [0.1111111111111111, \"#46039f\"], [0.2222222222222222, \"#7201a8\"], [0.3333333333333333, \"#9c179e\"], [0.4444444444444444, \"#bd3786\"], [0.5555555555555556, \"#d8576b\"], [0.6666666666666666, \"#ed7953\"], [0.7777777777777778, \"#fb9f3a\"], [0.8888888888888888, \"#fdca26\"], [1.0, \"#f0f921\"]]}, \"colorway\": [\"#636efa\", \"#EF553B\", \"#00cc96\", \"#ab63fa\", \"#FFA15A\", \"#19d3f3\", \"#FF6692\", \"#B6E880\", \"#FF97FF\", \"#FECB52\"], \"font\": {\"color\": \"#2a3f5f\"}, \"geo\": {\"bgcolor\": \"white\", \"lakecolor\": \"white\", \"landcolor\": \"#E5ECF6\", \"showlakes\": true, \"showland\": true, \"subunitcolor\": \"white\"}, \"hoverlabel\": {\"align\": \"left\"}, \"hovermode\": \"closest\", \"mapbox\": {\"style\": \"light\"}, \"paper_bgcolor\": \"white\", \"plot_bgcolor\": \"#E5ECF6\", \"polar\": {\"angularaxis\": {\"gridcolor\": \"white\", \"linecolor\": \"white\", \"ticks\": \"\"}, \"bgcolor\": \"#E5ECF6\", \"radialaxis\": {\"gridcolor\": \"white\", \"linecolor\": \"white\", \"ticks\": \"\"}}, \"scene\": {\"xaxis\": {\"backgroundcolor\": \"#E5ECF6\", \"gridcolor\": \"white\", \"gridwidth\": 2, \"linecolor\": \"white\", \"showbackground\": true, \"ticks\": \"\", \"zerolinecolor\": \"white\"}, \"yaxis\": {\"backgroundcolor\": \"#E5ECF6\", \"gridcolor\": \"white\", \"gridwidth\": 2, \"linecolor\": \"white\", \"showbackground\": true, \"ticks\": \"\", \"zerolinecolor\": \"white\"}, \"zaxis\": {\"backgroundcolor\": \"#E5ECF6\", \"gridcolor\": \"white\", \"gridwidth\": 2, \"linecolor\": \"white\", \"showbackground\": true, \"ticks\": \"\", \"zerolinecolor\": \"white\"}}, \"shapedefaults\": {\"line\": {\"color\": \"#2a3f5f\"}}, \"ternary\": {\"aaxis\": {\"gridcolor\": \"white\", \"linecolor\": \"white\", \"ticks\": \"\"}, \"baxis\": {\"gridcolor\": \"white\", \"linecolor\": \"white\", \"ticks\": \"\"}, \"bgcolor\": \"#E5ECF6\", \"caxis\": {\"gridcolor\": \"white\", \"linecolor\": \"white\", \"ticks\": \"\"}}, \"title\": {\"x\": 0.05}, \"xaxis\": {\"automargin\": true, \"gridcolor\": \"white\", \"linecolor\": \"white\", \"ticks\": \"\", \"title\": {\"standoff\": 15}, \"zerolinecolor\": \"white\", \"zerolinewidth\": 2}, \"yaxis\": {\"automargin\": true, \"gridcolor\": \"white\", \"linecolor\": \"white\", \"ticks\": \"\", \"title\": {\"standoff\": 15}, \"zerolinecolor\": \"white\", \"zerolinewidth\": 2}}}, \"title\": {\"text\": \"Fatal shootings of people with signs of mental illness\"}},\n",
              "                        {\"responsive\": true}\n",
              "                    ).then(function(){\n",
              "                            \n",
              "var gd = document.getElementById('48f3948a-4ba2-47ef-bcd8-26aca1dc6261');\n",
              "var x = new MutationObserver(function (mutations, observer) {{\n",
              "        var display = window.getComputedStyle(gd).display;\n",
              "        if (!display || display === 'none') {{\n",
              "            console.log([gd, 'removed!']);\n",
              "            Plotly.purge(gd);\n",
              "            observer.disconnect();\n",
              "        }}\n",
              "}});\n",
              "\n",
              "// Listen for the removal of the full notebook cells\n",
              "var notebookContainer = gd.closest('#notebook-container');\n",
              "if (notebookContainer) {{\n",
              "    x.observe(notebookContainer, {childList: true});\n",
              "}}\n",
              "\n",
              "// Listen for the clearing of the current output cell\n",
              "var outputEl = gd.closest('.output');\n",
              "if (outputEl) {{\n",
              "    x.observe(outputEl, {childList: true});\n",
              "}}\n",
              "\n",
              "                        })\n",
              "                };\n",
              "                \n",
              "            </script>\n",
              "        </div>\n",
              "</body>\n",
              "</html>"
            ]
          },
          "metadata": {
            "tags": []
          }
        }
      ]
    },
    {
      "cell_type": "markdown",
      "metadata": {
        "id": "6YaZEEmnXw2k"
      },
      "source": [
        "<div><img width=\"800px\" height=\"auto\" src=\"https://raw.githubusercontent.com/valdas-v1/Fatal-Police-Shooting-in-United-States/master/images/mental_ilness_by_state.png\" /></div>"
      ]
    },
    {
      "cell_type": "markdown",
      "metadata": {
        "id": "27xrbYTMsDLD"
      },
      "source": [
        "As we can see, cases of fatally shot people with signs of mental illness vary greatly state-by-state, but California, Texas and Florida stand out having the most cases. Although, this does not tell us the whole story, so let us look at numbers"
      ]
    },
    {
      "cell_type": "code",
      "metadata": {
        "colab": {
          "base_uri": "https://localhost:8080/",
          "height": 527
        },
        "id": "HRo1PSFzm3ZH",
        "outputId": "3aa8e418-4f2f-4e89-839a-357ef5ab65fa"
      },
      "source": [
        "# Plotting the data\r\n",
        "fig, ax = plt.subplots(figsize = (15,8))\r\n",
        "sns.stripplot(ax = ax,data = mental_ilness, x = 'state', y = 'count',\r\n",
        "              hue = 'signs_of_mental_illness').legend(loc='center left', \r\n",
        "                                                      bbox_to_anchor=(1.25, 0.5), ncol=1, title='Signs of mental ilness')\r\n",
        "plt.xticks(rotation=90)\r\n",
        "ax.xaxis.grid(True)\r\n",
        "plt.ylabel('Fatal shootings')\r\n",
        "plt.xlabel('State')\r\n",
        "plt.title('Fatal shootings by state and signs of mental ilness')        \r\n",
        "plt.show()       "
      ],
      "execution_count": 110,
      "outputs": [
        {
          "output_type": "display_data",
          "data": {
            "image/png": "[encoded data removed]",
            "text/plain": [
              "<Figure size 1080x576 with 1 Axes>"
            ]
          },
          "metadata": {
            "tags": []
          }
        }
      ]
    },
    {
      "cell_type": "markdown",
      "metadata": {
        "id": "vsilyamNkynM"
      },
      "source": [
        "We can see that California has by far the most fatal shootings by the police, let us see if their average rate of shooting a mentally ill person is higher than the national average"
      ]
    },
    {
      "cell_type": "markdown",
      "metadata": {
        "id": "hm4UL6iK50Yb"
      },
      "source": [
        "<a name=\"hypothesis_testing\"></a>\r\n",
        "### Testing the hypothesis, that California's proportion of fatally shot people, with a mental illness is equal to the national proportion, with a 95% significance level: \r\n",
        "\r\n",
        "### H0: pC = pN\r\n"
      ]
    },
    {
      "cell_type": "code",
      "metadata": {
        "colab": {
          "base_uri": "https://localhost:8080/",
          "height": 166
        },
        "id": "f43ff9-kHQiq",
        "outputId": "d2ab8019-c9f8-4504-ef43-d1366bf39de0"
      },
      "source": [
        "# Calculating the proportion for every state\r\n",
        "rate_of_shot_mental_ilness = mental_ilness.pivot('state','signs_of_mental_illness','count').apply(lambda x: x/x.sum(), axis = 1).sort_values(by = True).dropna()\r\n",
        "rate_of_shot_mental_ilness.head(3)"
      ],
      "execution_count": 111,
      "outputs": [
        {
          "output_type": "execute_result",
          "data": {
            "text/html": [
              "<div>\n",
              "<style scoped>\n",
              "    .dataframe tbody tr th:only-of-type {\n",
              "        vertical-align: middle;\n",
              "    }\n",
              "\n",
              "    .dataframe tbody tr th {\n",
              "        vertical-align: top;\n",
              "    }\n",
              "\n",
              "    .dataframe thead th {\n",
              "        text-align: right;\n",
              "    }\n",
              "</style>\n",
              "<table border=\"1\" class=\"dataframe\">\n",
              "  <thead>\n",
              "    <tr style=\"text-align: right;\">\n",
              "      <th>signs_of_mental_illness</th>\n",
              "      <th>False</th>\n",
              "      <th>True</th>\n",
              "    </tr>\n",
              "    <tr>\n",
              "      <th>state</th>\n",
              "      <th></th>\n",
              "      <th></th>\n",
              "    </tr>\n",
              "  </thead>\n",
              "  <tbody>\n",
              "    <tr>\n",
              "      <th>MS</th>\n",
              "      <td>0.944444</td>\n",
              "      <td>0.055556</td>\n",
              "    </tr>\n",
              "    <tr>\n",
              "      <th>WV</th>\n",
              "      <td>0.900000</td>\n",
              "      <td>0.100000</td>\n",
              "    </tr>\n",
              "    <tr>\n",
              "      <th>HI</th>\n",
              "      <td>0.900000</td>\n",
              "      <td>0.100000</td>\n",
              "    </tr>\n",
              "  </tbody>\n",
              "</table>\n",
              "</div>"
            ],
            "text/plain": [
              "signs_of_mental_illness     False     True \n",
              "state                                      \n",
              "MS                       0.944444  0.055556\n",
              "WV                       0.900000  0.100000\n",
              "HI                       0.900000  0.100000"
            ]
          },
          "metadata": {
            "tags": []
          },
          "execution_count": 111
        }
      ]
    },
    {
      "cell_type": "code",
      "metadata": {
        "colab": {
          "base_uri": "https://localhost:8080/",
          "height": 581
        },
        "id": "-U-BbRV7JZhs",
        "outputId": "55d3f5cd-190e-4078-c876-cd47080395c1"
      },
      "source": [
        "# Plotting the proportion for every state\r\n",
        "\r\n",
        "fig, ax = plt.subplots(figsize = (15,9))\r\n",
        "rate_of_shot_mental_ilness.plot(kind='bar', ax=ax).legend(loc='center left', \r\n",
        "                                                      bbox_to_anchor=(1.25, 0.5), ncol=1, title='Signs of mental ilness')\r\n",
        "plt.yticks(np.arange(0,1.05,0.05))\r\n",
        "plt.ylabel('Fatal shootings')\r\n",
        "plt.xlabel('State')\r\n",
        "plt.title('Rate of fatally shot metally ill by state')\r\n",
        "plt.show()  "
      ],
      "execution_count": 112,
      "outputs": [
        {
          "output_type": "display_data",
          "data": {
            "image/png": "[encoded data removed]",
            "text/plain": [
              "<Figure size 1080x648 with 1 Axes>"
            ]
          },
          "metadata": {
            "tags": []
          }
        }
      ]
    },
    {
      "cell_type": "markdown",
      "metadata": {
        "id": "0HFD_RXtsWF8"
      },
      "source": [
        "From this graph, we can see on a state-by-state level, which states have the worst rates of fatally shooting people with mental illnesses. Worst performing states, such as Utah, San Diego and Washington should look into increasing officer training for dealing with mentally ill people or increase funding for free mental health services"
      ]
    },
    {
      "cell_type": "markdown",
      "metadata": {
        "id": "4bi-Gtb4Uipj"
      },
      "source": [
        "Although California has a rate close to the middle, we can see that Utah has the highest rate, while Massachusetts has the lowest. Let us see if it is statistically significan using a z-test"
      ]
    },
    {
      "cell_type": "markdown",
      "metadata": {
        "id": "ZGx9y9XexeE3"
      },
      "source": [
        "### One-proportion z-test to test the null hypothesis"
      ]
    },
    {
      "cell_type": "code",
      "metadata": {
        "id": "5vtlC-TJZlgX"
      },
      "source": [
        "# Defining variables for a One-proportion z-test\r\n",
        "p_hat = rate_of_shot_mental_ilness[True].loc['CA']\r\n",
        "p_0 = np.mean(rate_of_shot_mental_ilness[True])\r\n",
        "n = np.sum(mental_ilness[mental_ilness['state'] == 'CA']['count'])"
      ],
      "execution_count": 113,
      "outputs": []
    },
    {
      "cell_type": "code",
      "metadata": {
        "colab": {
          "base_uri": "https://localhost:8080/"
        },
        "id": "GrtWzeG6Q1g4",
        "outputId": "5655ad9e-0c52-4e23-c76f-b1f34eb18048"
      },
      "source": [
        "# Calculating One-proportion z-test\r\n",
        "z = (p_hat*p_0) / np.sqrt(p_0*(1 - p_0)) * np.sqrt(n)\r\n",
        "z"
      ],
      "execution_count": 114,
      "outputs": [
        {
          "output_type": "execute_result",
          "data": {
            "text/plain": [
              "2.4185893282110684"
            ]
          },
          "metadata": {
            "tags": []
          },
          "execution_count": 114
        }
      ]
    },
    {
      "cell_type": "code",
      "metadata": {
        "colab": {
          "base_uri": "https://localhost:8080/"
        },
        "id": "yYUZFJu5cHWj",
        "outputId": "8095f5f0-b55a-4693-c8cf-48e2763350c2"
      },
      "source": [
        "# Calculating the p-value\r\n",
        "p = 1 - st.norm.cdf(z)\r\n",
        "p"
      ],
      "execution_count": 115,
      "outputs": [
        {
          "output_type": "execute_result",
          "data": {
            "text/plain": [
              "0.0077904097297083474"
            ]
          },
          "metadata": {
            "tags": []
          },
          "execution_count": 115
        }
      ]
    },
    {
      "cell_type": "markdown",
      "metadata": {
        "id": "Pa8HFI97Pvcw"
      },
      "source": [
        "We can reject the null hypothesis that the proportion of California and the national population proportion are equal (pC = pN), with a significance level of 95% as the p-value is 0.78%"
      ]
    },
    {
      "cell_type": "markdown",
      "metadata": {
        "id": "WcGMt9f4UFys"
      },
      "source": [
        "<a name=\"racial_bias\"></a>\r\n",
        "## Racial bias among fatal police shootings"
      ]
    },
    {
      "cell_type": "markdown",
      "metadata": {
        "id": "PBkdsLKHt7gY"
      },
      "source": [
        "Next, let us explore the correlation between race and fatal police shootings"
      ]
    },
    {
      "cell_type": "markdown",
      "metadata": {
        "id": "Ft2tBXGH8jkh"
      },
      "source": [
        "### Racial distribution of fatal police shootings"
      ]
    },
    {
      "cell_type": "markdown",
      "metadata": {
        "id": "HwgdQ3A3u6BV"
      },
      "source": [
        "I will begin by plotting the counts of fatal shootings by race"
      ]
    },
    {
      "cell_type": "code",
      "metadata": {
        "colab": {
          "base_uri": "https://localhost:8080/",
          "height": 410
        },
        "id": "EtyVQ0MBUN5G",
        "outputId": "a8d77cdc-aec8-4aea-9929-dc42cfc349e6"
      },
      "source": [
        "# Plotting the race among fatal police shootings\r\n",
        "\r\n",
        "plt.figure(figsize=(8, 6))\r\n",
        "cplot = sns.countplot(x=df['race'])\r\n",
        "for p in cplot.patches:\r\n",
        "  cplot.annotate(p.get_height(), (p.get_x() + p.get_width() / 2., p.get_height()), ha = 'center', va = 'center', xytext = (0, 10), textcoords = 'offset points')\r\n",
        "plt.title('Race Count')\r\n",
        "plt.show()"
      ],
      "execution_count": 207,
      "outputs": [
        {
          "output_type": "display_data",
          "data": {
            "image/png": "[encoded data removed]",
            "text/plain": [
              "<Figure size 576x432 with 1 Axes>"
            ]
          },
          "metadata": {
            "tags": []
          }
        }
      ]
    },
    {
      "cell_type": "markdown",
      "metadata": {
        "id": "sLX_YL3T7nlP"
      },
      "source": [
        "Although it seems as if white people are shot most often, we need to keep in mind that >70% of the racial composition of the United States is white. Let us calculate the proportion of fatally shot unarmed people by race\r\n",
        "\r\n",
        "Source for the [racial composition of the United States](https://en.wikipedia.org/wiki/Race_and_ethnicity_in_the_United_States)"
      ]
    },
    {
      "cell_type": "markdown",
      "metadata": {
        "id": "kNuVBBlf8utc"
      },
      "source": [
        "### Percentage of unarmed people shot by race"
      ]
    },
    {
      "cell_type": "markdown",
      "metadata": {
        "id": "7J6gmny3eS2u"
      },
      "source": [
        "To visualise this, I will first modify the 'armed' column of the data to be either 'True' or 'False' instead of all the different kinds of weapons available, then group by race and whether they were armed"
      ]
    },
    {
      "cell_type": "code",
      "metadata": {
        "colab": {
          "base_uri": "https://localhost:8080/",
          "height": 136
        },
        "id": "DlxPjRbshfzB",
        "outputId": "74644f0d-6919-4d8b-9a14-48ad238a7418"
      },
      "source": [
        "# Grouping the data by race and if they were armed\r\n",
        "df_armed = clean_df\r\n",
        "df_armed['armed'] = clean_df['armed'] != 'unarmed'\r\n",
        "\r\n",
        "race_armed = df_armed.groupby(['race','armed'], as_index = False).index.count()\r\n",
        "race_armed.sort_values(by = ['armed', 'index'], ascending=[False, False], inplace = True)\r\n",
        "race_armed = race_armed.rename(columns={\"index\": \"count\"})\r\n",
        "race_armed.head(3)"
      ],
      "execution_count": 117,
      "outputs": [
        {
          "output_type": "execute_result",
          "data": {
            "text/html": [
              "<div>\n",
              "<style scoped>\n",
              "    .dataframe tbody tr th:only-of-type {\n",
              "        vertical-align: middle;\n",
              "    }\n",
              "\n",
              "    .dataframe tbody tr th {\n",
              "        vertical-align: top;\n",
              "    }\n",
              "\n",
              "    .dataframe thead th {\n",
              "        text-align: right;\n",
              "    }\n",
              "</style>\n",
              "<table border=\"1\" class=\"dataframe\">\n",
              "  <thead>\n",
              "    <tr style=\"text-align: right;\">\n",
              "      <th></th>\n",
              "      <th>race</th>\n",
              "      <th>armed</th>\n",
              "      <th>count</th>\n",
              "    </tr>\n",
              "  </thead>\n",
              "  <tbody>\n",
              "    <tr>\n",
              "      <th>10</th>\n",
              "      <td>White</td>\n",
              "      <td>True</td>\n",
              "      <td>962</td>\n",
              "    </tr>\n",
              "    <tr>\n",
              "      <th>2</th>\n",
              "      <td>Black</td>\n",
              "      <td>True</td>\n",
              "      <td>467</td>\n",
              "    </tr>\n",
              "    <tr>\n",
              "      <th>4</th>\n",
              "      <td>Hispanic</td>\n",
              "      <td>True</td>\n",
              "      <td>326</td>\n",
              "    </tr>\n",
              "  </tbody>\n",
              "</table>\n",
              "</div>"
            ],
            "text/plain": [
              "        race  armed  count\n",
              "10     White   True    962\n",
              "2      Black   True    467\n",
              "4   Hispanic   True    326"
            ]
          },
          "metadata": {
            "tags": []
          },
          "execution_count": 117
        }
      ]
    },
    {
      "cell_type": "markdown",
      "metadata": {
        "id": "WTMCEk2pfAXg"
      },
      "source": [
        "Since the racial composition of the United States is not equal, we will once again need to work with proportions"
      ]
    },
    {
      "cell_type": "code",
      "metadata": {
        "colab": {
          "base_uri": "https://localhost:8080/",
          "height": 166
        },
        "id": "Z8CvqXZtiVOa",
        "outputId": "49d92e42-4c14-4c74-9bb8-5c7a6aebbe92"
      },
      "source": [
        "# Calculating the proportion of armed and unarmed police shootings\r\n",
        "rate_race_armed = race_armed.pivot('race', 'armed', 'count').apply(lambda x: x/x.sum(), axis = 1).sort_values(by = True).dropna()\r\n",
        "rate_race_armed.head(3)"
      ],
      "execution_count": 118,
      "outputs": [
        {
          "output_type": "execute_result",
          "data": {
            "text/html": [
              "<div>\n",
              "<style scoped>\n",
              "    .dataframe tbody tr th:only-of-type {\n",
              "        vertical-align: middle;\n",
              "    }\n",
              "\n",
              "    .dataframe tbody tr th {\n",
              "        vertical-align: top;\n",
              "    }\n",
              "\n",
              "    .dataframe thead th {\n",
              "        text-align: right;\n",
              "    }\n",
              "</style>\n",
              "<table border=\"1\" class=\"dataframe\">\n",
              "  <thead>\n",
              "    <tr style=\"text-align: right;\">\n",
              "      <th>armed</th>\n",
              "      <th>False</th>\n",
              "      <th>True</th>\n",
              "    </tr>\n",
              "    <tr>\n",
              "      <th>race</th>\n",
              "      <th></th>\n",
              "      <th></th>\n",
              "    </tr>\n",
              "  </thead>\n",
              "  <tbody>\n",
              "    <tr>\n",
              "      <th>Other</th>\n",
              "      <td>0.142857</td>\n",
              "      <td>0.857143</td>\n",
              "    </tr>\n",
              "    <tr>\n",
              "      <th>Black</th>\n",
              "      <td>0.107075</td>\n",
              "      <td>0.892925</td>\n",
              "    </tr>\n",
              "    <tr>\n",
              "      <th>Hispanic</th>\n",
              "      <td>0.081690</td>\n",
              "      <td>0.918310</td>\n",
              "    </tr>\n",
              "  </tbody>\n",
              "</table>\n",
              "</div>"
            ],
            "text/plain": [
              "armed        False     True \n",
              "race                        \n",
              "Other     0.142857  0.857143\n",
              "Black     0.107075  0.892925\n",
              "Hispanic  0.081690  0.918310"
            ]
          },
          "metadata": {
            "tags": []
          },
          "execution_count": 118
        }
      ]
    },
    {
      "cell_type": "markdown",
      "metadata": {
        "id": "DRk0ljSCfjPj"
      },
      "source": [
        "We can already see, that the biggest proportion of armed victims are white, but let us plot the results, to have a better understanding of the scale"
      ]
    },
    {
      "cell_type": "code",
      "metadata": {
        "id": "7eX5hrR3fGLx",
        "outputId": "c2b1af13-e282-4aef-aedc-d7705c1252d7",
        "colab": {
          "base_uri": "https://localhost:8080/",
          "height": 447
        }
      },
      "source": [
        "# Plotting the results\r\n",
        "fig, ax = plt.subplots(figsize = (10,7))\r\n",
        "rate_race_armed[False].plot(kind = 'barh', stacked = True,ax = ax).legend(loc='center left', \r\n",
        "                                                      bbox_to_anchor=(1.25, 0.5), ncol=1, title='Armed')\r\n",
        "\r\n",
        "plt.xticks(np.arange(0,np.max(rate_race_armed[False])+0.01,0.01))\r\n",
        "\r\n",
        "for i in ax.patches:\r\n",
        "    ax.text(i.get_width()+.005, i.get_y()+.25, \\\r\n",
        "            str(round((i.get_width()*100), 2))+'%', fontsize=11)\r\n",
        "\r\n",
        "# Invert for largest on top \r\n",
        "ax.invert_yaxis()\r\n",
        "\r\n",
        "plt.title('Pencentage of unarmed shot by police')\r\n",
        "plt.show()"
      ],
      "execution_count": 259,
      "outputs": [
        {
          "output_type": "display_data",
          "data": {
            "image/png": "[encoded data removed]",
            "text/plain": [
              "<Figure size 720x504 with 1 Axes>"
            ]
          },
          "metadata": {
            "tags": []
          }
        }
      ]
    },
    {
      "cell_type": "markdown",
      "metadata": {
        "id": "euZPLqh8924b"
      },
      "source": [
        "After analysing this graph, we can see that only about 6% of white people were shot unarmed, white the rate for black people is almost double at about 11%"
      ]
    },
    {
      "cell_type": "markdown",
      "metadata": {
        "id": "Oh3BW88Jxuqy"
      },
      "source": [
        "Judging by the results, there is a clear racial problem in the police force of the United States. Individual states should look into more training and raising awareness of this problem"
      ]
    },
    {
      "cell_type": "markdown",
      "metadata": {
        "id": "sgd7IoewUqyk"
      },
      "source": [
        "## Dimensionality reduction"
      ]
    },
    {
      "cell_type": "markdown",
      "metadata": {
        "id": "e5Z1g2F6x8qO"
      },
      "source": [
        "Next, let us examine the data with dimensionality reduction and see whether the analysis forms distinct clusters of data"
      ]
    },
    {
      "cell_type": "markdown",
      "metadata": {
        "id": "YU9IHcNaCfGr"
      },
      "source": [
        "### Preprocessing data for PCA and t-SNE"
      ]
    },
    {
      "cell_type": "markdown",
      "metadata": {
        "id": "by08vScIyZoi"
      },
      "source": [
        "Looking at the data to see if we can do dimensionality reduction"
      ]
    },
    {
      "cell_type": "code",
      "metadata": {
        "colab": {
          "base_uri": "https://localhost:8080/"
        },
        "id": "NjLJqR2DEGkg",
        "outputId": "231a7c82-f742-431a-ffe0-b973d205f859"
      },
      "source": [
        "clean_df.info()"
      ],
      "execution_count": 120,
      "outputs": [
        {
          "output_type": "stream",
          "text": [
            "<class 'pandas.core.frame.DataFrame'>\n",
            "RangeIndex: 1986 entries, 0 to 1985\n",
            "Data columns (total 14 columns):\n",
            " #   Column                   Non-Null Count  Dtype         \n",
            "---  ------                   --------------  -----         \n",
            " 0   index                    1986 non-null   int64         \n",
            " 1   name                     1986 non-null   object        \n",
            " 2   date                     1986 non-null   datetime64[ns]\n",
            " 3   manner_of_death          1986 non-null   object        \n",
            " 4   armed                    1986 non-null   bool          \n",
            " 5   age                      1986 non-null   float64       \n",
            " 6   gender                   1986 non-null   object        \n",
            " 7   race                     1986 non-null   object        \n",
            " 8   city                     1986 non-null   object        \n",
            " 9   state                    1986 non-null   object        \n",
            " 10  signs_of_mental_illness  1986 non-null   bool          \n",
            " 11  threat_level             1986 non-null   object        \n",
            " 12  flee                     1986 non-null   object        \n",
            " 13  body_camera              1986 non-null   bool          \n",
            "dtypes: bool(3), datetime64[ns](1), float64(1), int64(1), object(8)\n",
            "memory usage: 176.6+ KB\n"
          ],
          "name": "stdout"
        }
      ]
    },
    {
      "cell_type": "markdown",
      "metadata": {
        "id": "2mdeyIu4yrzO"
      },
      "source": [
        "As we can see, most of the data is non-numerical, so we will need to encode the data"
      ]
    },
    {
      "cell_type": "code",
      "metadata": {
        "colab": {
          "base_uri": "https://localhost:8080/",
          "height": 136
        },
        "id": "SpxfWcxl8AUv",
        "outputId": "4640aff9-e1d6-4c1b-fe2f-e0d95b75d8af"
      },
      "source": [
        "# Encoding text and bool values to integers as you can only perform dimensionality reduction on numerical values\r\n",
        "encoded_df = pd.get_dummies(clean_df.filter(['manner_of_death',\r\n",
        "                            'signs_of_mental_illness', 'armed', 'race'\r\n",
        "                            ]))\r\n",
        "\r\n",
        "encoded_df.head(3)"
      ],
      "execution_count": 121,
      "outputs": [
        {
          "output_type": "execute_result",
          "data": {
            "text/html": [
              "<div>\n",
              "<style scoped>\n",
              "    .dataframe tbody tr th:only-of-type {\n",
              "        vertical-align: middle;\n",
              "    }\n",
              "\n",
              "    .dataframe tbody tr th {\n",
              "        vertical-align: top;\n",
              "    }\n",
              "\n",
              "    .dataframe thead th {\n",
              "        text-align: right;\n",
              "    }\n",
              "</style>\n",
              "<table border=\"1\" class=\"dataframe\">\n",
              "  <thead>\n",
              "    <tr style=\"text-align: right;\">\n",
              "      <th></th>\n",
              "      <th>signs_of_mental_illness</th>\n",
              "      <th>armed</th>\n",
              "      <th>manner_of_death_shot</th>\n",
              "      <th>manner_of_death_shot and Tasered</th>\n",
              "      <th>race_Asian</th>\n",
              "      <th>race_Black</th>\n",
              "      <th>race_Hispanic</th>\n",
              "      <th>race_Native</th>\n",
              "      <th>race_Other</th>\n",
              "      <th>race_White</th>\n",
              "    </tr>\n",
              "  </thead>\n",
              "  <tbody>\n",
              "    <tr>\n",
              "      <th>0</th>\n",
              "      <td>True</td>\n",
              "      <td>True</td>\n",
              "      <td>1</td>\n",
              "      <td>0</td>\n",
              "      <td>1</td>\n",
              "      <td>0</td>\n",
              "      <td>0</td>\n",
              "      <td>0</td>\n",
              "      <td>0</td>\n",
              "      <td>0</td>\n",
              "    </tr>\n",
              "    <tr>\n",
              "      <th>1</th>\n",
              "      <td>False</td>\n",
              "      <td>True</td>\n",
              "      <td>1</td>\n",
              "      <td>0</td>\n",
              "      <td>0</td>\n",
              "      <td>0</td>\n",
              "      <td>0</td>\n",
              "      <td>0</td>\n",
              "      <td>0</td>\n",
              "      <td>1</td>\n",
              "    </tr>\n",
              "    <tr>\n",
              "      <th>2</th>\n",
              "      <td>False</td>\n",
              "      <td>False</td>\n",
              "      <td>0</td>\n",
              "      <td>1</td>\n",
              "      <td>0</td>\n",
              "      <td>0</td>\n",
              "      <td>1</td>\n",
              "      <td>0</td>\n",
              "      <td>0</td>\n",
              "      <td>0</td>\n",
              "    </tr>\n",
              "  </tbody>\n",
              "</table>\n",
              "</div>"
            ],
            "text/plain": [
              "   signs_of_mental_illness  armed  ...  race_Other  race_White\n",
              "0                     True   True  ...           0           0\n",
              "1                    False   True  ...           0           1\n",
              "2                    False  False  ...           0           0\n",
              "\n",
              "[3 rows x 10 columns]"
            ]
          },
          "metadata": {
            "tags": []
          },
          "execution_count": 121
        }
      ]
    },
    {
      "cell_type": "markdown",
      "metadata": {
        "id": "RjnWx46CB4tn"
      },
      "source": [
        "### Principal component analysis"
      ]
    },
    {
      "cell_type": "code",
      "metadata": {
        "colab": {
          "base_uri": "https://localhost:8080/"
        },
        "id": "HOkLKEbIGHNU",
        "outputId": "d2110e44-a307-4aa4-c5d5-9321f9adbae9"
      },
      "source": [
        "# Calculating the maximum number of principal components\r\n",
        "max_principal_components = min(len(encoded_df.columns), len(encoded_df))\r\n",
        "print(f\"The maximum number of principal components: {min(len(encoded_df.columns), len(encoded_df))}\")"
      ],
      "execution_count": 122,
      "outputs": [
        {
          "output_type": "stream",
          "text": [
            "The maximum number of principal components: 10\n"
          ],
          "name": "stdout"
        }
      ]
    },
    {
      "cell_type": "code",
      "metadata": {
        "colab": {
          "base_uri": "https://localhost:8080/"
        },
        "id": "DkBMIRQjGQLN",
        "outputId": "d3b350e4-6dba-4450-dbc4-61e79e2480bf"
      },
      "source": [
        "# Performing random PCA on encoded data, to find the optimal number of principal components\r\n",
        "from sklearn.decomposition import PCA as RandomizedPCA\r\n",
        "pca = RandomizedPCA(max_principal_components)\r\n",
        "pca.fit(encoded_df)"
      ],
      "execution_count": 146,
      "outputs": [
        {
          "output_type": "execute_result",
          "data": {
            "text/plain": [
              "PCA(copy=True, iterated_power='auto', n_components=10, random_state=None,\n",
              "    svd_solver='auto', tol=0.0, whiten=False)"
            ]
          },
          "metadata": {
            "tags": []
          },
          "execution_count": 146
        }
      ]
    },
    {
      "cell_type": "code",
      "metadata": {
        "colab": {
          "base_uri": "https://localhost:8080/",
          "height": 285
        },
        "id": "-kayBiImGZOq",
        "outputId": "a6dfb065-a87d-45f8-8cc5-c274ac2fcee9"
      },
      "source": [
        "# Plotting the cumulative explained variance by the number of components to find the 'elbow'\r\n",
        "plt.plot(np.cumsum(pca.explained_variance_ratio_))\r\n",
        "plt.xlabel('number of components')\r\n",
        "plt.ylabel('cumulative explained variance');\r\n",
        "plt.xticks(range(10), range(1,11))\r\n",
        "plt.scatter(4, np.cumsum(pca.explained_variance_ratio_)[4], color='r')\r\n",
        "plt.show()"
      ],
      "execution_count": 153,
      "outputs": [
        {
          "output_type": "display_data",
          "data": {
            "image/png": "[encoded data removed]",
            "text/plain": [
              "<Figure size 432x288 with 1 Axes>"
            ]
          },
          "metadata": {
            "tags": []
          }
        }
      ]
    },
    {
      "cell_type": "markdown",
      "metadata": {
        "id": "42e2Hm3f0GTx"
      },
      "source": [
        "Judging by the graph and since we need to capture at least 90% of the cumulative explained variance, I believe the optimal number of principal components is 5"
      ]
    },
    {
      "cell_type": "code",
      "metadata": {
        "colab": {
          "base_uri": "https://localhost:8080/"
        },
        "id": "cscenkH1B8R2",
        "outputId": "eff2b8c1-b778-44f1-df75-5a2783c22784"
      },
      "source": [
        "from sklearn.decomposition import PCA\r\n",
        "pca = PCA(n_components=5)\r\n",
        "pca.fit(encoded_df)"
      ],
      "execution_count": 154,
      "outputs": [
        {
          "output_type": "execute_result",
          "data": {
            "text/plain": [
              "PCA(copy=True, iterated_power='auto', n_components=5, random_state=None,\n",
              "    svd_solver='auto', tol=0.0, whiten=False)"
            ]
          },
          "metadata": {
            "tags": []
          },
          "execution_count": 154
        }
      ]
    },
    {
      "cell_type": "code",
      "metadata": {
        "colab": {
          "base_uri": "https://localhost:8080/"
        },
        "id": "7E5u87clCaMZ",
        "outputId": "766b6e78-3d4d-4d77-bc67-bccc3d69c2a9"
      },
      "source": [
        "# Calculating variance explained by 5 principal components\r\n",
        "print(f\"The 5 components account for {round(np.sum(pca.explained_variance_ratio_), 2)*100}% variance\")"
      ],
      "execution_count": 155,
      "outputs": [
        {
          "output_type": "stream",
          "text": [
            "The 5 components account for 94.0% variance\n"
          ],
          "name": "stdout"
        }
      ]
    },
    {
      "cell_type": "markdown",
      "metadata": {
        "id": "zeDkR70FmBNH"
      },
      "source": [
        "Since we would also like to visualise the data, I will repeat PCA with only two components"
      ]
    },
    {
      "cell_type": "code",
      "metadata": {
        "id": "PBZ7FSolBSkh"
      },
      "source": [
        "# repeating PCA with only 2 components to be able to plot it\r\n",
        "pca = PCA(n_components=2)\r\n",
        "pca.fit(encoded_df)\r\n",
        "x_pca = pca.fit_transform(encoded_df)"
      ],
      "execution_count": 158,
      "outputs": []
    },
    {
      "cell_type": "code",
      "metadata": {
        "colab": {
          "base_uri": "https://localhost:8080/",
          "height": 628
        },
        "id": "ETevqbajBMTw",
        "outputId": "b0270765-93bc-4b0c-a2e9-d1084a4c7925"
      },
      "source": [
        "# Plotting the results\r\n",
        "plt.figure(figsize=(10, 10))\r\n",
        "plt.xlabel('Principal component 1')\r\n",
        "plt.ylabel('Principal component 2');\r\n",
        "sns.scatterplot(x = x_pca[:, 0], y = x_pca[:, 1], hue=clean_df.race).legend(loc='center left', bbox_to_anchor=(1.25, 0.5), ncol=1, title='Race')"
      ],
      "execution_count": 161,
      "outputs": [
        {
          "output_type": "execute_result",
          "data": {
            "text/plain": [
              "<matplotlib.legend.Legend at 0x7f667d0d82e8>"
            ]
          },
          "metadata": {
            "tags": []
          },
          "execution_count": 161
        },
        {
          "output_type": "display_data",
          "data": {
            "image/png": "[encoded data removed]",
            "text/plain": [
              "<Figure size 720x720 with 1 Axes>"
            ]
          },
          "metadata": {
            "tags": []
          }
        }
      ]
    },
    {
      "cell_type": "code",
      "metadata": {
        "colab": {
          "base_uri": "https://localhost:8080/"
        },
        "id": "IokYQ0laDhI0",
        "outputId": "2f35f92e-d9c0-4c76-c390-0cb5828fddee"
      },
      "source": [
        "print(f\"The 2 components account for {round(np.sum(pca.explained_variance_ratio_), 2)*100}% variance\")"
      ],
      "execution_count": 160,
      "outputs": [
        {
          "output_type": "stream",
          "text": [
            "The 2 components account for 57.99999999999999% variance\n"
          ],
          "name": "stdout"
        }
      ]
    },
    {
      "cell_type": "markdown",
      "metadata": {
        "id": "KC2rlcT2_lcG"
      },
      "source": [
        "As we can see, principal component analysis forms four distinct clusters of data"
      ]
    },
    {
      "cell_type": "markdown",
      "metadata": {
        "id": "M6wzmzcrwaxv"
      },
      "source": [
        "### t-SNE"
      ]
    },
    {
      "cell_type": "code",
      "metadata": {
        "id": "5xBvvL0BwaAF"
      },
      "source": [
        "# Performing t-SNE on the same encoded values and visualising the result\r\n",
        "\r\n",
        "from sklearn.manifold import TSNE\r\n",
        "tsne = TSNE(n_components=2).fit_transform(encoded_df)"
      ],
      "execution_count": 129,
      "outputs": []
    },
    {
      "cell_type": "code",
      "metadata": {
        "colab": {
          "base_uri": "https://localhost:8080/",
          "height": 289
        },
        "id": "kQcIbdaby4PO",
        "outputId": "15af8597-4137-4f35-ab29-6f2f3f9f0527"
      },
      "source": [
        "sns.scatterplot(x = tsne[:, 0], y = tsne[:, 1], hue=clean_df.race).legend(loc='center left', bbox_to_anchor=(1.25, 0.5), ncol=1, title='race')"
      ],
      "execution_count": 260,
      "outputs": [
        {
          "output_type": "execute_result",
          "data": {
            "text/plain": [
              "<matplotlib.legend.Legend at 0x7f667affd668>"
            ]
          },
          "metadata": {
            "tags": []
          },
          "execution_count": 260
        },
        {
          "output_type": "display_data",
          "data": {
            "image/png": "[encoded data removed]",
            "text/plain": [
              "<Figure size 432x288 with 1 Axes>"
            ]
          },
          "metadata": {
            "tags": []
          }
        }
      ]
    },
    {
      "cell_type": "markdown",
      "metadata": {
        "id": "NyGb_Af3FV9l"
      },
      "source": [
        "<a name=\"cluster_analysis\"></a>\r\n",
        "## Cluster analysis"
      ]
    },
    {
      "cell_type": "markdown",
      "metadata": {
        "id": "9RvHuPmlcnDD"
      },
      "source": [
        "Performing cluster analysis on the data to group and analyse similar shootings"
      ]
    },
    {
      "cell_type": "code",
      "metadata": {
        "colab": {
          "base_uri": "https://localhost:8080/"
        },
        "id": "oXg5VPdk4sWr",
        "outputId": "e79eb629-7df1-4ebb-fea1-4ad2bf9d58bb"
      },
      "source": [
        "clean_df.info()"
      ],
      "execution_count": 131,
      "outputs": [
        {
          "output_type": "stream",
          "text": [
            "<class 'pandas.core.frame.DataFrame'>\n",
            "RangeIndex: 1986 entries, 0 to 1985\n",
            "Data columns (total 14 columns):\n",
            " #   Column                   Non-Null Count  Dtype         \n",
            "---  ------                   --------------  -----         \n",
            " 0   index                    1986 non-null   int64         \n",
            " 1   name                     1986 non-null   object        \n",
            " 2   date                     1986 non-null   datetime64[ns]\n",
            " 3   manner_of_death          1986 non-null   object        \n",
            " 4   armed                    1986 non-null   bool          \n",
            " 5   age                      1986 non-null   float64       \n",
            " 6   gender                   1986 non-null   object        \n",
            " 7   race                     1986 non-null   object        \n",
            " 8   city                     1986 non-null   object        \n",
            " 9   state                    1986 non-null   object        \n",
            " 10  signs_of_mental_illness  1986 non-null   bool          \n",
            " 11  threat_level             1986 non-null   object        \n",
            " 12  flee                     1986 non-null   object        \n",
            " 13  body_camera              1986 non-null   bool          \n",
            "dtypes: bool(3), datetime64[ns](1), float64(1), int64(1), object(8)\n",
            "memory usage: 176.6+ KB\n"
          ],
          "name": "stdout"
        }
      ]
    },
    {
      "cell_type": "code",
      "metadata": {
        "id": "7iUUc2Ox4q-Q"
      },
      "source": [
        "# Encoding string data to numeric for clustering\r\n",
        "X = pd.get_dummies(clean_df.filter(['manner_of_death', 'signs_of_mental_illness', 'armed', 'race', 'flee', 'gender']))"
      ],
      "execution_count": 132,
      "outputs": []
    },
    {
      "cell_type": "markdown",
      "metadata": {
        "id": "ctCkuOirdQPb"
      },
      "source": [
        "Since we're doing KMeans clustering, we need to determine the optimal k"
      ]
    },
    {
      "cell_type": "code",
      "metadata": {
        "colab": {
          "base_uri": "https://localhost:8080/",
          "height": 301
        },
        "id": "ZaGmmpzLFa6S",
        "outputId": "42004086-f00a-4c83-c5b7-d60ee0ad1ce5"
      },
      "source": [
        "from sklearn.cluster import KMeans\r\n",
        "\r\n",
        "Sum_of_squared_distances = []\r\n",
        "K = range(1,15)\r\n",
        "for k in K:\r\n",
        "    km = KMeans(n_clusters=k)\r\n",
        "    km = km.fit(X)\r\n",
        "    Sum_of_squared_distances.append(km.inertia_)\r\n",
        "\r\n",
        "\r\n",
        "# Plotting the sum of square distances by k to find optimal k\r\n",
        "plt.grid()\r\n",
        "plt.xticks(range(15))\r\n",
        "plt.plot(K, Sum_of_squared_distances, 'bx-')\r\n",
        "plt.xlabel('k')\r\n",
        "plt.ylabel('Sum of squared distances')\r\n",
        "plt.title('Elbow Method For Optimal k')\r\n",
        "plt.scatter(9, Sum_of_squared_distances[8], color='r')\r\n",
        "plt.show()"
      ],
      "execution_count": 133,
      "outputs": [
        {
          "output_type": "display_data",
          "data": {
            "image/png": "[encoded data removed]",
            "text/plain": [
              "<Figure size 432x288 with 1 Axes>"
            ]
          },
          "metadata": {
            "tags": []
          }
        }
      ]
    },
    {
      "cell_type": "markdown",
      "metadata": {
        "id": "1E21DYc1738s"
      },
      "source": [
        "Judging by the graph, the optimal k is either at 4 or 9, but I would like to have more separation between clusters, so I will perform k-means clustering with the k of 9"
      ]
    },
    {
      "cell_type": "code",
      "metadata": {
        "colab": {
          "base_uri": "https://localhost:8080/"
        },
        "id": "Ukq2qEZhHD34",
        "outputId": "723c348c-1f77-4794-bb9d-b2b3c06ebaa4"
      },
      "source": [
        "# Performing k-means clustering with the optimal k of 9\r\n",
        "from sklearn.cluster import KMeans\r\n",
        "\r\n",
        "kmeans = KMeans(n_clusters=9, random_state=42)\r\n",
        "clusters = kmeans.fit_predict(X)\r\n",
        "clusters"
      ],
      "execution_count": 134,
      "outputs": [
        {
          "output_type": "execute_result",
          "data": {
            "text/plain": [
              "array([4, 1, 0, ..., 1, 2, 7], dtype=int32)"
            ]
          },
          "metadata": {
            "tags": []
          },
          "execution_count": 134
        }
      ]
    },
    {
      "cell_type": "markdown",
      "metadata": {
        "id": "ETBZU7WG8Qz8"
      },
      "source": [
        "Now that we have the clusters of similar shootings, let us convert the case id's to  something more understandable"
      ]
    },
    {
      "cell_type": "code",
      "metadata": {
        "colab": {
          "base_uri": "https://localhost:8080/"
        },
        "id": "FyuTVhhpQgGJ",
        "outputId": "c5a62a2c-a9cb-4db8-e4f4-8269700f9efc"
      },
      "source": [
        "# Making the clusters understandable by converting cluster id to the index in the original dataframe\r\n",
        "similar_shootings = []\r\n",
        "\r\n",
        "for num in range(np.max(clusters)+1):\r\n",
        "  similar_shootings.append(np.squeeze(np.where(clusters == num)))\r\n",
        "\r\n",
        "similar_shootings[0][:10]"
      ],
      "execution_count": 135,
      "outputs": [
        {
          "output_type": "execute_result",
          "data": {
            "text/plain": [
              "array([  2,  10,  23,  38,  43,  51,  68,  74,  99, 111])"
            ]
          },
          "metadata": {
            "tags": []
          },
          "execution_count": 135
        }
      ]
    },
    {
      "cell_type": "markdown",
      "metadata": {
        "id": "F0pIMD5T9DBn"
      },
      "source": [
        "Next, I will count the unique values of each cluster to see how similar are the samples in each cluster"
      ]
    },
    {
      "cell_type": "code",
      "metadata": {
        "colab": {
          "base_uri": "https://localhost:8080/",
          "height": 314
        },
        "id": "WnHcGQxnxX4T",
        "outputId": "df0c3e8d-8ddd-4227-fe81-9d803bb3ae25"
      },
      "source": [
        "# Iterating through each cluster, counting unique values for every column and adding them to a list (DataFrame)\r\n",
        "clusters_unique_counts = pd.DataFrame()\r\n",
        "\r\n",
        "for cluster in similar_shootings:\r\n",
        "  current_cluster = pd.DataFrame()\r\n",
        "  for id in cluster:\r\n",
        "    current_cluster[id] = clean_df.iloc[id].drop(['index', 'date', 'name'])\r\n",
        "\r\n",
        "  clusters_unique_counts = clusters_unique_counts.append(current_cluster.T.describe().T['unique'].to_frame().T)\r\n",
        "\r\n",
        "clusters_unique_counts"
      ],
      "execution_count": 136,
      "outputs": [
        {
          "output_type": "execute_result",
          "data": {
            "text/html": [
              "<div>\n",
              "<style scoped>\n",
              "    .dataframe tbody tr th:only-of-type {\n",
              "        vertical-align: middle;\n",
              "    }\n",
              "\n",
              "    .dataframe tbody tr th {\n",
              "        vertical-align: top;\n",
              "    }\n",
              "\n",
              "    .dataframe thead th {\n",
              "        text-align: right;\n",
              "    }\n",
              "</style>\n",
              "<table border=\"1\" class=\"dataframe\">\n",
              "  <thead>\n",
              "    <tr style=\"text-align: right;\">\n",
              "      <th></th>\n",
              "      <th>manner_of_death</th>\n",
              "      <th>armed</th>\n",
              "      <th>age</th>\n",
              "      <th>gender</th>\n",
              "      <th>race</th>\n",
              "      <th>city</th>\n",
              "      <th>state</th>\n",
              "      <th>signs_of_mental_illness</th>\n",
              "      <th>threat_level</th>\n",
              "      <th>flee</th>\n",
              "      <th>body_camera</th>\n",
              "    </tr>\n",
              "  </thead>\n",
              "  <tbody>\n",
              "    <tr>\n",
              "      <th>unique</th>\n",
              "      <td>1</td>\n",
              "      <td>2</td>\n",
              "      <td>46</td>\n",
              "      <td>2</td>\n",
              "      <td>5</td>\n",
              "      <td>110</td>\n",
              "      <td>33</td>\n",
              "      <td>2</td>\n",
              "      <td>3</td>\n",
              "      <td>4</td>\n",
              "      <td>2</td>\n",
              "    </tr>\n",
              "    <tr>\n",
              "      <th>unique</th>\n",
              "      <td>1</td>\n",
              "      <td>2</td>\n",
              "      <td>60</td>\n",
              "      <td>2</td>\n",
              "      <td>4</td>\n",
              "      <td>421</td>\n",
              "      <td>48</td>\n",
              "      <td>1</td>\n",
              "      <td>3</td>\n",
              "      <td>2</td>\n",
              "      <td>2</td>\n",
              "    </tr>\n",
              "    <tr>\n",
              "      <th>unique</th>\n",
              "      <td>1</td>\n",
              "      <td>2</td>\n",
              "      <td>52</td>\n",
              "      <td>2</td>\n",
              "      <td>1</td>\n",
              "      <td>213</td>\n",
              "      <td>39</td>\n",
              "      <td>2</td>\n",
              "      <td>3</td>\n",
              "      <td>2</td>\n",
              "      <td>2</td>\n",
              "    </tr>\n",
              "    <tr>\n",
              "      <th>unique</th>\n",
              "      <td>1</td>\n",
              "      <td>2</td>\n",
              "      <td>50</td>\n",
              "      <td>2</td>\n",
              "      <td>2</td>\n",
              "      <td>216</td>\n",
              "      <td>30</td>\n",
              "      <td>2</td>\n",
              "      <td>3</td>\n",
              "      <td>4</td>\n",
              "      <td>2</td>\n",
              "    </tr>\n",
              "    <tr>\n",
              "      <th>unique</th>\n",
              "      <td>1</td>\n",
              "      <td>2</td>\n",
              "      <td>55</td>\n",
              "      <td>2</td>\n",
              "      <td>4</td>\n",
              "      <td>254</td>\n",
              "      <td>46</td>\n",
              "      <td>1</td>\n",
              "      <td>3</td>\n",
              "      <td>2</td>\n",
              "      <td>2</td>\n",
              "    </tr>\n",
              "    <tr>\n",
              "      <th>unique</th>\n",
              "      <td>2</td>\n",
              "      <td>2</td>\n",
              "      <td>46</td>\n",
              "      <td>2</td>\n",
              "      <td>4</td>\n",
              "      <td>148</td>\n",
              "      <td>38</td>\n",
              "      <td>2</td>\n",
              "      <td>3</td>\n",
              "      <td>1</td>\n",
              "      <td>2</td>\n",
              "    </tr>\n",
              "    <tr>\n",
              "      <th>unique</th>\n",
              "      <td>2</td>\n",
              "      <td>2</td>\n",
              "      <td>32</td>\n",
              "      <td>2</td>\n",
              "      <td>1</td>\n",
              "      <td>75</td>\n",
              "      <td>28</td>\n",
              "      <td>2</td>\n",
              "      <td>3</td>\n",
              "      <td>1</td>\n",
              "      <td>2</td>\n",
              "    </tr>\n",
              "    <tr>\n",
              "      <th>unique</th>\n",
              "      <td>2</td>\n",
              "      <td>2</td>\n",
              "      <td>33</td>\n",
              "      <td>2</td>\n",
              "      <td>4</td>\n",
              "      <td>80</td>\n",
              "      <td>31</td>\n",
              "      <td>2</td>\n",
              "      <td>3</td>\n",
              "      <td>1</td>\n",
              "      <td>2</td>\n",
              "    </tr>\n",
              "    <tr>\n",
              "      <th>unique</th>\n",
              "      <td>2</td>\n",
              "      <td>2</td>\n",
              "      <td>37</td>\n",
              "      <td>1</td>\n",
              "      <td>1</td>\n",
              "      <td>84</td>\n",
              "      <td>33</td>\n",
              "      <td>2</td>\n",
              "      <td>3</td>\n",
              "      <td>1</td>\n",
              "      <td>2</td>\n",
              "    </tr>\n",
              "  </tbody>\n",
              "</table>\n",
              "</div>"
            ],
            "text/plain": [
              "       manner_of_death armed age  ... threat_level flee body_camera\n",
              "unique               1     2  46  ...            3    4           2\n",
              "unique               1     2  60  ...            3    2           2\n",
              "unique               1     2  52  ...            3    2           2\n",
              "unique               1     2  50  ...            3    4           2\n",
              "unique               1     2  55  ...            3    2           2\n",
              "unique               2     2  46  ...            3    1           2\n",
              "unique               2     2  32  ...            3    1           2\n",
              "unique               2     2  33  ...            3    1           2\n",
              "unique               2     2  37  ...            3    1           2\n",
              "\n",
              "[9 rows x 11 columns]"
            ]
          },
          "metadata": {
            "tags": []
          },
          "execution_count": 136
        }
      ]
    },
    {
      "cell_type": "markdown",
      "metadata": {
        "id": "cmLvgHuS9kRP"
      },
      "source": [
        "The resulting DataFrame has a row for each cluster and each row has a count for every unique value in each column. This helps us see how the samples are similar. For example, if a row has a column with a unique count of 1, the samples in that cluster all share the same value for that column"
      ]
    },
    {
      "cell_type": "markdown",
      "metadata": {
        "id": "BsrwMSG7CSmH"
      },
      "source": [
        "For instance, let us examine the second cluster. From the unique value counts we know, that samples in this cluster have the same matter of death and mental state. \r\n",
        "\r\n",
        "Let us explore what those values are"
      ]
    },
    {
      "cell_type": "code",
      "metadata": {
        "colab": {
          "base_uri": "https://localhost:8080/",
          "height": 136
        },
        "id": "zrg63MfOCT4L",
        "outputId": "5588c949-3453-4136-9c62-87a6f6987aa1"
      },
      "source": [
        "current_cluster = pd.DataFrame()\r\n",
        "for id in similar_shootings[1]:\r\n",
        "  current_cluster[id] = clean_df.iloc[id].drop(['index', 'date', 'name'])\r\n",
        "\r\n",
        "current_cluster.T.head(3)"
      ],
      "execution_count": 137,
      "outputs": [
        {
          "output_type": "execute_result",
          "data": {
            "text/html": [
              "<div>\n",
              "<style scoped>\n",
              "    .dataframe tbody tr th:only-of-type {\n",
              "        vertical-align: middle;\n",
              "    }\n",
              "\n",
              "    .dataframe tbody tr th {\n",
              "        vertical-align: top;\n",
              "    }\n",
              "\n",
              "    .dataframe thead th {\n",
              "        text-align: right;\n",
              "    }\n",
              "</style>\n",
              "<table border=\"1\" class=\"dataframe\">\n",
              "  <thead>\n",
              "    <tr style=\"text-align: right;\">\n",
              "      <th></th>\n",
              "      <th>manner_of_death</th>\n",
              "      <th>armed</th>\n",
              "      <th>age</th>\n",
              "      <th>gender</th>\n",
              "      <th>race</th>\n",
              "      <th>city</th>\n",
              "      <th>state</th>\n",
              "      <th>signs_of_mental_illness</th>\n",
              "      <th>threat_level</th>\n",
              "      <th>flee</th>\n",
              "      <th>body_camera</th>\n",
              "    </tr>\n",
              "  </thead>\n",
              "  <tbody>\n",
              "    <tr>\n",
              "      <th>1</th>\n",
              "      <td>shot</td>\n",
              "      <td>True</td>\n",
              "      <td>47</td>\n",
              "      <td>M</td>\n",
              "      <td>White</td>\n",
              "      <td>Aloha</td>\n",
              "      <td>OR</td>\n",
              "      <td>False</td>\n",
              "      <td>attack</td>\n",
              "      <td>Not fleeing</td>\n",
              "      <td>False</td>\n",
              "    </tr>\n",
              "    <tr>\n",
              "      <th>5</th>\n",
              "      <td>shot</td>\n",
              "      <td>True</td>\n",
              "      <td>18</td>\n",
              "      <td>M</td>\n",
              "      <td>White</td>\n",
              "      <td>Guthrie</td>\n",
              "      <td>OK</td>\n",
              "      <td>False</td>\n",
              "      <td>attack</td>\n",
              "      <td>Not fleeing</td>\n",
              "      <td>False</td>\n",
              "    </tr>\n",
              "    <tr>\n",
              "      <th>7</th>\n",
              "      <td>shot</td>\n",
              "      <td>True</td>\n",
              "      <td>35</td>\n",
              "      <td>M</td>\n",
              "      <td>White</td>\n",
              "      <td>Assaria</td>\n",
              "      <td>KS</td>\n",
              "      <td>False</td>\n",
              "      <td>attack</td>\n",
              "      <td>Not fleeing</td>\n",
              "      <td>False</td>\n",
              "    </tr>\n",
              "  </tbody>\n",
              "</table>\n",
              "</div>"
            ],
            "text/plain": [
              "  manner_of_death armed age  ... threat_level         flee body_camera\n",
              "1            shot  True  47  ...       attack  Not fleeing       False\n",
              "5            shot  True  18  ...       attack  Not fleeing       False\n",
              "7            shot  True  35  ...       attack  Not fleeing       False\n",
              "\n",
              "[3 rows x 11 columns]"
            ]
          },
          "metadata": {
            "tags": []
          },
          "execution_count": 137
        }
      ]
    },
    {
      "cell_type": "markdown",
      "metadata": {
        "id": "cYZCh8fbC86L"
      },
      "source": [
        "We can see that the samples in the second cluster were all shot and did not have signs of mental illness"
      ]
    },
    {
      "cell_type": "markdown",
      "metadata": {
        "id": "msz4qzg885WC"
      },
      "source": [
        "<a name=\"machine_learning\"></a>\r\n",
        "## Building a machine learning model to predict the race of the victim"
      ]
    },
    {
      "cell_type": "markdown",
      "metadata": {
        "id": "l2_Ic1QBEu0i"
      },
      "source": [
        "Next, I would like to see whether we can build a model to predict the race of the victim based on provided details about their death"
      ]
    },
    {
      "cell_type": "markdown",
      "metadata": {
        "id": "6JAc8u0hwyHW"
      },
      "source": [
        "Let us set a base-line for model accuracy to know if it's any better than just random guessing. For this, I will calculate the proportion of each race to see if our model is better than just guessing the most common race"
      ]
    },
    {
      "cell_type": "code",
      "metadata": {
        "id": "dJ_HhVrww_VA",
        "colab": {
          "base_uri": "https://localhost:8080/"
        },
        "outputId": "2202f542-c91d-44f8-ad15-36d56e6b6405"
      },
      "source": [
        "clean_df['race'].value_counts(normalize=True)"
      ],
      "execution_count": 138,
      "outputs": [
        {
          "output_type": "execute_result",
          "data": {
            "text/plain": [
              "White       0.514602\n",
              "Black       0.263343\n",
              "Hispanic    0.178751\n",
              "Asian       0.016113\n",
              "Other       0.014099\n",
              "Native      0.013092\n",
              "Name: race, dtype: float64"
            ]
          },
          "metadata": {
            "tags": []
          },
          "execution_count": 138
        }
      ]
    },
    {
      "cell_type": "markdown",
      "metadata": {
        "id": "jQhoFBhwyesp"
      },
      "source": [
        "We can see that the most common race is W (white) and its proportion is at 51.5%, so our model should have a better accuracy than 51.5%"
      ]
    },
    {
      "cell_type": "markdown",
      "metadata": {
        "id": "VdsrD2oTFVp6"
      },
      "source": [
        "Once again, we need to begin by encoding our categorical values"
      ]
    },
    {
      "cell_type": "code",
      "metadata": {
        "id": "DNrZQZSYANQD"
      },
      "source": [
        "# Separating and encoding data to integers\r\n",
        "from sklearn.preprocessing import LabelEncoder\r\n",
        "\r\n",
        "le = LabelEncoder()\r\n",
        "y = le.fit_transform(clean_df['race'])\r\n",
        "X = pd.get_dummies(clean_df.filter(['manner_of_death', 'signs_of_mental_illness',\r\n",
        "                                    'armed', 'flee', 'threat_level', 'state', 'gender', \r\n",
        "                                    'age', 'city']))"
      ],
      "execution_count": 139,
      "outputs": []
    },
    {
      "cell_type": "markdown",
      "metadata": {
        "id": "u7-CPECnFhOa"
      },
      "source": [
        "I will also split the dataset into training and testing sets to be able to test the final model accuracy on previously unseen data"
      ]
    },
    {
      "cell_type": "code",
      "metadata": {
        "id": "KRMRfPMo9UBj"
      },
      "source": [
        "# Splitting the dataset\r\n",
        "from sklearn.model_selection import train_test_split\r\n",
        "\r\n",
        "X_train, X_test, y_train, y_test = \\\r\n",
        "train_test_split(X, y, test_size=0.2, random_state=42)"
      ],
      "execution_count": 188,
      "outputs": []
    },
    {
      "cell_type": "markdown",
      "metadata": {
        "id": "-KI5pjyZHN6w"
      },
      "source": [
        "Next, I will train a RandomForestClassifier on the training data and test its accuracy on the unseen testing data"
      ]
    },
    {
      "cell_type": "code",
      "metadata": {
        "colab": {
          "base_uri": "https://localhost:8080/"
        },
        "id": "r7zVFVONG44Y",
        "outputId": "364a2a2e-6d94-4457-f9e3-d8b5f8b858a3"
      },
      "source": [
        "# Building a random forests classifier\r\n",
        "from sklearn.ensemble import RandomForestClassifier\r\n",
        "\r\n",
        "rfc = RandomForestClassifier(random_state=42)\r\n",
        "rfc.fit(X_train, y_train)\r\n",
        "\r\n",
        "print(f\"Model predicts with {round((rfc.score(X_test, y_test)*100), 2)}% accuracy\")"
      ],
      "execution_count": 189,
      "outputs": [
        {
          "output_type": "stream",
          "text": [
            "Model predicts with 59.32% accuracy\n"
          ],
          "name": "stdout"
        }
      ]
    },
    {
      "cell_type": "markdown",
      "metadata": {
        "id": "EypyzkCGICFm"
      },
      "source": [
        "We can see that the model predicts >60% accuracy. That is a bit better than just guessing. Finally, let us generate a classification report for our model"
      ]
    },
    {
      "cell_type": "code",
      "metadata": {
        "colab": {
          "base_uri": "https://localhost:8080/"
        },
        "id": "yO0EVgNKVb1I",
        "outputId": "df205772-3500-4b4b-e04d-04f7e96e4422"
      },
      "source": [
        "print(classification_report(y_test, rfc.predict(X_test), target_names=le.classes_))"
      ],
      "execution_count": 192,
      "outputs": [
        {
          "output_type": "stream",
          "text": [
            "              precision    recall  f1-score   support\n",
            "\n",
            "       Asian       0.00      0.00      0.00        17\n",
            "       Black       0.57      0.39      0.46       250\n",
            "    Hispanic       0.46      0.30      0.36       179\n",
            "      Native       0.00      0.00      0.00        15\n",
            "       Other       0.50      0.12      0.19        17\n",
            "       White       0.62      0.85      0.72       515\n",
            "\n",
            "    accuracy                           0.59       993\n",
            "   macro avg       0.36      0.28      0.29       993\n",
            "weighted avg       0.56      0.59      0.56       993\n",
            "\n"
          ],
          "name": "stdout"
        }
      ]
    }
  ]
}
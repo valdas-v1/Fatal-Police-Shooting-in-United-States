{
  "nbformat": 4,
  "nbformat_minor": 0,
  "metadata": {
    "kernelspec": {
      "name": "python3",
      "display_name": "Python 3.8.3 64-bit ('venv')",
      "metadata": {
        "interpreter": {
          "hash": "64bbae2be10d8b9155a828b58e2a46bb3532e0038f2e702c1a1cd38212cc45c1"
        }
      }
    },
    "language_info": {
      "codemirror_mode": {
        "name": "ipython",
        "version": 3
      },
      "file_extension": ".py",
      "mimetype": "text/x-python",
      "name": "python",
      "nbconvert_exporter": "python",
      "pygments_lexer": "ipython3",
      "version": "3.8.3-final"
    },
    "colab": {
      "name": "141.ipynb",
      "provenance": [],
      "include_colab_link": true
    }
  },
  "cells": [
    {
      "cell_type": "markdown",
      "metadata": {
        "id": "view-in-github",
        "colab_type": "text"
      },
      "source": [
        "<a href=\"https://colab.research.google.com/github/valdas-v1/Fatal-Police-Shooting-in-United-States/blob/master/notebook.ipynb\" target=\"_parent\"><img src=\"https://colab.research.google.com/assets/colab-badge.svg\" alt=\"Open In Colab\"/></a>"
      ]
    },
    {
      "cell_type": "markdown",
      "metadata": {
        "id": "DEsTLqTaQZEZ"
      },
      "source": [
        "# Fatal Police Shooting in United States"
      ]
    },
    {
      "cell_type": "markdown",
      "metadata": {
        "id": "JqNFt4O-nLiO"
      },
      "source": [
        "This project will take a look at killings that took place at the hands of police officers in the United States from the beginning of 2015 to into February 2017. The main goal is to explore the data, provide a list of issues and propose a plan on how to tackle these issues.\r\n",
        "\r\n",
        "Details about the dataset can be found [here](https://www.kaggle.com/washingtonpost/police-shootings)"
      ]
    },
    {
      "cell_type": "markdown",
      "metadata": {
        "id": "5izl-nVjQweD"
      },
      "source": [
        "## Imports and dataset cleaning"
      ]
    },
    {
      "cell_type": "markdown",
      "metadata": {
        "id": "PcUs5_KcBxBB"
      },
      "source": [
        "### Imports"
      ]
    },
    {
      "cell_type": "code",
      "metadata": {
        "id": "aHYOCwMLQYrB"
      },
      "source": [
        "# Data wrangling\r\n",
        "import pandas as pd\r\n",
        "import numpy as np\r\n",
        "\r\n",
        "# Statistics\r\n",
        "import scipy.stats as st\r\n",
        "\r\n",
        "# Visualisations\r\n",
        "import seaborn as sns\r\n",
        "sns.set_theme()\r\n",
        "import matplotlib.pyplot as plt\r\n",
        "\r\n",
        "\r\n",
        "# Custom display class that enables display of multiple objects in a single cell output\r\n",
        "class display(object):\r\n",
        "    \"\"\"Display HTML representation of multiple objects\"\"\"\r\n",
        "    template = \"\"\"<div style=\"float: left; padding: 10px;\">\r\n",
        "    <p style='font-family:\"Courier New\", Courier, monospace'>{0}</p>{1}\r\n",
        "    </div>\"\"\"\r\n",
        "    def __init__(self, *args):\r\n",
        "        self.args = args\r\n",
        "        \r\n",
        "    def _repr_html_(self):\r\n",
        "        return '\\n'.join(self.template.format(a, eval(a)._repr_html_())\r\n",
        "                         for a in self.args)\r\n",
        "    \r\n",
        "    def __repr__(self):\r\n",
        "        return '\\n\\n'.join(a + '\\n' + repr(eval(a))\r\n",
        "                           for a in self.args)"
      ],
      "execution_count": 1,
      "outputs": []
    },
    {
      "cell_type": "code",
      "metadata": {
        "colab": {
          "base_uri": "https://localhost:8080/",
          "height": 195
        },
        "id": "N8iU3w48QcmG",
        "outputId": "20b2d003-24a2-434b-de1a-be8adc06211c"
      },
      "source": [
        "# Importing the dataset\r\n",
        "df = pd.read_csv('https://raw.githubusercontent.com/valdas-v1/Fatal-Police-Shooting-in-United-States/master/data.csv')\r\n",
        "df.head()"
      ],
      "execution_count": 2,
      "outputs": [
        {
          "output_type": "execute_result",
          "data": {
            "text/html": [
              "<div>\n",
              "<style scoped>\n",
              "    .dataframe tbody tr th:only-of-type {\n",
              "        vertical-align: middle;\n",
              "    }\n",
              "\n",
              "    .dataframe tbody tr th {\n",
              "        vertical-align: top;\n",
              "    }\n",
              "\n",
              "    .dataframe thead th {\n",
              "        text-align: right;\n",
              "    }\n",
              "</style>\n",
              "<table border=\"1\" class=\"dataframe\">\n",
              "  <thead>\n",
              "    <tr style=\"text-align: right;\">\n",
              "      <th></th>\n",
              "      <th>id</th>\n",
              "      <th>name</th>\n",
              "      <th>date</th>\n",
              "      <th>manner_of_death</th>\n",
              "      <th>armed</th>\n",
              "      <th>age</th>\n",
              "      <th>gender</th>\n",
              "      <th>race</th>\n",
              "      <th>city</th>\n",
              "      <th>state</th>\n",
              "      <th>signs_of_mental_illness</th>\n",
              "      <th>threat_level</th>\n",
              "      <th>flee</th>\n",
              "      <th>body_camera</th>\n",
              "    </tr>\n",
              "  </thead>\n",
              "  <tbody>\n",
              "    <tr>\n",
              "      <th>0</th>\n",
              "      <td>3</td>\n",
              "      <td>Tim Elliot</td>\n",
              "      <td>2015-01-02</td>\n",
              "      <td>shot</td>\n",
              "      <td>gun</td>\n",
              "      <td>53.0</td>\n",
              "      <td>M</td>\n",
              "      <td>A</td>\n",
              "      <td>Shelton</td>\n",
              "      <td>WA</td>\n",
              "      <td>True</td>\n",
              "      <td>attack</td>\n",
              "      <td>Not fleeing</td>\n",
              "      <td>False</td>\n",
              "    </tr>\n",
              "    <tr>\n",
              "      <th>1</th>\n",
              "      <td>4</td>\n",
              "      <td>Lewis Lee Lembke</td>\n",
              "      <td>2015-01-02</td>\n",
              "      <td>shot</td>\n",
              "      <td>gun</td>\n",
              "      <td>47.0</td>\n",
              "      <td>M</td>\n",
              "      <td>W</td>\n",
              "      <td>Aloha</td>\n",
              "      <td>OR</td>\n",
              "      <td>False</td>\n",
              "      <td>attack</td>\n",
              "      <td>Not fleeing</td>\n",
              "      <td>False</td>\n",
              "    </tr>\n",
              "    <tr>\n",
              "      <th>2</th>\n",
              "      <td>5</td>\n",
              "      <td>John Paul Quintero</td>\n",
              "      <td>2015-01-03</td>\n",
              "      <td>shot and Tasered</td>\n",
              "      <td>unarmed</td>\n",
              "      <td>23.0</td>\n",
              "      <td>M</td>\n",
              "      <td>H</td>\n",
              "      <td>Wichita</td>\n",
              "      <td>KS</td>\n",
              "      <td>False</td>\n",
              "      <td>other</td>\n",
              "      <td>Not fleeing</td>\n",
              "      <td>False</td>\n",
              "    </tr>\n",
              "    <tr>\n",
              "      <th>3</th>\n",
              "      <td>8</td>\n",
              "      <td>Matthew Hoffman</td>\n",
              "      <td>2015-01-04</td>\n",
              "      <td>shot</td>\n",
              "      <td>toy weapon</td>\n",
              "      <td>32.0</td>\n",
              "      <td>M</td>\n",
              "      <td>W</td>\n",
              "      <td>San Francisco</td>\n",
              "      <td>CA</td>\n",
              "      <td>True</td>\n",
              "      <td>attack</td>\n",
              "      <td>Not fleeing</td>\n",
              "      <td>False</td>\n",
              "    </tr>\n",
              "    <tr>\n",
              "      <th>4</th>\n",
              "      <td>9</td>\n",
              "      <td>Michael Rodriguez</td>\n",
              "      <td>2015-01-04</td>\n",
              "      <td>shot</td>\n",
              "      <td>nail gun</td>\n",
              "      <td>39.0</td>\n",
              "      <td>M</td>\n",
              "      <td>H</td>\n",
              "      <td>Evans</td>\n",
              "      <td>CO</td>\n",
              "      <td>False</td>\n",
              "      <td>attack</td>\n",
              "      <td>Not fleeing</td>\n",
              "      <td>False</td>\n",
              "    </tr>\n",
              "  </tbody>\n",
              "</table>\n",
              "</div>"
            ],
            "text/plain": [
              "   id                name        date  ... threat_level         flee  body_camera\n",
              "0   3          Tim Elliot  2015-01-02  ...       attack  Not fleeing        False\n",
              "1   4    Lewis Lee Lembke  2015-01-02  ...       attack  Not fleeing        False\n",
              "2   5  John Paul Quintero  2015-01-03  ...        other  Not fleeing        False\n",
              "3   8     Matthew Hoffman  2015-01-04  ...       attack  Not fleeing        False\n",
              "4   9   Michael Rodriguez  2015-01-04  ...       attack  Not fleeing        False\n",
              "\n",
              "[5 rows x 14 columns]"
            ]
          },
          "metadata": {
            "tags": []
          },
          "execution_count": 2
        }
      ]
    },
    {
      "cell_type": "code",
      "metadata": {
        "colab": {
          "base_uri": "https://localhost:8080/"
        },
        "id": "l9ILN_L5Uu8b",
        "outputId": "a07fcefb-c118-4588-8495-a661da69684e"
      },
      "source": [
        "df.info()"
      ],
      "execution_count": 3,
      "outputs": [
        {
          "output_type": "stream",
          "text": [
            "<class 'pandas.core.frame.DataFrame'>\n",
            "RangeIndex: 2142 entries, 0 to 2141\n",
            "Data columns (total 14 columns):\n",
            " #   Column                   Non-Null Count  Dtype  \n",
            "---  ------                   --------------  -----  \n",
            " 0   id                       2142 non-null   int64  \n",
            " 1   name                     2123 non-null   object \n",
            " 2   date                     2142 non-null   object \n",
            " 3   manner_of_death          2142 non-null   object \n",
            " 4   armed                    2136 non-null   object \n",
            " 5   age                      2099 non-null   float64\n",
            " 6   gender                   2141 non-null   object \n",
            " 7   race                     2039 non-null   object \n",
            " 8   city                     2142 non-null   object \n",
            " 9   state                    2142 non-null   object \n",
            " 10  signs_of_mental_illness  2142 non-null   bool   \n",
            " 11  threat_level             2142 non-null   object \n",
            " 12  flee                     2106 non-null   object \n",
            " 13  body_camera              2142 non-null   bool   \n",
            "dtypes: bool(2), float64(1), int64(1), object(10)\n",
            "memory usage: 205.1+ KB\n"
          ],
          "name": "stdout"
        }
      ]
    },
    {
      "cell_type": "markdown",
      "metadata": {
        "id": "nFyRniNKu63Q"
      },
      "source": [
        "Since there are null values, the dataset will need to be cleaned"
      ]
    },
    {
      "cell_type": "markdown",
      "metadata": {
        "id": "TLkFSwOfuBgr"
      },
      "source": [
        "### Cleaning the dataset"
      ]
    },
    {
      "cell_type": "code",
      "metadata": {
        "colab": {
          "base_uri": "https://localhost:8080/"
        },
        "id": "ERC05Q4zuJAx",
        "outputId": "5b1934b9-09c2-4f2e-ade8-783d8b460cba"
      },
      "source": [
        "# Counting null values in each column\r\n",
        "df.isnull().sum()"
      ],
      "execution_count": 4,
      "outputs": [
        {
          "output_type": "execute_result",
          "data": {
            "text/plain": [
              "id                           0\n",
              "name                        19\n",
              "date                         0\n",
              "manner_of_death              0\n",
              "armed                        6\n",
              "age                         43\n",
              "gender                       1\n",
              "race                       103\n",
              "city                         0\n",
              "state                        0\n",
              "signs_of_mental_illness      0\n",
              "threat_level                 0\n",
              "flee                        36\n",
              "body_camera                  0\n",
              "dtype: int64"
            ]
          },
          "metadata": {
            "tags": []
          },
          "execution_count": 4
        }
      ]
    },
    {
      "cell_type": "code",
      "metadata": {
        "colab": {
          "base_uri": "https://localhost:8080/"
        },
        "id": "8WBVaWo4uOvM",
        "outputId": "3a3ce63d-2504-472b-d14e-255dc4b0b5e8"
      },
      "source": [
        "# Dropping all null values\r\n",
        "clean_df = df.dropna().drop('id', axis=1).reset_index()\r\n",
        "clean_df.isnull().sum()"
      ],
      "execution_count": 5,
      "outputs": [
        {
          "output_type": "execute_result",
          "data": {
            "text/plain": [
              "index                      0\n",
              "name                       0\n",
              "date                       0\n",
              "manner_of_death            0\n",
              "armed                      0\n",
              "age                        0\n",
              "gender                     0\n",
              "race                       0\n",
              "city                       0\n",
              "state                      0\n",
              "signs_of_mental_illness    0\n",
              "threat_level               0\n",
              "flee                       0\n",
              "body_camera                0\n",
              "dtype: int64"
            ]
          },
          "metadata": {
            "tags": []
          },
          "execution_count": 5
        }
      ]
    },
    {
      "cell_type": "code",
      "metadata": {
        "id": "tdKFad87zHfx"
      },
      "source": [
        "# Parsing date column\r\n",
        "clean_df['date'] = pd.to_datetime(clean_df['date'])"
      ],
      "execution_count": 6,
      "outputs": []
    },
    {
      "cell_type": "markdown",
      "metadata": {
        "id": "iK1kfonclTtu"
      },
      "source": [
        "## Mental ilness among fatal police shootings"
      ]
    },
    {
      "cell_type": "markdown",
      "metadata": {
        "id": "hSgpDxafo8NK"
      },
      "source": [
        "Since we have the data, I would like to begin by exploring the data on mental ilness and shootings. I want to know where the mentally ill are shot most frequently"
      ]
    },
    {
      "cell_type": "markdown",
      "metadata": {
        "id": "tCmwsv905Gp4"
      },
      "source": [
        "### Preprocessing data"
      ]
    },
    {
      "cell_type": "code",
      "metadata": {
        "id": "idBPAbBVpCRz"
      },
      "source": [
        "# Grouping the data by state and if there are signs of mental ilness\r\n",
        "mi = clean_df.groupby(['state','signs_of_mental_illness'], as_index = False).index.count()\r\n",
        "mi.sort_values(by = ['signs_of_mental_illness', 'index'], ascending=[False, False], inplace = True)\r\n",
        "mi = mi.rename(columns={\"index\": \"count\"})"
      ],
      "execution_count": 7,
      "outputs": []
    },
    {
      "cell_type": "code",
      "metadata": {
        "colab": {
          "base_uri": "https://localhost:8080/",
          "height": 136
        },
        "id": "KFk3Vu2Mo5HX",
        "outputId": "02f06b05-b729-495a-f806-f6676027114f"
      },
      "source": [
        "mi.head(3)"
      ],
      "execution_count": 8,
      "outputs": [
        {
          "output_type": "execute_result",
          "data": {
            "text/html": [
              "<div>\n",
              "<style scoped>\n",
              "    .dataframe tbody tr th:only-of-type {\n",
              "        vertical-align: middle;\n",
              "    }\n",
              "\n",
              "    .dataframe tbody tr th {\n",
              "        vertical-align: top;\n",
              "    }\n",
              "\n",
              "    .dataframe thead th {\n",
              "        text-align: right;\n",
              "    }\n",
              "</style>\n",
              "<table border=\"1\" class=\"dataframe\">\n",
              "  <thead>\n",
              "    <tr style=\"text-align: right;\">\n",
              "      <th></th>\n",
              "      <th>state</th>\n",
              "      <th>signs_of_mental_illness</th>\n",
              "      <th>count</th>\n",
              "    </tr>\n",
              "  </thead>\n",
              "  <tbody>\n",
              "    <tr>\n",
              "      <th>9</th>\n",
              "      <td>CA</td>\n",
              "      <td>True</td>\n",
              "      <td>76</td>\n",
              "    </tr>\n",
              "    <tr>\n",
              "      <th>84</th>\n",
              "      <td>TX</td>\n",
              "      <td>True</td>\n",
              "      <td>45</td>\n",
              "    </tr>\n",
              "    <tr>\n",
              "      <th>19</th>\n",
              "      <td>FL</td>\n",
              "      <td>True</td>\n",
              "      <td>34</td>\n",
              "    </tr>\n",
              "  </tbody>\n",
              "</table>\n",
              "</div>"
            ],
            "text/plain": [
              "   state  signs_of_mental_illness  count\n",
              "9     CA                     True     76\n",
              "84    TX                     True     45\n",
              "19    FL                     True     34"
            ]
          },
          "metadata": {
            "tags": []
          },
          "execution_count": 8
        }
      ]
    },
    {
      "cell_type": "markdown",
      "metadata": {
        "id": "ugmzBKj1-4hb"
      },
      "source": [
        "### Fatal shootings by state"
      ]
    },
    {
      "cell_type": "code",
      "metadata": {
        "colab": {
          "base_uri": "https://localhost:8080/",
          "height": 527
        },
        "id": "HRo1PSFzm3ZH",
        "outputId": "26d89bfd-cef4-4aac-f1b8-6c729d11e0d3"
      },
      "source": [
        "# Plotting the data\r\n",
        "\r\n",
        "fig, ax = plt.subplots(figsize = (15,8))\r\n",
        "sns.stripplot(ax = ax,data = mi, x = 'state', y = 'count',\r\n",
        "              hue = 'signs_of_mental_illness').legend(loc='center left', \r\n",
        "                                                      bbox_to_anchor=(1.25, 0.5), ncol=1, title='Signs of mental ilness')\r\n",
        "plt.xticks(rotation=90)\r\n",
        "ax.xaxis.grid(True)\r\n",
        "plt.ylabel('Fatal shootings')\r\n",
        "plt.xlabel('State')\r\n",
        "plt.title('Fatal shootings by state and signs of mental ilness')        \r\n",
        "plt.show()       "
      ],
      "execution_count": 9,
      "outputs": [
        {
          "output_type": "display_data",
          "data": {
            "image/png": "[encoded data removed]",
            "text/plain": [
              "<Figure size 1080x576 with 1 Axes>"
            ]
          },
          "metadata": {
            "tags": [],
            "needs_background": "light"
          }
        }
      ]
    },
    {
      "cell_type": "markdown",
      "metadata": {
        "id": "vsilyamNkynM"
      },
      "source": [
        "We can see that California has by far the most fatal shootings by the police, let us see if their average rate of shooting a mentally ill person is higher than the national average"
      ]
    },
    {
      "cell_type": "markdown",
      "metadata": {
        "id": "hm4UL6iK50Yb"
      },
      "source": [
        "### Testing the hypothesis, that California's proportion of fatally shot people, with a mental illness is equal to the national proportion, with a 95% significance level: \r\n",
        "\r\n",
        "### H0: pC = pN"
      ]
    },
    {
      "cell_type": "code",
      "metadata": {
        "colab": {
          "base_uri": "https://localhost:8080/",
          "height": 166
        },
        "id": "f43ff9-kHQiq",
        "outputId": "dc5227cd-0412-4419-9478-bfb7d25e67d7"
      },
      "source": [
        "# Calculating the proportion for every state\r\n",
        "rate_of_shot_mi = mi.pivot('state','signs_of_mental_illness','count').apply(lambda x: x/x.sum(), axis = 1).sort_values(by = True).dropna()\r\n",
        "rate_of_shot_mi.head(3)"
      ],
      "execution_count": 10,
      "outputs": [
        {
          "output_type": "execute_result",
          "data": {
            "text/html": [
              "<div>\n",
              "<style scoped>\n",
              "    .dataframe tbody tr th:only-of-type {\n",
              "        vertical-align: middle;\n",
              "    }\n",
              "\n",
              "    .dataframe tbody tr th {\n",
              "        vertical-align: top;\n",
              "    }\n",
              "\n",
              "    .dataframe thead th {\n",
              "        text-align: right;\n",
              "    }\n",
              "</style>\n",
              "<table border=\"1\" class=\"dataframe\">\n",
              "  <thead>\n",
              "    <tr style=\"text-align: right;\">\n",
              "      <th>signs_of_mental_illness</th>\n",
              "      <th>False</th>\n",
              "      <th>True</th>\n",
              "    </tr>\n",
              "    <tr>\n",
              "      <th>state</th>\n",
              "      <th></th>\n",
              "      <th></th>\n",
              "    </tr>\n",
              "  </thead>\n",
              "  <tbody>\n",
              "    <tr>\n",
              "      <th>MS</th>\n",
              "      <td>0.944444</td>\n",
              "      <td>0.055556</td>\n",
              "    </tr>\n",
              "    <tr>\n",
              "      <th>WV</th>\n",
              "      <td>0.900000</td>\n",
              "      <td>0.100000</td>\n",
              "    </tr>\n",
              "    <tr>\n",
              "      <th>HI</th>\n",
              "      <td>0.900000</td>\n",
              "      <td>0.100000</td>\n",
              "    </tr>\n",
              "  </tbody>\n",
              "</table>\n",
              "</div>"
            ],
            "text/plain": [
              "signs_of_mental_illness     False     True \n",
              "state                                      \n",
              "MS                       0.944444  0.055556\n",
              "WV                       0.900000  0.100000\n",
              "HI                       0.900000  0.100000"
            ]
          },
          "metadata": {
            "tags": []
          },
          "execution_count": 10
        }
      ]
    },
    {
      "cell_type": "code",
      "metadata": {
        "colab": {
          "base_uri": "https://localhost:8080/",
          "height": 581
        },
        "id": "-U-BbRV7JZhs",
        "outputId": "593c5564-3b79-4311-8fa2-afae659b5eac"
      },
      "source": [
        "# Plotting the proportion for every state\r\n",
        "\r\n",
        "fig, ax = plt.subplots(figsize = (15,9))\r\n",
        "rate_of_shot_mi.plot(kind='bar', ax=ax).legend(loc='center left', \r\n",
        "                                                      bbox_to_anchor=(1.25, 0.5), ncol=1, title='Signs of mental ilness')\r\n",
        "plt.yticks(np.arange(0,1.05,0.05))\r\n",
        "plt.ylabel('Fatal shootings')\r\n",
        "plt.xlabel('State')\r\n",
        "plt.title('Rate of fatally shot metally ill by state')\r\n",
        "plt.show()  "
      ],
      "execution_count": 11,
      "outputs": [
        {
          "output_type": "display_data",
          "data": {
            "image/png": "[encoded data removed]",
            "text/plain": [
              "<Figure size 1080x648 with 1 Axes>"
            ]
          },
          "metadata": {
            "tags": [],
            "needs_background": "light"
          }
        }
      ]
    },
    {
      "cell_type": "markdown",
      "metadata": {
        "id": "0HFD_RXtsWF8"
      },
      "source": [
        "From this graph, we can see on a state-by-state level, which states have the worst rates of fatally shooting people with mental illnesses. Worst performing states, such as Utah, San Diego and Washington should look into increasing officer training for dealing with mentally ill people or increase funding for free mental health services"
      ]
    },
    {
      "cell_type": "markdown",
      "metadata": {
        "id": "4bi-Gtb4Uipj"
      },
      "source": [
        "Although California has a rate close to the middle, we can see that Utah has the highest rate, while Massachusetts has the lowest. Let us see if it is statistically significan using a z-test"
      ]
    },
    {
      "cell_type": "markdown",
      "metadata": {
        "id": "ZGx9y9XexeE3"
      },
      "source": [
        "### One-proportion z-test to test the null hypothesis"
      ]
    },
    {
      "cell_type": "code",
      "metadata": {
        "colab": {
          "base_uri": "https://localhost:8080/"
        },
        "id": "5vtlC-TJZlgX",
        "outputId": "d861a420-cd19-447d-b201-a62a77a3d4e1"
      },
      "source": [
        "# Defining variables for a One-proportion z-test\r\n",
        "p_hat = rate_of_shot_mi[True].loc['CA']\r\n",
        "p_0 = np.mean(rate_of_shot_mi[True])\r\n",
        "n = np.sum(mi[mi['state'] == 'CA']['count'])\r\n",
        "\r\n",
        "print(f\"Calculated p_hat = {p_hat}, p_0 = {p_0}, n = {n}\")"
      ],
      "execution_count": 12,
      "outputs": [
        {
          "output_type": "stream",
          "text": [
            "Calculated p_hat = 0.2375, p_0 = 0.24475642351104213, n = 320\n"
          ],
          "name": "stdout"
        }
      ]
    },
    {
      "cell_type": "code",
      "metadata": {
        "colab": {
          "base_uri": "https://localhost:8080/"
        },
        "id": "GrtWzeG6Q1g4",
        "outputId": "97dbcd27-c486-4aaa-a09b-ef9b95bfe4e2"
      },
      "source": [
        "# Calculating One-proportion z-test\r\n",
        "z = (p_hat*p_0) / np.sqrt(p_0*(1 - p_0)) * np.sqrt(n)\r\n",
        "print(f\"Calculated z score = {z}\")"
      ],
      "execution_count": 13,
      "outputs": [
        {
          "output_type": "stream",
          "text": [
            "Calculated z score = 2.4185893282110684\n"
          ],
          "name": "stdout"
        }
      ]
    },
    {
      "cell_type": "code",
      "metadata": {
        "colab": {
          "base_uri": "https://localhost:8080/"
        },
        "id": "yYUZFJu5cHWj",
        "outputId": "c6a19b32-9397-4e2a-ef6c-53b2e05545af"
      },
      "source": [
        "# Calculating the p-value\r\n",
        "p = 1 - st.norm.cdf(z)\r\n",
        "print(f\"Calculated p-value = {p}\")"
      ],
      "execution_count": 14,
      "outputs": [
        {
          "output_type": "stream",
          "text": [
            "Calculated p-value = 0.0077904097297083474\n"
          ],
          "name": "stdout"
        }
      ]
    },
    {
      "cell_type": "markdown",
      "metadata": {
        "id": "Pa8HFI97Pvcw"
      },
      "source": [
        "We can reject the null hypothesis that the proportion of California and the national population proportion is equal (pC = pN), with a significance level of 95% as the p-value is 0.78%"
      ]
    },
    {
      "cell_type": "markdown",
      "metadata": {
        "id": "WcGMt9f4UFys"
      },
      "source": [
        "## Racial bias among fatal police shootings"
      ]
    },
    {
      "cell_type": "markdown",
      "metadata": {
        "id": "PBkdsLKHt7gY"
      },
      "source": [
        "Next, let us explore the correlation between race and fatal police shootings"
      ]
    },
    {
      "cell_type": "markdown",
      "metadata": {
        "id": "Ft2tBXGH8jkh"
      },
      "source": [
        "### Racial distribution of fatal police shootings"
      ]
    },
    {
      "cell_type": "markdown",
      "metadata": {
        "id": "HwgdQ3A3u6BV"
      },
      "source": [
        "I will begin by plotting the counts of fatal shootings by race"
      ]
    },
    {
      "cell_type": "code",
      "metadata": {
        "colab": {
          "base_uri": "https://localhost:8080/",
          "height": 464
        },
        "id": "EtyVQ0MBUN5G",
        "outputId": "932e6960-ace4-49fb-e108-193895ba3c66"
      },
      "source": [
        "# Plotting the race among fatal police shootings\r\n",
        "\r\n",
        "fig, ax = plt.subplots(figsize=(8,6))\r\n",
        "sns.countplot(df['race'],ax=ax)\r\n",
        "plt.title('Race Count')\r\n",
        "plt.show()"
      ],
      "execution_count": 15,
      "outputs": [
        {
          "output_type": "stream",
          "text": [
            "/usr/local/lib/python3.6/dist-packages/seaborn/_decorators.py:43: FutureWarning: Pass the following variable as a keyword arg: x. From version 0.12, the only valid positional argument will be `data`, and passing other arguments without an explicit keyword will result in an error or misinterpretation.\n",
            "  FutureWarning\n"
          ],
          "name": "stderr"
        },
        {
          "output_type": "display_data",
          "data": {
            "image/png": "[encoded data removed]",
            "text/plain": [
              "<Figure size 576x432 with 1 Axes>"
            ]
          },
          "metadata": {
            "tags": [],
            "needs_background": "light"
          }
        }
      ]
    },
    {
      "cell_type": "markdown",
      "metadata": {
        "id": "sLX_YL3T7nlP"
      },
      "source": [
        "Although it seems as if white people are shot most often, we need to keep in mind that >70% of the racial composition of the United States is white. Let us calculate the proportion of fatally shot unarmed people by race\r\n",
        "\r\n",
        "Source for the [racial composition of the United States](https://en.wikipedia.org/wiki/Race_and_ethnicity_in_the_United_States)"
      ]
    },
    {
      "cell_type": "markdown",
      "metadata": {
        "id": "kNuVBBlf8utc"
      },
      "source": [
        "### Percentage of unarmed people shot by race"
      ]
    },
    {
      "cell_type": "markdown",
      "metadata": {
        "id": "7J6gmny3eS2u"
      },
      "source": [
        "To visualise this, I will first modify the 'armed' column of the data to be either 'True' or 'False' instead of all the different kinds of weapons available, then group by race and whether they were armed"
      ]
    },
    {
      "cell_type": "code",
      "metadata": {
        "colab": {
          "base_uri": "https://localhost:8080/",
          "height": 373
        },
        "id": "DlxPjRbshfzB",
        "outputId": "2956f9a3-7007-4578-d900-549785683b20"
      },
      "source": [
        "# Grouping the data by race and if they were armed\r\n",
        "df_armed = clean_df\r\n",
        "df_armed['armed'] = clean_df['armed'] != 'unarmed'\r\n",
        "\r\n",
        "race_armed = df_armed.groupby(['race','armed'], as_index = False).index.count()\r\n",
        "race_armed.sort_values(by = ['armed', 'index'], ascending=[False, False], inplace = True)\r\n",
        "race_armed = race_armed.rename(columns={\"index\": \"count\"})\r\n",
        "race_armed"
      ],
      "execution_count": 16,
      "outputs": [
        {
          "output_type": "execute_result",
          "data": {
            "text/html": [
              "<div>\n",
              "<style scoped>\n",
              "    .dataframe tbody tr th:only-of-type {\n",
              "        vertical-align: middle;\n",
              "    }\n",
              "\n",
              "    .dataframe tbody tr th {\n",
              "        vertical-align: top;\n",
              "    }\n",
              "\n",
              "    .dataframe thead th {\n",
              "        text-align: right;\n",
              "    }\n",
              "</style>\n",
              "<table border=\"1\" class=\"dataframe\">\n",
              "  <thead>\n",
              "    <tr style=\"text-align: right;\">\n",
              "      <th></th>\n",
              "      <th>race</th>\n",
              "      <th>armed</th>\n",
              "      <th>count</th>\n",
              "    </tr>\n",
              "  </thead>\n",
              "  <tbody>\n",
              "    <tr>\n",
              "      <th>10</th>\n",
              "      <td>W</td>\n",
              "      <td>True</td>\n",
              "      <td>962</td>\n",
              "    </tr>\n",
              "    <tr>\n",
              "      <th>2</th>\n",
              "      <td>B</td>\n",
              "      <td>True</td>\n",
              "      <td>467</td>\n",
              "    </tr>\n",
              "    <tr>\n",
              "      <th>4</th>\n",
              "      <td>H</td>\n",
              "      <td>True</td>\n",
              "      <td>326</td>\n",
              "    </tr>\n",
              "    <tr>\n",
              "      <th>0</th>\n",
              "      <td>A</td>\n",
              "      <td>True</td>\n",
              "      <td>32</td>\n",
              "    </tr>\n",
              "    <tr>\n",
              "      <th>6</th>\n",
              "      <td>N</td>\n",
              "      <td>True</td>\n",
              "      <td>24</td>\n",
              "    </tr>\n",
              "    <tr>\n",
              "      <th>8</th>\n",
              "      <td>O</td>\n",
              "      <td>True</td>\n",
              "      <td>24</td>\n",
              "    </tr>\n",
              "    <tr>\n",
              "      <th>9</th>\n",
              "      <td>W</td>\n",
              "      <td>False</td>\n",
              "      <td>60</td>\n",
              "    </tr>\n",
              "    <tr>\n",
              "      <th>1</th>\n",
              "      <td>B</td>\n",
              "      <td>False</td>\n",
              "      <td>56</td>\n",
              "    </tr>\n",
              "    <tr>\n",
              "      <th>3</th>\n",
              "      <td>H</td>\n",
              "      <td>False</td>\n",
              "      <td>29</td>\n",
              "    </tr>\n",
              "    <tr>\n",
              "      <th>7</th>\n",
              "      <td>O</td>\n",
              "      <td>False</td>\n",
              "      <td>4</td>\n",
              "    </tr>\n",
              "    <tr>\n",
              "      <th>5</th>\n",
              "      <td>N</td>\n",
              "      <td>False</td>\n",
              "      <td>2</td>\n",
              "    </tr>\n",
              "  </tbody>\n",
              "</table>\n",
              "</div>"
            ],
            "text/plain": [
              "   race  armed  count\n",
              "10    W   True    962\n",
              "2     B   True    467\n",
              "4     H   True    326\n",
              "0     A   True     32\n",
              "6     N   True     24\n",
              "8     O   True     24\n",
              "9     W  False     60\n",
              "1     B  False     56\n",
              "3     H  False     29\n",
              "7     O  False      4\n",
              "5     N  False      2"
            ]
          },
          "metadata": {
            "tags": []
          },
          "execution_count": 16
        }
      ]
    },
    {
      "cell_type": "markdown",
      "metadata": {
        "id": "WTMCEk2pfAXg"
      },
      "source": [
        "Since the racial composition of the United States is not equal, we will once again need to work with proportions"
      ]
    },
    {
      "cell_type": "code",
      "metadata": {
        "colab": {
          "base_uri": "https://localhost:8080/",
          "height": 225
        },
        "id": "Z8CvqXZtiVOa",
        "outputId": "7d4e6228-1eb3-4f15-933d-836b55ed1043"
      },
      "source": [
        "# Calculating the proportion of armed and unarmed police shootings\r\n",
        "rate_race_armed = race_armed.pivot('race', 'armed', 'count').apply(lambda x: x/x.sum(), axis = 1).sort_values(by = True).dropna()\r\n",
        "rate_race_armed"
      ],
      "execution_count": 17,
      "outputs": [
        {
          "output_type": "execute_result",
          "data": {
            "text/html": [
              "<div>\n",
              "<style scoped>\n",
              "    .dataframe tbody tr th:only-of-type {\n",
              "        vertical-align: middle;\n",
              "    }\n",
              "\n",
              "    .dataframe tbody tr th {\n",
              "        vertical-align: top;\n",
              "    }\n",
              "\n",
              "    .dataframe thead th {\n",
              "        text-align: right;\n",
              "    }\n",
              "</style>\n",
              "<table border=\"1\" class=\"dataframe\">\n",
              "  <thead>\n",
              "    <tr style=\"text-align: right;\">\n",
              "      <th>armed</th>\n",
              "      <th>False</th>\n",
              "      <th>True</th>\n",
              "    </tr>\n",
              "    <tr>\n",
              "      <th>race</th>\n",
              "      <th></th>\n",
              "      <th></th>\n",
              "    </tr>\n",
              "  </thead>\n",
              "  <tbody>\n",
              "    <tr>\n",
              "      <th>O</th>\n",
              "      <td>0.142857</td>\n",
              "      <td>0.857143</td>\n",
              "    </tr>\n",
              "    <tr>\n",
              "      <th>B</th>\n",
              "      <td>0.107075</td>\n",
              "      <td>0.892925</td>\n",
              "    </tr>\n",
              "    <tr>\n",
              "      <th>H</th>\n",
              "      <td>0.081690</td>\n",
              "      <td>0.918310</td>\n",
              "    </tr>\n",
              "    <tr>\n",
              "      <th>N</th>\n",
              "      <td>0.076923</td>\n",
              "      <td>0.923077</td>\n",
              "    </tr>\n",
              "    <tr>\n",
              "      <th>W</th>\n",
              "      <td>0.058708</td>\n",
              "      <td>0.941292</td>\n",
              "    </tr>\n",
              "  </tbody>\n",
              "</table>\n",
              "</div>"
            ],
            "text/plain": [
              "armed     False     True \n",
              "race                     \n",
              "O      0.142857  0.857143\n",
              "B      0.107075  0.892925\n",
              "H      0.081690  0.918310\n",
              "N      0.076923  0.923077\n",
              "W      0.058708  0.941292"
            ]
          },
          "metadata": {
            "tags": []
          },
          "execution_count": 17
        }
      ]
    },
    {
      "cell_type": "markdown",
      "metadata": {
        "id": "DRk0ljSCfjPj"
      },
      "source": [
        "We can already see, that the biggest proportion of armed victims are white, but let us plot the results, to have a better understanding of the scale"
      ]
    },
    {
      "cell_type": "code",
      "metadata": {
        "colab": {
          "base_uri": "https://localhost:8080/",
          "height": 610
        },
        "id": "WRFslSxqtIrk",
        "outputId": "9492875c-3581-4b33-b1d1-092653b5f654"
      },
      "source": [
        "# Plotting the results\r\n",
        "fig, ax = plt.subplots(figsize = (15,10))\r\n",
        "rate_race_armed[False].plot(kind = 'barh', stacked = True,ax = ax).legend(loc='center left', \r\n",
        "                                                      bbox_to_anchor=(1.25, 0.5), ncol=1, title='Armed')\r\n",
        "\r\n",
        "plt.xticks(np.arange(0,np.max(rate_race_armed[False])+0.01,0.01))\r\n",
        "plt.title('Pencentage of unarmed shot by police')\r\n",
        "plt.show()"
      ],
      "execution_count": 18,
      "outputs": [
        {
          "output_type": "display_data",
          "data": {
            "image/png": "[encoded data removed]",
            "text/plain": [
              "<Figure size 1080x720 with 1 Axes>"
            ]
          },
          "metadata": {
            "tags": [],
            "needs_background": "light"
          }
        }
      ]
    },
    {
      "cell_type": "markdown",
      "metadata": {
        "id": "euZPLqh8924b"
      },
      "source": [
        "After analysing this graph, we can see that only about 6% of white people were shot unarmed, white the rate for black people is almost double at about 11%"
      ]
    },
    {
      "cell_type": "markdown",
      "metadata": {
        "id": "Oh3BW88Jxuqy"
      },
      "source": [
        "Judging by the results, there is a clear racial problem in the police force of the United States. Individual states should look into more training and raising awareness of this problem"
      ]
    },
    {
      "cell_type": "markdown",
      "metadata": {
        "id": "sgd7IoewUqyk"
      },
      "source": [
        "## Dimensionality reduction"
      ]
    },
    {
      "cell_type": "markdown",
      "metadata": {
        "id": "e5Z1g2F6x8qO"
      },
      "source": [
        "Next, let us examine the data with dimensionality reduction and see whether the analysis forms distinct clusters of data"
      ]
    },
    {
      "cell_type": "markdown",
      "metadata": {
        "id": "YU9IHcNaCfGr"
      },
      "source": [
        "### Preprocessing data for PCA and t-SNE"
      ]
    },
    {
      "cell_type": "markdown",
      "metadata": {
        "id": "by08vScIyZoi"
      },
      "source": [
        "Looking at the data to see if we can do dimensionality reduction"
      ]
    },
    {
      "cell_type": "code",
      "metadata": {
        "colab": {
          "base_uri": "https://localhost:8080/"
        },
        "id": "NjLJqR2DEGkg",
        "outputId": "184c8e04-4a0d-4053-9dc0-8bdc2bac7cf4"
      },
      "source": [
        "clean_df.info()"
      ],
      "execution_count": 19,
      "outputs": [
        {
          "output_type": "stream",
          "text": [
            "<class 'pandas.core.frame.DataFrame'>\n",
            "RangeIndex: 1986 entries, 0 to 1985\n",
            "Data columns (total 14 columns):\n",
            " #   Column                   Non-Null Count  Dtype         \n",
            "---  ------                   --------------  -----         \n",
            " 0   index                    1986 non-null   int64         \n",
            " 1   name                     1986 non-null   object        \n",
            " 2   date                     1986 non-null   datetime64[ns]\n",
            " 3   manner_of_death          1986 non-null   object        \n",
            " 4   armed                    1986 non-null   bool          \n",
            " 5   age                      1986 non-null   float64       \n",
            " 6   gender                   1986 non-null   object        \n",
            " 7   race                     1986 non-null   object        \n",
            " 8   city                     1986 non-null   object        \n",
            " 9   state                    1986 non-null   object        \n",
            " 10  signs_of_mental_illness  1986 non-null   bool          \n",
            " 11  threat_level             1986 non-null   object        \n",
            " 12  flee                     1986 non-null   object        \n",
            " 13  body_camera              1986 non-null   bool          \n",
            "dtypes: bool(3), datetime64[ns](1), float64(1), int64(1), object(8)\n",
            "memory usage: 176.6+ KB\n"
          ],
          "name": "stdout"
        }
      ]
    },
    {
      "cell_type": "markdown",
      "metadata": {
        "id": "2mdeyIu4yrzO"
      },
      "source": [
        "As we can see, most of the data is non-numerical, so we will need to encode the data"
      ]
    },
    {
      "cell_type": "code",
      "metadata": {
        "colab": {
          "base_uri": "https://localhost:8080/",
          "height": 0
        },
        "id": "SpxfWcxl8AUv",
        "outputId": "957618fa-ad4a-43c3-b8fe-31fb8d0da5f6"
      },
      "source": [
        "# Encoding text and bool values to integers as you can only perform dimensionality reduction on numerical values\r\n",
        "encoded_df = pd.get_dummies(clean_df.filter(['manner_of_death',\r\n",
        "                            'signs_of_mental_illness', 'armed', 'race'\r\n",
        "                            ]))\r\n",
        "\r\n",
        "encoded_df.head()"
      ],
      "execution_count": 20,
      "outputs": [
        {
          "output_type": "execute_result",
          "data": {
            "text/html": [
              "<div>\n",
              "<style scoped>\n",
              "    .dataframe tbody tr th:only-of-type {\n",
              "        vertical-align: middle;\n",
              "    }\n",
              "\n",
              "    .dataframe tbody tr th {\n",
              "        vertical-align: top;\n",
              "    }\n",
              "\n",
              "    .dataframe thead th {\n",
              "        text-align: right;\n",
              "    }\n",
              "</style>\n",
              "<table border=\"1\" class=\"dataframe\">\n",
              "  <thead>\n",
              "    <tr style=\"text-align: right;\">\n",
              "      <th></th>\n",
              "      <th>signs_of_mental_illness</th>\n",
              "      <th>armed</th>\n",
              "      <th>manner_of_death_shot</th>\n",
              "      <th>manner_of_death_shot and Tasered</th>\n",
              "      <th>race_A</th>\n",
              "      <th>race_B</th>\n",
              "      <th>race_H</th>\n",
              "      <th>race_N</th>\n",
              "      <th>race_O</th>\n",
              "      <th>race_W</th>\n",
              "    </tr>\n",
              "  </thead>\n",
              "  <tbody>\n",
              "    <tr>\n",
              "      <th>0</th>\n",
              "      <td>True</td>\n",
              "      <td>True</td>\n",
              "      <td>1</td>\n",
              "      <td>0</td>\n",
              "      <td>1</td>\n",
              "      <td>0</td>\n",
              "      <td>0</td>\n",
              "      <td>0</td>\n",
              "      <td>0</td>\n",
              "      <td>0</td>\n",
              "    </tr>\n",
              "    <tr>\n",
              "      <th>1</th>\n",
              "      <td>False</td>\n",
              "      <td>True</td>\n",
              "      <td>1</td>\n",
              "      <td>0</td>\n",
              "      <td>0</td>\n",
              "      <td>0</td>\n",
              "      <td>0</td>\n",
              "      <td>0</td>\n",
              "      <td>0</td>\n",
              "      <td>1</td>\n",
              "    </tr>\n",
              "    <tr>\n",
              "      <th>2</th>\n",
              "      <td>False</td>\n",
              "      <td>False</td>\n",
              "      <td>0</td>\n",
              "      <td>1</td>\n",
              "      <td>0</td>\n",
              "      <td>0</td>\n",
              "      <td>1</td>\n",
              "      <td>0</td>\n",
              "      <td>0</td>\n",
              "      <td>0</td>\n",
              "    </tr>\n",
              "    <tr>\n",
              "      <th>3</th>\n",
              "      <td>True</td>\n",
              "      <td>True</td>\n",
              "      <td>1</td>\n",
              "      <td>0</td>\n",
              "      <td>0</td>\n",
              "      <td>0</td>\n",
              "      <td>0</td>\n",
              "      <td>0</td>\n",
              "      <td>0</td>\n",
              "      <td>1</td>\n",
              "    </tr>\n",
              "    <tr>\n",
              "      <th>4</th>\n",
              "      <td>False</td>\n",
              "      <td>True</td>\n",
              "      <td>1</td>\n",
              "      <td>0</td>\n",
              "      <td>0</td>\n",
              "      <td>0</td>\n",
              "      <td>1</td>\n",
              "      <td>0</td>\n",
              "      <td>0</td>\n",
              "      <td>0</td>\n",
              "    </tr>\n",
              "  </tbody>\n",
              "</table>\n",
              "</div>"
            ],
            "text/plain": [
              "   signs_of_mental_illness  armed  manner_of_death_shot  ...  race_N  race_O  race_W\n",
              "0                     True   True                     1  ...       0       0       0\n",
              "1                    False   True                     1  ...       0       0       1\n",
              "2                    False  False                     0  ...       0       0       0\n",
              "3                     True   True                     1  ...       0       0       1\n",
              "4                    False   True                     1  ...       0       0       0\n",
              "\n",
              "[5 rows x 10 columns]"
            ]
          },
          "metadata": {
            "tags": []
          },
          "execution_count": 20
        }
      ]
    },
    {
      "cell_type": "markdown",
      "metadata": {
        "id": "RjnWx46CB4tn"
      },
      "source": [
        "### Principal component analysis"
      ]
    },
    {
      "cell_type": "code",
      "metadata": {
        "colab": {
          "base_uri": "https://localhost:8080/"
        },
        "id": "HOkLKEbIGHNU",
        "outputId": "3bbeca89-68dd-43eb-d503-0febf2cd09e2"
      },
      "source": [
        "# Calculating the maximum number of principal components\r\n",
        "max_principal_components = min(len(encoded_df.columns), len(encoded_df))\r\n",
        "print(f\"The maximum number of principal components: {min(len(encoded_df.columns), len(encoded_df))}\")"
      ],
      "execution_count": 21,
      "outputs": [
        {
          "output_type": "stream",
          "text": [
            "The maximum number of principal components: 10\n"
          ],
          "name": "stdout"
        }
      ]
    },
    {
      "cell_type": "code",
      "metadata": {
        "colab": {
          "base_uri": "https://localhost:8080/"
        },
        "id": "DkBMIRQjGQLN",
        "outputId": "3003e5f5-ef31-4dfd-97aa-0c64d658fb1f"
      },
      "source": [
        "# Performing random PCA on encoded data, to find the optimal number of principal components\r\n",
        "from sklearn.decomposition import PCA as RandomizedPCA\r\n",
        "pca = RandomizedPCA(max_principal_components)\r\n",
        "pca.fit(encoded_df)"
      ],
      "execution_count": 22,
      "outputs": [
        {
          "output_type": "execute_result",
          "data": {
            "text/plain": [
              "PCA(copy=True, iterated_power='auto', n_components=10, random_state=None,\n",
              "    svd_solver='auto', tol=0.0, whiten=False)"
            ]
          },
          "metadata": {
            "tags": []
          },
          "execution_count": 22
        }
      ]
    },
    {
      "cell_type": "code",
      "metadata": {
        "colab": {
          "base_uri": "https://localhost:8080/",
          "height": 0
        },
        "id": "-kayBiImGZOq",
        "outputId": "10a1860f-979b-4c81-a485-6375eee538c8"
      },
      "source": [
        "# Plotting the cumulative explained variance by the number of components to find the 'elbow'\r\n",
        "plt.plot(np.cumsum(pca.explained_variance_ratio_))\r\n",
        "plt.xlabel('number of components')\r\n",
        "plt.ylabel('cumulative explained variance');\r\n",
        "plt.xticks(range(10))\r\n",
        "plt.scatter(4, np.cumsum(pca.explained_variance_ratio_)[4], color='r')\r\n",
        "plt.show()"
      ],
      "execution_count": 23,
      "outputs": [
        {
          "output_type": "display_data",
          "data": {
            "image/png": "[encoded data removed]",
            "text/plain": [
              "<Figure size 432x288 with 1 Axes>"
            ]
          },
          "metadata": {
            "tags": [],
            "needs_background": "light"
          }
        }
      ]
    },
    {
      "cell_type": "markdown",
      "metadata": {
        "id": "42e2Hm3f0GTx"
      },
      "source": [
        "Judging by the graph, I believe the optimal number of principal components is 4"
      ]
    },
    {
      "cell_type": "code",
      "metadata": {
        "colab": {
          "base_uri": "https://localhost:8080/"
        },
        "id": "cscenkH1B8R2",
        "outputId": "f684b972-2877-4bee-d0b3-a42d96af0167"
      },
      "source": [
        "from sklearn.decomposition import PCA\r\n",
        "pca = PCA(n_components=4)\r\n",
        "pca.fit(encoded_df)"
      ],
      "execution_count": 24,
      "outputs": [
        {
          "output_type": "execute_result",
          "data": {
            "text/plain": [
              "PCA(copy=True, iterated_power='auto', n_components=4, random_state=None,\n",
              "    svd_solver='auto', tol=0.0, whiten=False)"
            ]
          },
          "metadata": {
            "tags": []
          },
          "execution_count": 24
        }
      ]
    },
    {
      "cell_type": "code",
      "metadata": {
        "colab": {
          "base_uri": "https://localhost:8080/"
        },
        "id": "7E5u87clCaMZ",
        "outputId": "2f207a09-71f3-4072-fd62-87394348118e"
      },
      "source": [
        "# Calculating variance explained by 4 principal components\r\n",
        "print(f\"The 4 components account for {round(np.sum(pca.explained_variance_ratio_), 1)*100}% variance\")"
      ],
      "execution_count": 25,
      "outputs": [
        {
          "output_type": "stream",
          "text": [
            "The 4 components account for 90.0% variance\n"
          ],
          "name": "stdout"
        }
      ]
    },
    {
      "cell_type": "code",
      "metadata": {
        "id": "PBZ7FSolBSkh"
      },
      "source": [
        "# repeating PCA with only 2 components to be able to plot it\r\n",
        "pca = PCA(n_components=2)\r\n",
        "pca.fit(encoded_df)\r\n",
        "x_pca = pca.fit_transform(encoded_df)"
      ],
      "execution_count": 26,
      "outputs": []
    },
    {
      "cell_type": "code",
      "metadata": {
        "colab": {
          "base_uri": "https://localhost:8080/",
          "height": 0
        },
        "id": "ETevqbajBMTw",
        "outputId": "ab133010-3267-4a92-f3f9-f14359fbd782"
      },
      "source": [
        "# Plotting the results\r\n",
        "plt.figure(figsize=(10, 10))\r\n",
        "plt.xlabel('Principal component 1')\r\n",
        "plt.ylabel('Principal component 2');\r\n",
        "sns.scatterplot(x = x_pca[:, 0], y = x_pca[:, 1], hue=clean_df.armed).legend(loc='center left', bbox_to_anchor=(1.25, 0.5), ncol=1, title='Armed')"
      ],
      "execution_count": 27,
      "outputs": [
        {
          "output_type": "execute_result",
          "data": {
            "text/plain": [
              "<matplotlib.legend.Legend at 0x7fa2e161de80>"
            ]
          },
          "metadata": {
            "tags": []
          },
          "execution_count": 27
        },
        {
          "output_type": "display_data",
          "data": {
            "image/png": "[encoded data removed]",
            "text/plain": [
              "<Figure size 720x720 with 1 Axes>"
            ]
          },
          "metadata": {
            "tags": [],
            "needs_background": "light"
          }
        }
      ]
    },
    {
      "cell_type": "markdown",
      "metadata": {
        "id": "KC2rlcT2_lcG"
      },
      "source": [
        "As we can see, principal component analysis forms four distinct clusters of data"
      ]
    },
    {
      "cell_type": "markdown",
      "metadata": {
        "id": "M6wzmzcrwaxv"
      },
      "source": [
        "### t-SNE"
      ]
    },
    {
      "cell_type": "code",
      "metadata": {
        "id": "5xBvvL0BwaAF"
      },
      "source": [
        "# Performing t-SNE on the same encoded values and visualising the result\r\n",
        "\r\n",
        "from sklearn.manifold import TSNE\r\n",
        "tsne = TSNE(n_components=2).fit_transform(encoded_df)"
      ],
      "execution_count": 28,
      "outputs": []
    },
    {
      "cell_type": "code",
      "metadata": {
        "colab": {
          "base_uri": "https://localhost:8080/",
          "height": 0
        },
        "id": "kQcIbdaby4PO",
        "outputId": "11cf01d6-c707-464b-eba8-e95982a88612"
      },
      "source": [
        "sns.scatterplot(x = tsne[:, 0], y = tsne[:, 1], hue=clean_df.armed).legend(loc='center left', bbox_to_anchor=(1.25, 0.5), ncol=1, title='Armed')"
      ],
      "execution_count": 29,
      "outputs": [
        {
          "output_type": "execute_result",
          "data": {
            "text/plain": [
              "<matplotlib.legend.Legend at 0x7fa2e0c75978>"
            ]
          },
          "metadata": {
            "tags": []
          },
          "execution_count": 29
        },
        {
          "output_type": "display_data",
          "data": {
            "image/png": "[encoded data removed]",
            "text/plain": [
              "<Figure size 432x288 with 1 Axes>"
            ]
          },
          "metadata": {
            "tags": [],
            "needs_background": "light"
          }
        }
      ]
    },
    {
      "cell_type": "markdown",
      "metadata": {
        "id": "NyGb_Af3FV9l"
      },
      "source": [
        "## Cluster analysis"
      ]
    },
    {
      "cell_type": "markdown",
      "metadata": {
        "id": "9RvHuPmlcnDD"
      },
      "source": [
        "Performing cluster analysis on the data to group and analyse similar shootings"
      ]
    },
    {
      "cell_type": "code",
      "metadata": {
        "colab": {
          "base_uri": "https://localhost:8080/"
        },
        "id": "oXg5VPdk4sWr",
        "outputId": "bf8fbe0c-5592-4816-caeb-d1d60925a594"
      },
      "source": [
        "clean_df.info()"
      ],
      "execution_count": 30,
      "outputs": [
        {
          "output_type": "stream",
          "text": [
            "<class 'pandas.core.frame.DataFrame'>\n",
            "RangeIndex: 1986 entries, 0 to 1985\n",
            "Data columns (total 14 columns):\n",
            " #   Column                   Non-Null Count  Dtype         \n",
            "---  ------                   --------------  -----         \n",
            " 0   index                    1986 non-null   int64         \n",
            " 1   name                     1986 non-null   object        \n",
            " 2   date                     1986 non-null   datetime64[ns]\n",
            " 3   manner_of_death          1986 non-null   object        \n",
            " 4   armed                    1986 non-null   bool          \n",
            " 5   age                      1986 non-null   float64       \n",
            " 6   gender                   1986 non-null   object        \n",
            " 7   race                     1986 non-null   object        \n",
            " 8   city                     1986 non-null   object        \n",
            " 9   state                    1986 non-null   object        \n",
            " 10  signs_of_mental_illness  1986 non-null   bool          \n",
            " 11  threat_level             1986 non-null   object        \n",
            " 12  flee                     1986 non-null   object        \n",
            " 13  body_camera              1986 non-null   bool          \n",
            "dtypes: bool(3), datetime64[ns](1), float64(1), int64(1), object(8)\n",
            "memory usage: 176.6+ KB\n"
          ],
          "name": "stdout"
        }
      ]
    },
    {
      "cell_type": "code",
      "metadata": {
        "colab": {
          "base_uri": "https://localhost:8080/",
          "height": 195
        },
        "id": "7iUUc2Ox4q-Q",
        "outputId": "8d1ec038-3893-4b76-c43d-a606faad87ad"
      },
      "source": [
        "# Encoding string data to numeric for clustering\r\n",
        "X = pd.get_dummies(clean_df.filter(['manner_of_death', 'signs_of_mental_illness', 'armed', 'race', 'flee', 'gender']))\r\n",
        "X.head()"
      ],
      "execution_count": 31,
      "outputs": [
        {
          "output_type": "execute_result",
          "data": {
            "text/html": [
              "<div>\n",
              "<style scoped>\n",
              "    .dataframe tbody tr th:only-of-type {\n",
              "        vertical-align: middle;\n",
              "    }\n",
              "\n",
              "    .dataframe tbody tr th {\n",
              "        vertical-align: top;\n",
              "    }\n",
              "\n",
              "    .dataframe thead th {\n",
              "        text-align: right;\n",
              "    }\n",
              "</style>\n",
              "<table border=\"1\" class=\"dataframe\">\n",
              "  <thead>\n",
              "    <tr style=\"text-align: right;\">\n",
              "      <th></th>\n",
              "      <th>signs_of_mental_illness</th>\n",
              "      <th>armed</th>\n",
              "      <th>manner_of_death_shot</th>\n",
              "      <th>manner_of_death_shot and Tasered</th>\n",
              "      <th>race_A</th>\n",
              "      <th>race_B</th>\n",
              "      <th>race_H</th>\n",
              "      <th>race_N</th>\n",
              "      <th>race_O</th>\n",
              "      <th>race_W</th>\n",
              "      <th>flee_Car</th>\n",
              "      <th>flee_Foot</th>\n",
              "      <th>flee_Not fleeing</th>\n",
              "      <th>flee_Other</th>\n",
              "      <th>gender_F</th>\n",
              "      <th>gender_M</th>\n",
              "    </tr>\n",
              "  </thead>\n",
              "  <tbody>\n",
              "    <tr>\n",
              "      <th>0</th>\n",
              "      <td>True</td>\n",
              "      <td>True</td>\n",
              "      <td>1</td>\n",
              "      <td>0</td>\n",
              "      <td>1</td>\n",
              "      <td>0</td>\n",
              "      <td>0</td>\n",
              "      <td>0</td>\n",
              "      <td>0</td>\n",
              "      <td>0</td>\n",
              "      <td>0</td>\n",
              "      <td>0</td>\n",
              "      <td>1</td>\n",
              "      <td>0</td>\n",
              "      <td>0</td>\n",
              "      <td>1</td>\n",
              "    </tr>\n",
              "    <tr>\n",
              "      <th>1</th>\n",
              "      <td>False</td>\n",
              "      <td>True</td>\n",
              "      <td>1</td>\n",
              "      <td>0</td>\n",
              "      <td>0</td>\n",
              "      <td>0</td>\n",
              "      <td>0</td>\n",
              "      <td>0</td>\n",
              "      <td>0</td>\n",
              "      <td>1</td>\n",
              "      <td>0</td>\n",
              "      <td>0</td>\n",
              "      <td>1</td>\n",
              "      <td>0</td>\n",
              "      <td>0</td>\n",
              "      <td>1</td>\n",
              "    </tr>\n",
              "    <tr>\n",
              "      <th>2</th>\n",
              "      <td>False</td>\n",
              "      <td>False</td>\n",
              "      <td>0</td>\n",
              "      <td>1</td>\n",
              "      <td>0</td>\n",
              "      <td>0</td>\n",
              "      <td>1</td>\n",
              "      <td>0</td>\n",
              "      <td>0</td>\n",
              "      <td>0</td>\n",
              "      <td>0</td>\n",
              "      <td>0</td>\n",
              "      <td>1</td>\n",
              "      <td>0</td>\n",
              "      <td>0</td>\n",
              "      <td>1</td>\n",
              "    </tr>\n",
              "    <tr>\n",
              "      <th>3</th>\n",
              "      <td>True</td>\n",
              "      <td>True</td>\n",
              "      <td>1</td>\n",
              "      <td>0</td>\n",
              "      <td>0</td>\n",
              "      <td>0</td>\n",
              "      <td>0</td>\n",
              "      <td>0</td>\n",
              "      <td>0</td>\n",
              "      <td>1</td>\n",
              "      <td>0</td>\n",
              "      <td>0</td>\n",
              "      <td>1</td>\n",
              "      <td>0</td>\n",
              "      <td>0</td>\n",
              "      <td>1</td>\n",
              "    </tr>\n",
              "    <tr>\n",
              "      <th>4</th>\n",
              "      <td>False</td>\n",
              "      <td>True</td>\n",
              "      <td>1</td>\n",
              "      <td>0</td>\n",
              "      <td>0</td>\n",
              "      <td>0</td>\n",
              "      <td>1</td>\n",
              "      <td>0</td>\n",
              "      <td>0</td>\n",
              "      <td>0</td>\n",
              "      <td>0</td>\n",
              "      <td>0</td>\n",
              "      <td>1</td>\n",
              "      <td>0</td>\n",
              "      <td>0</td>\n",
              "      <td>1</td>\n",
              "    </tr>\n",
              "  </tbody>\n",
              "</table>\n",
              "</div>"
            ],
            "text/plain": [
              "   signs_of_mental_illness  armed  ...  gender_F  gender_M\n",
              "0                     True   True  ...         0         1\n",
              "1                    False   True  ...         0         1\n",
              "2                    False  False  ...         0         1\n",
              "3                     True   True  ...         0         1\n",
              "4                    False   True  ...         0         1\n",
              "\n",
              "[5 rows x 16 columns]"
            ]
          },
          "metadata": {
            "tags": []
          },
          "execution_count": 31
        }
      ]
    },
    {
      "cell_type": "markdown",
      "metadata": {
        "id": "ctCkuOirdQPb"
      },
      "source": [
        "Since we're doing KMeans clustering, we need to determine the optimal k"
      ]
    },
    {
      "cell_type": "code",
      "metadata": {
        "colab": {
          "base_uri": "https://localhost:8080/",
          "height": 301
        },
        "id": "ZaGmmpzLFa6S",
        "outputId": "3b785d4c-2a5d-46ac-8e1b-838e4cedbd56"
      },
      "source": [
        "from sklearn.cluster import KMeans\r\n",
        "\r\n",
        "Sum_of_squared_distances = []\r\n",
        "K = range(1,15)\r\n",
        "for k in K:\r\n",
        "    km = KMeans(n_clusters=k)\r\n",
        "    km = km.fit(X)\r\n",
        "    Sum_of_squared_distances.append(km.inertia_)\r\n",
        "\r\n",
        "\r\n",
        "# Plotting the sum of square distances by k to find optimal k\r\n",
        "plt.grid()\r\n",
        "plt.xticks(range(15))\r\n",
        "plt.plot(K, Sum_of_squared_distances, 'bx-')\r\n",
        "plt.xlabel('k')\r\n",
        "plt.ylabel('Sum of squared distances')\r\n",
        "plt.title('Elbow Method For Optimal k')\r\n",
        "plt.scatter(9, Sum_of_squared_distances[8], color='r')\r\n",
        "plt.show()"
      ],
      "execution_count": 32,
      "outputs": [
        {
          "output_type": "display_data",
          "data": {
            "image/png": "[encoded data removed]",
            "text/plain": [
              "<Figure size 432x288 with 1 Axes>"
            ]
          },
          "metadata": {
            "tags": [],
            "needs_background": "light"
          }
        }
      ]
    },
    {
      "cell_type": "markdown",
      "metadata": {
        "id": "1E21DYc1738s"
      },
      "source": [
        "Judging by the graph, the optimal k is either at 4 or 9, but I would like to have more separation between clusters, so I will perform k-means clustering with the k of 9"
      ]
    },
    {
      "cell_type": "code",
      "metadata": {
        "colab": {
          "base_uri": "https://localhost:8080/"
        },
        "id": "Ukq2qEZhHD34",
        "outputId": "6cbc8b1b-b111-4a61-f801-ece2c91cac9f"
      },
      "source": [
        "# Performing k-means clustering with the optimal k of 9\r\n",
        "from sklearn.cluster import KMeans\r\n",
        "\r\n",
        "kmeans = KMeans(n_clusters=9, random_state=42)\r\n",
        "clusters = kmeans.fit_predict(X)\r\n",
        "clusters"
      ],
      "execution_count": 118,
      "outputs": [
        {
          "output_type": "execute_result",
          "data": {
            "text/plain": [
              "array([4, 1, 0, ..., 1, 2, 7], dtype=int32)"
            ]
          },
          "metadata": {
            "tags": []
          },
          "execution_count": 118
        }
      ]
    },
    {
      "cell_type": "markdown",
      "metadata": {
        "id": "ETBZU7WG8Qz8"
      },
      "source": [
        "Now that we have the clusters of similar shootings, let us convert the case id's to  something more understandable"
      ]
    },
    {
      "cell_type": "code",
      "metadata": {
        "colab": {
          "base_uri": "https://localhost:8080/"
        },
        "id": "FyuTVhhpQgGJ",
        "outputId": "169e72c2-8b77-4959-b121-03b46f8e211a"
      },
      "source": [
        "# Making the clusters understandable by converting cluster id to the index in the original dataframe\r\n",
        "similar_shootings = []\r\n",
        "\r\n",
        "for num in range(np.max(clusters)+1):\r\n",
        "  similar_shootings.append(np.squeeze(np.where(clusters == num)))\r\n",
        "\r\n",
        "similar_shootings[0][:10]"
      ],
      "execution_count": 119,
      "outputs": [
        {
          "output_type": "execute_result",
          "data": {
            "text/plain": [
              "array([  2,  10,  23,  38,  43,  51,  68,  74,  99, 111])"
            ]
          },
          "metadata": {
            "tags": []
          },
          "execution_count": 119
        }
      ]
    },
    {
      "cell_type": "markdown",
      "metadata": {
        "id": "F0pIMD5T9DBn"
      },
      "source": [
        "Next, I will count the unique values of each cluster to see how similar are the samples in each cluster"
      ]
    },
    {
      "cell_type": "code",
      "metadata": {
        "colab": {
          "base_uri": "https://localhost:8080/",
          "height": 314
        },
        "id": "WnHcGQxnxX4T",
        "outputId": "d84a2b43-9eb4-47f8-e645-217f33a72ca2"
      },
      "source": [
        "# Iterating through each cluster, counting unique values for every column and adding them to a list (DataFrame)\r\n",
        "clusters_unique_counts = pd.DataFrame()\r\n",
        "\r\n",
        "for cluster in similar_shootings:\r\n",
        "  current_cluster = pd.DataFrame()\r\n",
        "  for id in cluster:\r\n",
        "    current_cluster[id] = clean_df.iloc[id].drop(['index', 'date', 'name'])\r\n",
        "\r\n",
        "  clusters_unique_counts = clusters_unique_counts.append(current_cluster.T.describe().T['unique'].to_frame().T)\r\n",
        "\r\n",
        "clusters_unique_counts"
      ],
      "execution_count": 120,
      "outputs": [
        {
          "output_type": "execute_result",
          "data": {
            "text/html": [
              "<div>\n",
              "<style scoped>\n",
              "    .dataframe tbody tr th:only-of-type {\n",
              "        vertical-align: middle;\n",
              "    }\n",
              "\n",
              "    .dataframe tbody tr th {\n",
              "        vertical-align: top;\n",
              "    }\n",
              "\n",
              "    .dataframe thead th {\n",
              "        text-align: right;\n",
              "    }\n",
              "</style>\n",
              "<table border=\"1\" class=\"dataframe\">\n",
              "  <thead>\n",
              "    <tr style=\"text-align: right;\">\n",
              "      <th></th>\n",
              "      <th>manner_of_death</th>\n",
              "      <th>armed</th>\n",
              "      <th>age</th>\n",
              "      <th>gender</th>\n",
              "      <th>race</th>\n",
              "      <th>city</th>\n",
              "      <th>state</th>\n",
              "      <th>signs_of_mental_illness</th>\n",
              "      <th>threat_level</th>\n",
              "      <th>flee</th>\n",
              "      <th>body_camera</th>\n",
              "    </tr>\n",
              "  </thead>\n",
              "  <tbody>\n",
              "    <tr>\n",
              "      <th>unique</th>\n",
              "      <td>1</td>\n",
              "      <td>2</td>\n",
              "      <td>46</td>\n",
              "      <td>2</td>\n",
              "      <td>5</td>\n",
              "      <td>110</td>\n",
              "      <td>33</td>\n",
              "      <td>2</td>\n",
              "      <td>3</td>\n",
              "      <td>4</td>\n",
              "      <td>2</td>\n",
              "    </tr>\n",
              "    <tr>\n",
              "      <th>unique</th>\n",
              "      <td>1</td>\n",
              "      <td>2</td>\n",
              "      <td>60</td>\n",
              "      <td>2</td>\n",
              "      <td>4</td>\n",
              "      <td>421</td>\n",
              "      <td>48</td>\n",
              "      <td>1</td>\n",
              "      <td>3</td>\n",
              "      <td>2</td>\n",
              "      <td>2</td>\n",
              "    </tr>\n",
              "    <tr>\n",
              "      <th>unique</th>\n",
              "      <td>1</td>\n",
              "      <td>2</td>\n",
              "      <td>52</td>\n",
              "      <td>2</td>\n",
              "      <td>1</td>\n",
              "      <td>213</td>\n",
              "      <td>39</td>\n",
              "      <td>2</td>\n",
              "      <td>3</td>\n",
              "      <td>2</td>\n",
              "      <td>2</td>\n",
              "    </tr>\n",
              "    <tr>\n",
              "      <th>unique</th>\n",
              "      <td>1</td>\n",
              "      <td>2</td>\n",
              "      <td>50</td>\n",
              "      <td>2</td>\n",
              "      <td>2</td>\n",
              "      <td>216</td>\n",
              "      <td>30</td>\n",
              "      <td>2</td>\n",
              "      <td>3</td>\n",
              "      <td>4</td>\n",
              "      <td>2</td>\n",
              "    </tr>\n",
              "    <tr>\n",
              "      <th>unique</th>\n",
              "      <td>1</td>\n",
              "      <td>2</td>\n",
              "      <td>55</td>\n",
              "      <td>2</td>\n",
              "      <td>4</td>\n",
              "      <td>254</td>\n",
              "      <td>46</td>\n",
              "      <td>1</td>\n",
              "      <td>3</td>\n",
              "      <td>2</td>\n",
              "      <td>2</td>\n",
              "    </tr>\n",
              "    <tr>\n",
              "      <th>unique</th>\n",
              "      <td>2</td>\n",
              "      <td>2</td>\n",
              "      <td>46</td>\n",
              "      <td>2</td>\n",
              "      <td>4</td>\n",
              "      <td>148</td>\n",
              "      <td>38</td>\n",
              "      <td>2</td>\n",
              "      <td>3</td>\n",
              "      <td>1</td>\n",
              "      <td>2</td>\n",
              "    </tr>\n",
              "    <tr>\n",
              "      <th>unique</th>\n",
              "      <td>2</td>\n",
              "      <td>2</td>\n",
              "      <td>32</td>\n",
              "      <td>2</td>\n",
              "      <td>1</td>\n",
              "      <td>75</td>\n",
              "      <td>28</td>\n",
              "      <td>2</td>\n",
              "      <td>3</td>\n",
              "      <td>1</td>\n",
              "      <td>2</td>\n",
              "    </tr>\n",
              "    <tr>\n",
              "      <th>unique</th>\n",
              "      <td>2</td>\n",
              "      <td>2</td>\n",
              "      <td>33</td>\n",
              "      <td>2</td>\n",
              "      <td>4</td>\n",
              "      <td>80</td>\n",
              "      <td>31</td>\n",
              "      <td>2</td>\n",
              "      <td>3</td>\n",
              "      <td>1</td>\n",
              "      <td>2</td>\n",
              "    </tr>\n",
              "    <tr>\n",
              "      <th>unique</th>\n",
              "      <td>2</td>\n",
              "      <td>2</td>\n",
              "      <td>37</td>\n",
              "      <td>1</td>\n",
              "      <td>1</td>\n",
              "      <td>84</td>\n",
              "      <td>33</td>\n",
              "      <td>2</td>\n",
              "      <td>3</td>\n",
              "      <td>1</td>\n",
              "      <td>2</td>\n",
              "    </tr>\n",
              "  </tbody>\n",
              "</table>\n",
              "</div>"
            ],
            "text/plain": [
              "       manner_of_death armed age  ... threat_level flee body_camera\n",
              "unique               1     2  46  ...            3    4           2\n",
              "unique               1     2  60  ...            3    2           2\n",
              "unique               1     2  52  ...            3    2           2\n",
              "unique               1     2  50  ...            3    4           2\n",
              "unique               1     2  55  ...            3    2           2\n",
              "unique               2     2  46  ...            3    1           2\n",
              "unique               2     2  32  ...            3    1           2\n",
              "unique               2     2  33  ...            3    1           2\n",
              "unique               2     2  37  ...            3    1           2\n",
              "\n",
              "[9 rows x 11 columns]"
            ]
          },
          "metadata": {
            "tags": []
          },
          "execution_count": 120
        }
      ]
    },
    {
      "cell_type": "markdown",
      "metadata": {
        "id": "cmLvgHuS9kRP"
      },
      "source": [
        "The resulting DataFrame has a row for each cluster and each row has a count for every unique value in each column. This helps us see how the samples are similar. For example, if a row has a column with a unique count of 1, the samples in that cluster all share the same value for that column"
      ]
    },
    {
      "cell_type": "markdown",
      "metadata": {
        "id": "BsrwMSG7CSmH"
      },
      "source": [
        "For instance, let us examine the second cluster. From the unique value counts we know, that samples in this cluster have the same matter of death and mental state. \r\n",
        "\r\n",
        "Let us explore what those values are"
      ]
    },
    {
      "cell_type": "code",
      "metadata": {
        "id": "zrg63MfOCT4L",
        "outputId": "505ca8ed-2aec-41a6-e1ad-501ac746de8b",
        "colab": {
          "base_uri": "https://localhost:8080/",
          "height": 195
        }
      },
      "source": [
        "current_cluster = pd.DataFrame()\r\n",
        "for id in similar_shootings[1]:\r\n",
        "  current_cluster[id] = clean_df.iloc[id].drop(['index', 'date', 'name'])\r\n",
        "\r\n",
        "current_cluster.T.head()"
      ],
      "execution_count": 127,
      "outputs": [
        {
          "output_type": "execute_result",
          "data": {
            "text/html": [
              "<div>\n",
              "<style scoped>\n",
              "    .dataframe tbody tr th:only-of-type {\n",
              "        vertical-align: middle;\n",
              "    }\n",
              "\n",
              "    .dataframe tbody tr th {\n",
              "        vertical-align: top;\n",
              "    }\n",
              "\n",
              "    .dataframe thead th {\n",
              "        text-align: right;\n",
              "    }\n",
              "</style>\n",
              "<table border=\"1\" class=\"dataframe\">\n",
              "  <thead>\n",
              "    <tr style=\"text-align: right;\">\n",
              "      <th></th>\n",
              "      <th>manner_of_death</th>\n",
              "      <th>armed</th>\n",
              "      <th>age</th>\n",
              "      <th>gender</th>\n",
              "      <th>race</th>\n",
              "      <th>city</th>\n",
              "      <th>state</th>\n",
              "      <th>signs_of_mental_illness</th>\n",
              "      <th>threat_level</th>\n",
              "      <th>flee</th>\n",
              "      <th>body_camera</th>\n",
              "    </tr>\n",
              "  </thead>\n",
              "  <tbody>\n",
              "    <tr>\n",
              "      <th>1</th>\n",
              "      <td>shot</td>\n",
              "      <td>True</td>\n",
              "      <td>47</td>\n",
              "      <td>M</td>\n",
              "      <td>W</td>\n",
              "      <td>Aloha</td>\n",
              "      <td>OR</td>\n",
              "      <td>False</td>\n",
              "      <td>attack</td>\n",
              "      <td>Not fleeing</td>\n",
              "      <td>False</td>\n",
              "    </tr>\n",
              "    <tr>\n",
              "      <th>5</th>\n",
              "      <td>shot</td>\n",
              "      <td>True</td>\n",
              "      <td>18</td>\n",
              "      <td>M</td>\n",
              "      <td>W</td>\n",
              "      <td>Guthrie</td>\n",
              "      <td>OK</td>\n",
              "      <td>False</td>\n",
              "      <td>attack</td>\n",
              "      <td>Not fleeing</td>\n",
              "      <td>False</td>\n",
              "    </tr>\n",
              "    <tr>\n",
              "      <th>7</th>\n",
              "      <td>shot</td>\n",
              "      <td>True</td>\n",
              "      <td>35</td>\n",
              "      <td>M</td>\n",
              "      <td>W</td>\n",
              "      <td>Assaria</td>\n",
              "      <td>KS</td>\n",
              "      <td>False</td>\n",
              "      <td>attack</td>\n",
              "      <td>Not fleeing</td>\n",
              "      <td>False</td>\n",
              "    </tr>\n",
              "    <tr>\n",
              "      <th>8</th>\n",
              "      <td>shot</td>\n",
              "      <td>False</td>\n",
              "      <td>34</td>\n",
              "      <td>F</td>\n",
              "      <td>W</td>\n",
              "      <td>Burlington</td>\n",
              "      <td>IA</td>\n",
              "      <td>False</td>\n",
              "      <td>other</td>\n",
              "      <td>Not fleeing</td>\n",
              "      <td>True</td>\n",
              "    </tr>\n",
              "    <tr>\n",
              "      <th>15</th>\n",
              "      <td>shot</td>\n",
              "      <td>True</td>\n",
              "      <td>28</td>\n",
              "      <td>M</td>\n",
              "      <td>W</td>\n",
              "      <td>Huntley</td>\n",
              "      <td>MT</td>\n",
              "      <td>False</td>\n",
              "      <td>undetermined</td>\n",
              "      <td>Not fleeing</td>\n",
              "      <td>False</td>\n",
              "    </tr>\n",
              "  </tbody>\n",
              "</table>\n",
              "</div>"
            ],
            "text/plain": [
              "   manner_of_death  armed age  ...  threat_level         flee body_camera\n",
              "1             shot   True  47  ...        attack  Not fleeing       False\n",
              "5             shot   True  18  ...        attack  Not fleeing       False\n",
              "7             shot   True  35  ...        attack  Not fleeing       False\n",
              "8             shot  False  34  ...         other  Not fleeing        True\n",
              "15            shot   True  28  ...  undetermined  Not fleeing       False\n",
              "\n",
              "[5 rows x 11 columns]"
            ]
          },
          "metadata": {
            "tags": []
          },
          "execution_count": 127
        }
      ]
    },
    {
      "cell_type": "markdown",
      "metadata": {
        "id": "cYZCh8fbC86L"
      },
      "source": [
        "We can see that the samples in the second cluster were all shot and did not have signs of mental illness"
      ]
    },
    {
      "cell_type": "markdown",
      "metadata": {
        "id": "msz4qzg885WC"
      },
      "source": [
        "## Building a machine learning model to predict the race of the victim"
      ]
    },
    {
      "cell_type": "markdown",
      "metadata": {
        "id": "l2_Ic1QBEu0i"
      },
      "source": [
        "Next, I would like to see whether we can build a model to predict the race of the victim based on provided details about their death"
      ]
    },
    {
      "cell_type": "markdown",
      "metadata": {
        "id": "jbd_Vx2WJSzw"
      },
      "source": [
        ""
      ]
    },
    {
      "cell_type": "markdown",
      "metadata": {
        "id": "VdsrD2oTFVp6"
      },
      "source": [
        "Once again, we need to begin by encoding our categorical values"
      ]
    },
    {
      "cell_type": "code",
      "metadata": {
        "id": "DNrZQZSYANQD"
      },
      "source": [
        "# Separating and encoding data to integers\r\n",
        "from sklearn.preprocessing import LabelEncoder\r\n",
        "\r\n",
        "le = LabelEncoder()\r\n",
        "y = le.fit_transform(clean_df['race'])\r\n",
        "X = pd.get_dummies(clean_df.filter(['manner_of_death', 'signs_of_mental_illness',\r\n",
        "                                    'armed', 'flee', 'threat_level', 'state', 'gender', \r\n",
        "                                    'age', 'city']))"
      ],
      "execution_count": 130,
      "outputs": []
    },
    {
      "cell_type": "code",
      "metadata": {
        "id": "5QhArcPEFl11",
        "outputId": "93f1c0b1-3c64-4f46-89bf-633a434fd00e",
        "colab": {
          "base_uri": "https://localhost:8080/",
          "height": 261
        }
      },
      "source": [
        "X.head()"
      ],
      "execution_count": 134,
      "outputs": [
        {
          "output_type": "execute_result",
          "data": {
            "text/html": [
              "<div>\n",
              "<style scoped>\n",
              "    .dataframe tbody tr th:only-of-type {\n",
              "        vertical-align: middle;\n",
              "    }\n",
              "\n",
              "    .dataframe tbody tr th {\n",
              "        vertical-align: top;\n",
              "    }\n",
              "\n",
              "    .dataframe thead th {\n",
              "        text-align: right;\n",
              "    }\n",
              "</style>\n",
              "<table border=\"1\" class=\"dataframe\">\n",
              "  <thead>\n",
              "    <tr style=\"text-align: right;\">\n",
              "      <th></th>\n",
              "      <th>signs_of_mental_illness</th>\n",
              "      <th>armed</th>\n",
              "      <th>age</th>\n",
              "      <th>manner_of_death_shot</th>\n",
              "      <th>manner_of_death_shot and Tasered</th>\n",
              "      <th>flee_Car</th>\n",
              "      <th>flee_Foot</th>\n",
              "      <th>flee_Not fleeing</th>\n",
              "      <th>flee_Other</th>\n",
              "      <th>threat_level_attack</th>\n",
              "      <th>threat_level_other</th>\n",
              "      <th>threat_level_undetermined</th>\n",
              "      <th>state_AK</th>\n",
              "      <th>state_AL</th>\n",
              "      <th>state_AR</th>\n",
              "      <th>state_AZ</th>\n",
              "      <th>state_CA</th>\n",
              "      <th>state_CO</th>\n",
              "      <th>state_CT</th>\n",
              "      <th>state_DC</th>\n",
              "      <th>state_DE</th>\n",
              "      <th>state_FL</th>\n",
              "      <th>state_GA</th>\n",
              "      <th>state_HI</th>\n",
              "      <th>state_IA</th>\n",
              "      <th>state_ID</th>\n",
              "      <th>state_IL</th>\n",
              "      <th>state_IN</th>\n",
              "      <th>state_KS</th>\n",
              "      <th>state_KY</th>\n",
              "      <th>state_LA</th>\n",
              "      <th>state_MA</th>\n",
              "      <th>state_MD</th>\n",
              "      <th>state_ME</th>\n",
              "      <th>state_MI</th>\n",
              "      <th>state_MN</th>\n",
              "      <th>state_MO</th>\n",
              "      <th>state_MS</th>\n",
              "      <th>state_MT</th>\n",
              "      <th>state_NC</th>\n",
              "      <th>...</th>\n",
              "      <th>city_West Springfield</th>\n",
              "      <th>city_Westlake</th>\n",
              "      <th>city_Westminster</th>\n",
              "      <th>city_Westover</th>\n",
              "      <th>city_Weymouth</th>\n",
              "      <th>city_White</th>\n",
              "      <th>city_White Plains</th>\n",
              "      <th>city_Whitehaven</th>\n",
              "      <th>city_Whitfield County</th>\n",
              "      <th>city_Whittier</th>\n",
              "      <th>city_Wichita</th>\n",
              "      <th>city_Wilderville</th>\n",
              "      <th>city_Wilhoit</th>\n",
              "      <th>city_Wilkesboro</th>\n",
              "      <th>city_Wilkinsburg</th>\n",
              "      <th>city_Willoughby</th>\n",
              "      <th>city_Wilmington</th>\n",
              "      <th>city_Wilmore</th>\n",
              "      <th>city_Winchester</th>\n",
              "      <th>city_Windsor</th>\n",
              "      <th>city_Wink</th>\n",
              "      <th>city_Winnie</th>\n",
              "      <th>city_Winnsboro</th>\n",
              "      <th>city_Winooski</th>\n",
              "      <th>city_Winslow</th>\n",
              "      <th>city_Wood County</th>\n",
              "      <th>city_Wood Lake</th>\n",
              "      <th>city_Woodbridge</th>\n",
              "      <th>city_Woodford</th>\n",
              "      <th>city_Woodland</th>\n",
              "      <th>city_Woodstock</th>\n",
              "      <th>city_Wyoming</th>\n",
              "      <th>city_Yakima</th>\n",
              "      <th>city_Yonkers</th>\n",
              "      <th>city_Yorba Linda</th>\n",
              "      <th>city_York</th>\n",
              "      <th>city_York County</th>\n",
              "      <th>city_Yuma</th>\n",
              "      <th>city_Zanesville</th>\n",
              "      <th>city_Zion</th>\n",
              "    </tr>\n",
              "  </thead>\n",
              "  <tbody>\n",
              "    <tr>\n",
              "      <th>0</th>\n",
              "      <td>True</td>\n",
              "      <td>True</td>\n",
              "      <td>53.0</td>\n",
              "      <td>1</td>\n",
              "      <td>0</td>\n",
              "      <td>0</td>\n",
              "      <td>0</td>\n",
              "      <td>1</td>\n",
              "      <td>0</td>\n",
              "      <td>1</td>\n",
              "      <td>0</td>\n",
              "      <td>0</td>\n",
              "      <td>0</td>\n",
              "      <td>0</td>\n",
              "      <td>0</td>\n",
              "      <td>0</td>\n",
              "      <td>0</td>\n",
              "      <td>0</td>\n",
              "      <td>0</td>\n",
              "      <td>0</td>\n",
              "      <td>0</td>\n",
              "      <td>0</td>\n",
              "      <td>0</td>\n",
              "      <td>0</td>\n",
              "      <td>0</td>\n",
              "      <td>0</td>\n",
              "      <td>0</td>\n",
              "      <td>0</td>\n",
              "      <td>0</td>\n",
              "      <td>0</td>\n",
              "      <td>0</td>\n",
              "      <td>0</td>\n",
              "      <td>0</td>\n",
              "      <td>0</td>\n",
              "      <td>0</td>\n",
              "      <td>0</td>\n",
              "      <td>0</td>\n",
              "      <td>0</td>\n",
              "      <td>0</td>\n",
              "      <td>0</td>\n",
              "      <td>...</td>\n",
              "      <td>0</td>\n",
              "      <td>0</td>\n",
              "      <td>0</td>\n",
              "      <td>0</td>\n",
              "      <td>0</td>\n",
              "      <td>0</td>\n",
              "      <td>0</td>\n",
              "      <td>0</td>\n",
              "      <td>0</td>\n",
              "      <td>0</td>\n",
              "      <td>0</td>\n",
              "      <td>0</td>\n",
              "      <td>0</td>\n",
              "      <td>0</td>\n",
              "      <td>0</td>\n",
              "      <td>0</td>\n",
              "      <td>0</td>\n",
              "      <td>0</td>\n",
              "      <td>0</td>\n",
              "      <td>0</td>\n",
              "      <td>0</td>\n",
              "      <td>0</td>\n",
              "      <td>0</td>\n",
              "      <td>0</td>\n",
              "      <td>0</td>\n",
              "      <td>0</td>\n",
              "      <td>0</td>\n",
              "      <td>0</td>\n",
              "      <td>0</td>\n",
              "      <td>0</td>\n",
              "      <td>0</td>\n",
              "      <td>0</td>\n",
              "      <td>0</td>\n",
              "      <td>0</td>\n",
              "      <td>0</td>\n",
              "      <td>0</td>\n",
              "      <td>0</td>\n",
              "      <td>0</td>\n",
              "      <td>0</td>\n",
              "      <td>0</td>\n",
              "    </tr>\n",
              "    <tr>\n",
              "      <th>1</th>\n",
              "      <td>False</td>\n",
              "      <td>True</td>\n",
              "      <td>47.0</td>\n",
              "      <td>1</td>\n",
              "      <td>0</td>\n",
              "      <td>0</td>\n",
              "      <td>0</td>\n",
              "      <td>1</td>\n",
              "      <td>0</td>\n",
              "      <td>1</td>\n",
              "      <td>0</td>\n",
              "      <td>0</td>\n",
              "      <td>0</td>\n",
              "      <td>0</td>\n",
              "      <td>0</td>\n",
              "      <td>0</td>\n",
              "      <td>0</td>\n",
              "      <td>0</td>\n",
              "      <td>0</td>\n",
              "      <td>0</td>\n",
              "      <td>0</td>\n",
              "      <td>0</td>\n",
              "      <td>0</td>\n",
              "      <td>0</td>\n",
              "      <td>0</td>\n",
              "      <td>0</td>\n",
              "      <td>0</td>\n",
              "      <td>0</td>\n",
              "      <td>0</td>\n",
              "      <td>0</td>\n",
              "      <td>0</td>\n",
              "      <td>0</td>\n",
              "      <td>0</td>\n",
              "      <td>0</td>\n",
              "      <td>0</td>\n",
              "      <td>0</td>\n",
              "      <td>0</td>\n",
              "      <td>0</td>\n",
              "      <td>0</td>\n",
              "      <td>0</td>\n",
              "      <td>...</td>\n",
              "      <td>0</td>\n",
              "      <td>0</td>\n",
              "      <td>0</td>\n",
              "      <td>0</td>\n",
              "      <td>0</td>\n",
              "      <td>0</td>\n",
              "      <td>0</td>\n",
              "      <td>0</td>\n",
              "      <td>0</td>\n",
              "      <td>0</td>\n",
              "      <td>0</td>\n",
              "      <td>0</td>\n",
              "      <td>0</td>\n",
              "      <td>0</td>\n",
              "      <td>0</td>\n",
              "      <td>0</td>\n",
              "      <td>0</td>\n",
              "      <td>0</td>\n",
              "      <td>0</td>\n",
              "      <td>0</td>\n",
              "      <td>0</td>\n",
              "      <td>0</td>\n",
              "      <td>0</td>\n",
              "      <td>0</td>\n",
              "      <td>0</td>\n",
              "      <td>0</td>\n",
              "      <td>0</td>\n",
              "      <td>0</td>\n",
              "      <td>0</td>\n",
              "      <td>0</td>\n",
              "      <td>0</td>\n",
              "      <td>0</td>\n",
              "      <td>0</td>\n",
              "      <td>0</td>\n",
              "      <td>0</td>\n",
              "      <td>0</td>\n",
              "      <td>0</td>\n",
              "      <td>0</td>\n",
              "      <td>0</td>\n",
              "      <td>0</td>\n",
              "    </tr>\n",
              "    <tr>\n",
              "      <th>2</th>\n",
              "      <td>False</td>\n",
              "      <td>False</td>\n",
              "      <td>23.0</td>\n",
              "      <td>0</td>\n",
              "      <td>1</td>\n",
              "      <td>0</td>\n",
              "      <td>0</td>\n",
              "      <td>1</td>\n",
              "      <td>0</td>\n",
              "      <td>0</td>\n",
              "      <td>1</td>\n",
              "      <td>0</td>\n",
              "      <td>0</td>\n",
              "      <td>0</td>\n",
              "      <td>0</td>\n",
              "      <td>0</td>\n",
              "      <td>0</td>\n",
              "      <td>0</td>\n",
              "      <td>0</td>\n",
              "      <td>0</td>\n",
              "      <td>0</td>\n",
              "      <td>0</td>\n",
              "      <td>0</td>\n",
              "      <td>0</td>\n",
              "      <td>0</td>\n",
              "      <td>0</td>\n",
              "      <td>0</td>\n",
              "      <td>0</td>\n",
              "      <td>1</td>\n",
              "      <td>0</td>\n",
              "      <td>0</td>\n",
              "      <td>0</td>\n",
              "      <td>0</td>\n",
              "      <td>0</td>\n",
              "      <td>0</td>\n",
              "      <td>0</td>\n",
              "      <td>0</td>\n",
              "      <td>0</td>\n",
              "      <td>0</td>\n",
              "      <td>0</td>\n",
              "      <td>...</td>\n",
              "      <td>0</td>\n",
              "      <td>0</td>\n",
              "      <td>0</td>\n",
              "      <td>0</td>\n",
              "      <td>0</td>\n",
              "      <td>0</td>\n",
              "      <td>0</td>\n",
              "      <td>0</td>\n",
              "      <td>0</td>\n",
              "      <td>0</td>\n",
              "      <td>1</td>\n",
              "      <td>0</td>\n",
              "      <td>0</td>\n",
              "      <td>0</td>\n",
              "      <td>0</td>\n",
              "      <td>0</td>\n",
              "      <td>0</td>\n",
              "      <td>0</td>\n",
              "      <td>0</td>\n",
              "      <td>0</td>\n",
              "      <td>0</td>\n",
              "      <td>0</td>\n",
              "      <td>0</td>\n",
              "      <td>0</td>\n",
              "      <td>0</td>\n",
              "      <td>0</td>\n",
              "      <td>0</td>\n",
              "      <td>0</td>\n",
              "      <td>0</td>\n",
              "      <td>0</td>\n",
              "      <td>0</td>\n",
              "      <td>0</td>\n",
              "      <td>0</td>\n",
              "      <td>0</td>\n",
              "      <td>0</td>\n",
              "      <td>0</td>\n",
              "      <td>0</td>\n",
              "      <td>0</td>\n",
              "      <td>0</td>\n",
              "      <td>0</td>\n",
              "    </tr>\n",
              "    <tr>\n",
              "      <th>3</th>\n",
              "      <td>True</td>\n",
              "      <td>True</td>\n",
              "      <td>32.0</td>\n",
              "      <td>1</td>\n",
              "      <td>0</td>\n",
              "      <td>0</td>\n",
              "      <td>0</td>\n",
              "      <td>1</td>\n",
              "      <td>0</td>\n",
              "      <td>1</td>\n",
              "      <td>0</td>\n",
              "      <td>0</td>\n",
              "      <td>0</td>\n",
              "      <td>0</td>\n",
              "      <td>0</td>\n",
              "      <td>0</td>\n",
              "      <td>1</td>\n",
              "      <td>0</td>\n",
              "      <td>0</td>\n",
              "      <td>0</td>\n",
              "      <td>0</td>\n",
              "      <td>0</td>\n",
              "      <td>0</td>\n",
              "      <td>0</td>\n",
              "      <td>0</td>\n",
              "      <td>0</td>\n",
              "      <td>0</td>\n",
              "      <td>0</td>\n",
              "      <td>0</td>\n",
              "      <td>0</td>\n",
              "      <td>0</td>\n",
              "      <td>0</td>\n",
              "      <td>0</td>\n",
              "      <td>0</td>\n",
              "      <td>0</td>\n",
              "      <td>0</td>\n",
              "      <td>0</td>\n",
              "      <td>0</td>\n",
              "      <td>0</td>\n",
              "      <td>0</td>\n",
              "      <td>...</td>\n",
              "      <td>0</td>\n",
              "      <td>0</td>\n",
              "      <td>0</td>\n",
              "      <td>0</td>\n",
              "      <td>0</td>\n",
              "      <td>0</td>\n",
              "      <td>0</td>\n",
              "      <td>0</td>\n",
              "      <td>0</td>\n",
              "      <td>0</td>\n",
              "      <td>0</td>\n",
              "      <td>0</td>\n",
              "      <td>0</td>\n",
              "      <td>0</td>\n",
              "      <td>0</td>\n",
              "      <td>0</td>\n",
              "      <td>0</td>\n",
              "      <td>0</td>\n",
              "      <td>0</td>\n",
              "      <td>0</td>\n",
              "      <td>0</td>\n",
              "      <td>0</td>\n",
              "      <td>0</td>\n",
              "      <td>0</td>\n",
              "      <td>0</td>\n",
              "      <td>0</td>\n",
              "      <td>0</td>\n",
              "      <td>0</td>\n",
              "      <td>0</td>\n",
              "      <td>0</td>\n",
              "      <td>0</td>\n",
              "      <td>0</td>\n",
              "      <td>0</td>\n",
              "      <td>0</td>\n",
              "      <td>0</td>\n",
              "      <td>0</td>\n",
              "      <td>0</td>\n",
              "      <td>0</td>\n",
              "      <td>0</td>\n",
              "      <td>0</td>\n",
              "    </tr>\n",
              "    <tr>\n",
              "      <th>4</th>\n",
              "      <td>False</td>\n",
              "      <td>True</td>\n",
              "      <td>39.0</td>\n",
              "      <td>1</td>\n",
              "      <td>0</td>\n",
              "      <td>0</td>\n",
              "      <td>0</td>\n",
              "      <td>1</td>\n",
              "      <td>0</td>\n",
              "      <td>1</td>\n",
              "      <td>0</td>\n",
              "      <td>0</td>\n",
              "      <td>0</td>\n",
              "      <td>0</td>\n",
              "      <td>0</td>\n",
              "      <td>0</td>\n",
              "      <td>0</td>\n",
              "      <td>1</td>\n",
              "      <td>0</td>\n",
              "      <td>0</td>\n",
              "      <td>0</td>\n",
              "      <td>0</td>\n",
              "      <td>0</td>\n",
              "      <td>0</td>\n",
              "      <td>0</td>\n",
              "      <td>0</td>\n",
              "      <td>0</td>\n",
              "      <td>0</td>\n",
              "      <td>0</td>\n",
              "      <td>0</td>\n",
              "      <td>0</td>\n",
              "      <td>0</td>\n",
              "      <td>0</td>\n",
              "      <td>0</td>\n",
              "      <td>0</td>\n",
              "      <td>0</td>\n",
              "      <td>0</td>\n",
              "      <td>0</td>\n",
              "      <td>0</td>\n",
              "      <td>0</td>\n",
              "      <td>...</td>\n",
              "      <td>0</td>\n",
              "      <td>0</td>\n",
              "      <td>0</td>\n",
              "      <td>0</td>\n",
              "      <td>0</td>\n",
              "      <td>0</td>\n",
              "      <td>0</td>\n",
              "      <td>0</td>\n",
              "      <td>0</td>\n",
              "      <td>0</td>\n",
              "      <td>0</td>\n",
              "      <td>0</td>\n",
              "      <td>0</td>\n",
              "      <td>0</td>\n",
              "      <td>0</td>\n",
              "      <td>0</td>\n",
              "      <td>0</td>\n",
              "      <td>0</td>\n",
              "      <td>0</td>\n",
              "      <td>0</td>\n",
              "      <td>0</td>\n",
              "      <td>0</td>\n",
              "      <td>0</td>\n",
              "      <td>0</td>\n",
              "      <td>0</td>\n",
              "      <td>0</td>\n",
              "      <td>0</td>\n",
              "      <td>0</td>\n",
              "      <td>0</td>\n",
              "      <td>0</td>\n",
              "      <td>0</td>\n",
              "      <td>0</td>\n",
              "      <td>0</td>\n",
              "      <td>0</td>\n",
              "      <td>0</td>\n",
              "      <td>0</td>\n",
              "      <td>0</td>\n",
              "      <td>0</td>\n",
              "      <td>0</td>\n",
              "      <td>0</td>\n",
              "    </tr>\n",
              "  </tbody>\n",
              "</table>\n",
              "<p>5 rows × 1224 columns</p>\n",
              "</div>"
            ],
            "text/plain": [
              "   signs_of_mental_illness  armed   age  ...  city_Yuma  city_Zanesville  city_Zion\n",
              "0                     True   True  53.0  ...          0                0          0\n",
              "1                    False   True  47.0  ...          0                0          0\n",
              "2                    False  False  23.0  ...          0                0          0\n",
              "3                     True   True  32.0  ...          0                0          0\n",
              "4                    False   True  39.0  ...          0                0          0\n",
              "\n",
              "[5 rows x 1224 columns]"
            ]
          },
          "metadata": {
            "tags": []
          },
          "execution_count": 134
        }
      ]
    },
    {
      "cell_type": "markdown",
      "metadata": {
        "id": "u7-CPECnFhOa"
      },
      "source": [
        "I will also split the dataset into training and testing sets to be able to test the final model accuracy on previously unseen data"
      ]
    },
    {
      "cell_type": "code",
      "metadata": {
        "id": "KRMRfPMo9UBj"
      },
      "source": [
        "# Splitting the dataset\r\n",
        "from sklearn.model_selection import train_test_split\r\n",
        "\r\n",
        "X_train, X_test, y_train, y_test = \\\r\n",
        "train_test_split(X, y, test_size=0.2, random_state=42)"
      ],
      "execution_count": 142,
      "outputs": []
    },
    {
      "cell_type": "markdown",
      "metadata": {
        "id": "-KI5pjyZHN6w"
      },
      "source": [
        "Next, I will train a RandomForestClassifier on the training data and test its accuracy on the unseen testing data"
      ]
    },
    {
      "cell_type": "code",
      "metadata": {
        "id": "r7zVFVONG44Y",
        "outputId": "c10e4d4e-b007-4e52-f16d-50639668a4bb",
        "colab": {
          "base_uri": "https://localhost:8080/"
        }
      },
      "source": [
        "# Building a random forests classifier\r\n",
        "from sklearn.ensemble import RandomForestClassifier\r\n",
        "\r\n",
        "rfc = RandomForestClassifier(random_state=42)\r\n",
        "rfc.fit(X_train, y_train)\r\n",
        "\r\n",
        "print(f\"Model predicts with {round((rfc.score(X_test, y_test)*100), 2)}% accuracy\")"
      ],
      "execution_count": 143,
      "outputs": [
        {
          "output_type": "stream",
          "text": [
            "Model predicts with 61.56% accuracy\n"
          ],
          "name": "stdout"
        }
      ]
    },
    {
      "cell_type": "markdown",
      "metadata": {
        "id": "EypyzkCGICFm"
      },
      "source": [
        "We can see that the model predicts >60% accuracy. That a bit better than just guessing"
      ]
    },
    {
      "cell_type": "code",
      "metadata": {
        "colab": {
          "base_uri": "https://localhost:8080/"
        },
        "id": "LPB5U0IVxp9X",
        "outputId": "08346c07-3599-41aa-8a1d-e2d37d0982b4"
      },
      "source": [
        "# Testing for accuracy with a random sample\r\n",
        "\r\n",
        "random_id = random.randint(0, np.size(y)-1)\r\n",
        "\r\n",
        "new_prediction = rfc.predict([X.iloc[random_id]])\r\n",
        "print(f\"The model predicted the race to be {le.inverse_transform(new_prediction)[0]}, while the ground truth is {clean_df['race'].iloc[random_id]}\")"
      ],
      "execution_count": 151,
      "outputs": [
        {
          "output_type": "stream",
          "text": [
            "The model predicted the race to be W, while the ground truth is W\n"
          ],
          "name": "stdout"
        }
      ]
    }
  ]
}
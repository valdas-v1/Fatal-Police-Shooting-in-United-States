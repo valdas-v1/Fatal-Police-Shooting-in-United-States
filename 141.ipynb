{
  "nbformat": 4,
  "nbformat_minor": 0,
  "metadata": {
    "kernelspec": {
      "display_name": "Python 3",
      "language": "python",
      "name": "python3"
    },
    "language_info": {
      "codemirror_mode": {
        "name": "ipython",
        "version": 3
      },
      "file_extension": ".py",
      "mimetype": "text/x-python",
      "name": "python",
      "nbconvert_exporter": "python",
      "pygments_lexer": "ipython3",
      "version": "3.8.5"
    },
    "colab": {
      "name": "141.ipynb",
      "provenance": [],
      "toc_visible": true,
      "include_colab_link": true
    }
  },
  "cells": [
    {
      "cell_type": "markdown",
      "metadata": {
        "id": "view-in-github",
        "colab_type": "text"
      },
      "source": [
        "<a href=\"https://colab.research.google.com/github/TuringCollegeSubmissions/vpaula-DS.1.4/blob/master/141.ipynb\" target=\"_parent\"><img src=\"https://colab.research.google.com/assets/colab-badge.svg\" alt=\"Open In Colab\"/></a>"
      ]
    },
    {
      "cell_type": "markdown",
      "metadata": {
        "id": "rvEMoKswLxEM"
      },
      "source": [
        "# Capstone Project"
      ]
    },
    {
      "cell_type": "markdown",
      "metadata": {
        "id": "x1eTtGbhLxEV"
      },
      "source": [
        "## Background"
      ]
    },
    {
      "cell_type": "markdown",
      "metadata": {
        "id": "zc2BLo5PLxEV"
      },
      "source": [
        "We are glad you have successfully reached the capstone project part of \"Data Science Fundamentals\" course. You will put everything \n",
        "you have learned so far about data science to work. The outcome of this module should potentially serve as your portfolio item.\n",
        "\n",
        "Unlike with previous projects, this time you are free to choose a dataset to explore from two suggested ones. As you will have to solve a provided problem using one or another dataset, there will not be list of predefined questions that you have to answer - be creative and explore any dimensions of data you deem worth analyzing.\n",
        "\n",
        "Although this might seem scary, this is how data science looks like in the industry. Often, it's your responsibility to not only give answers using the data, but also raise questions. The more creatively you look at this project, the better. Good luck!"
      ]
    },
    {
      "cell_type": "markdown",
      "metadata": {
        "id": "AQpFRoIcLxEV"
      },
      "source": [
        "----"
      ]
    },
    {
      "cell_type": "markdown",
      "metadata": {
        "id": "Xrm6lSuVLxEW"
      },
      "source": [
        "## Requirements\n",
        "\n",
        "Whichever problem you choose to analyze, general requirements are as follow:\n",
        "\n",
        "#### Exploratory Data Analysis\n",
        "* Describe the data with basic statistical parameters - mean, median, quantiles, etc. Use parameters that give you the most important statistical insights of the data.\n",
        "* Grouping the data and analyzing the groups - using Pandas aggregate methods.\n",
        "* Work with features - handle missing data if needed, use pandas date APIs.\n",
        "* Manipulate datasets - use joins in needed.\n",
        "* Visualize the data - you can use line, scatter, histogram plots, density plots, regplots, etc.\n",
        "\n",
        "#### Statistical hypothesis testing\n",
        "* Use at least one statistical significance test.\n",
        "* Report p-values.\n",
        "* Use visualizations.\n",
        "\n",
        "#### Modeling\n",
        "* Visualize data with dimensionality reduction algorithms.\n",
        "* Perform cluster analysis.\n",
        "* Use a linear model to explain relationships by correlation and predict new values.\n",
        "\n",
        "#### Presentation\n",
        "* Present the project - the data, methods and results."
      ]
    },
    {
      "cell_type": "markdown",
      "metadata": {
        "id": "3opbMiAwLxEW"
      },
      "source": [
        "## Problems"
      ]
    },
    {
      "cell_type": "markdown",
      "metadata": {
        "id": "LB0McCfKLxEW"
      },
      "source": [
        "#### COVID-19 crisis "
      ]
    },
    {
      "cell_type": "markdown",
      "metadata": {
        "id": "akIEHNERLxEW"
      },
      "source": [
        "<div><img width=\"400px\" height=\"auto\" src=\"https://images.unsplash.com/photo-1574515944794-d6dedc7150de?ixlib=rb-1.2.1&ixid=MXwxMjA3fDB8MHxwaG90by1wYWdlfHx8fGVufDB8fHw%3D&auto=format&fit=crop&w=1532&q=80\" /></div>"
      ]
    },
    {
      "cell_type": "markdown",
      "metadata": {
        "id": "-BlhUmxeLxEX"
      },
      "source": [
        "The world is still struggling with one the most rapidly spreading pandemics. There are a lot of people who say that data is the best weapon we can use in this \"Corona Fight\". \n",
        "\n",
        "Imagine that you are one of the best data scientists in your country. The president of your country asked you to analyze the COVID-19 patient-level data of South Korea and prepare your homeland for the next wave of the pandemic. You, as the lead data scientist of your country **have to create and prove a plan of fighting the pandemics in your country** by analyzing the provided data. You must get most important insights using learned data science techniques and present them to the lead of your country."
      ]
    },
    {
      "cell_type": "markdown",
      "metadata": {
        "id": "MmE3RWDeLxEX"
      },
      "source": [
        "https://www.kaggle.com/kimjihoo/coronavirusdataset/"
      ]
    },
    {
      "cell_type": "markdown",
      "metadata": {
        "id": "RZp1LkxALxEX"
      },
      "source": [
        "#### 2016 US presidential elections"
      ]
    },
    {
      "cell_type": "markdown",
      "metadata": {
        "id": "h8Cp-WIyLxEX"
      },
      "source": [
        "<div><img width=\"400px\" height=\"auto\" src=\"https://images.unsplash.com/photo-1583340806569-6da3d5ea9911?ixlib=rb-1.2.1&ixid=MXwxMjA3fDB8MHxwaG90by1wYWdlfHx8fGVufDB8fHw%3D&auto=format&fit=crop&w=1315&q=80\" /></div>"
      ]
    },
    {
      "cell_type": "markdown",
      "metadata": {
        "id": "RYSPsqGgLxEX"
      },
      "source": [
        "In 2016, Donald Trump lost the popular vote, yet he won the electoral vote, securing 4 years in the Oval Office. This has been a shock to democrat supporters all around the world.\n",
        "\n",
        "Imagine you travel back in time to 2016. As soon as you step out of your time-capsule, the Democratic Party hires you. They want you, the best data scientist across the time and space, **to explain what happened and what should have been done differently**. They want you to **prepare them for 2020 presidential elections**.\n",
        "\n",
        "The Party has some tips for you - inspect the voters. What are Trump supporters? What do they feature? What are our supporters? Where should focus next? Any pro-trump states? Cities?\n",
        "\n",
        "The Democrats were kind of enough to share [a Kaggle dataset](https://www.kaggle.com/benhamner/2016-us-election) with you on 2016 U.S. elections. Use the data to help the Democrats."
      ]
    },
    {
      "cell_type": "markdown",
      "metadata": {
        "id": "v4EqFWqwLxEY"
      },
      "source": [
        "#### Fatal Police Shooting in United States"
      ]
    },
    {
      "cell_type": "markdown",
      "metadata": {
        "id": "8cBcD-7cLxEY"
      },
      "source": [
        "<div><img width=\"400px\" height=\"auto\" src=\"https://images.unsplash.com/photo-1606352466047-7cef02b312bb?ixlib=rb-1.2.1&ixid=MXwxMjA3fDB8MHxwaG90by1wYWdlfHx8fGVufDB8fHw%3D&auto=format&fit=crop&w=1662&q=80\" /></div>"
      ]
    },
    {
      "cell_type": "markdown",
      "metadata": {
        "id": "sdnwKDLbLxEY"
      },
      "source": [
        "[Police brutality in the United States](https://en.wikipedia.org/wiki/Police_brutality_in_the_United_States) has been an nationwide issue since the 20th century. Public safety of U.S. citizens is a typical argument to justify the controversially high number of fatal shootings.\n",
        "\n",
        "You are a contractor to the United States Department of Justice. **You have been given a case to investigate fatal police shootings throughout the United States of America, provide a list of issues, and propose a plan on how to tackle these issues**.\n",
        "\n",
        "The department offered some tips - the public opinion indicates that there's something systematically fishy of police actions against civilians, some states differ from other, some cities are different from others, race equality is still an unanswered question, there's some talk about huge spendings on police, rumors about mental issues of those getting shot. Government is all about prioritizing - use the data to list issues with the police activity and propose a plan which issues to tackle first and how.\n",
        "\n",
        "Your are given 1 dataset to start with. Try to search for more datasets to enrich your data analysis."
      ]
    },
    {
      "cell_type": "markdown",
      "metadata": {
        "id": "YuGiAEZ-LxEY"
      },
      "source": [
        "Here's the dataset:\n",
        "\n",
        "* [Fatal Police Shootings in the U.S. '15 - '17](https://www.kaggle.com/washingtonpost/police-shootings)."
      ]
    },
    {
      "cell_type": "markdown",
      "metadata": {
        "id": "gt6n0XVcLxEY"
      },
      "source": [
        "## Evaluation Criteria"
      ]
    },
    {
      "cell_type": "markdown",
      "metadata": {
        "id": "6L-UIoR6LxEZ"
      },
      "source": [
        "- Code quality\n",
        "- Fulfillment of the idea\n",
        "- Adherence to the requirements\n",
        "- Delivery of the presentation\n",
        "\n",
        "#### Statistical hypothesis testing\n",
        "- Correct statistical test method is used, based on the situation.\n",
        "- Reasoning on chosen statistical significance level.\n",
        "\n",
        "#### Modeling\n",
        "- Both PCA and T-SNE algorithms are used."
      ]
    },
    {
      "cell_type": "markdown",
      "metadata": {
        "id": "DEsTLqTaQZEZ"
      },
      "source": [
        "# Fatal Police Shooting in United States"
      ]
    },
    {
      "cell_type": "markdown",
      "metadata": {
        "id": "5izl-nVjQweD"
      },
      "source": [
        "## Imports and dataset cleaning"
      ]
    },
    {
      "cell_type": "markdown",
      "metadata": {
        "id": "PcUs5_KcBxBB"
      },
      "source": [
        "### Imports"
      ]
    },
    {
      "cell_type": "code",
      "metadata": {
        "id": "aHYOCwMLQYrB"
      },
      "source": [
        "import pandas as pd\r\n",
        "import seaborn as sns\r\n",
        "sns.set_theme()\r\n",
        "import matplotlib.pyplot as plt\r\n",
        "import numpy as np\r\n",
        "import scipy.stats as st\r\n",
        "\r\n",
        "class display(object):\r\n",
        "    \"\"\"Display HTML representation of multiple objects\"\"\"\r\n",
        "    template = \"\"\"<div style=\"float: left; padding: 10px;\">\r\n",
        "    <p style='font-family:\"Courier New\", Courier, monospace'>{0}</p>{1}\r\n",
        "    </div>\"\"\"\r\n",
        "    def __init__(self, *args):\r\n",
        "        self.args = args\r\n",
        "        \r\n",
        "    def _repr_html_(self):\r\n",
        "        return '\\n'.join(self.template.format(a, eval(a)._repr_html_())\r\n",
        "                         for a in self.args)\r\n",
        "    \r\n",
        "    def __repr__(self):\r\n",
        "        return '\\n\\n'.join(a + '\\n' + repr(eval(a))\r\n",
        "                           for a in self.args)\r\n",
        "\r\n",
        "\r\n",
        "# The text needs to be white on dark mode of colab\r\n",
        "\r\n",
        "COLOR = 'white'\r\n",
        "plt.rcParams['text.color'] = COLOR\r\n",
        "plt.rcParams['axes.labelcolor'] = COLOR\r\n",
        "plt.rcParams['xtick.color'] = COLOR\r\n",
        "plt.rcParams['ytick.color'] = COLOR"
      ],
      "execution_count": 1,
      "outputs": []
    },
    {
      "cell_type": "code",
      "metadata": {
        "colab": {
          "base_uri": "https://localhost:8080/",
          "height": 195
        },
        "id": "N8iU3w48QcmG",
        "outputId": "4dc13346-bce4-4085-eece-cbaf9fe0cd15"
      },
      "source": [
        "df = pd.read_csv('data.csv')\r\n",
        "df.head()"
      ],
      "execution_count": 2,
      "outputs": [
        {
          "output_type": "execute_result",
          "data": {
            "text/html": [
              "<div>\n",
              "<style scoped>\n",
              "    .dataframe tbody tr th:only-of-type {\n",
              "        vertical-align: middle;\n",
              "    }\n",
              "\n",
              "    .dataframe tbody tr th {\n",
              "        vertical-align: top;\n",
              "    }\n",
              "\n",
              "    .dataframe thead th {\n",
              "        text-align: right;\n",
              "    }\n",
              "</style>\n",
              "<table border=\"1\" class=\"dataframe\">\n",
              "  <thead>\n",
              "    <tr style=\"text-align: right;\">\n",
              "      <th></th>\n",
              "      <th>id</th>\n",
              "      <th>name</th>\n",
              "      <th>date</th>\n",
              "      <th>manner_of_death</th>\n",
              "      <th>armed</th>\n",
              "      <th>age</th>\n",
              "      <th>gender</th>\n",
              "      <th>race</th>\n",
              "      <th>city</th>\n",
              "      <th>state</th>\n",
              "      <th>signs_of_mental_illness</th>\n",
              "      <th>threat_level</th>\n",
              "      <th>flee</th>\n",
              "      <th>body_camera</th>\n",
              "    </tr>\n",
              "  </thead>\n",
              "  <tbody>\n",
              "    <tr>\n",
              "      <th>0</th>\n",
              "      <td>3</td>\n",
              "      <td>Tim Elliot</td>\n",
              "      <td>2015-01-02</td>\n",
              "      <td>shot</td>\n",
              "      <td>gun</td>\n",
              "      <td>53.0</td>\n",
              "      <td>M</td>\n",
              "      <td>A</td>\n",
              "      <td>Shelton</td>\n",
              "      <td>WA</td>\n",
              "      <td>True</td>\n",
              "      <td>attack</td>\n",
              "      <td>Not fleeing</td>\n",
              "      <td>False</td>\n",
              "    </tr>\n",
              "    <tr>\n",
              "      <th>1</th>\n",
              "      <td>4</td>\n",
              "      <td>Lewis Lee Lembke</td>\n",
              "      <td>2015-01-02</td>\n",
              "      <td>shot</td>\n",
              "      <td>gun</td>\n",
              "      <td>47.0</td>\n",
              "      <td>M</td>\n",
              "      <td>W</td>\n",
              "      <td>Aloha</td>\n",
              "      <td>OR</td>\n",
              "      <td>False</td>\n",
              "      <td>attack</td>\n",
              "      <td>Not fleeing</td>\n",
              "      <td>False</td>\n",
              "    </tr>\n",
              "    <tr>\n",
              "      <th>2</th>\n",
              "      <td>5</td>\n",
              "      <td>John Paul Quintero</td>\n",
              "      <td>2015-01-03</td>\n",
              "      <td>shot and Tasered</td>\n",
              "      <td>unarmed</td>\n",
              "      <td>23.0</td>\n",
              "      <td>M</td>\n",
              "      <td>H</td>\n",
              "      <td>Wichita</td>\n",
              "      <td>KS</td>\n",
              "      <td>False</td>\n",
              "      <td>other</td>\n",
              "      <td>Not fleeing</td>\n",
              "      <td>False</td>\n",
              "    </tr>\n",
              "    <tr>\n",
              "      <th>3</th>\n",
              "      <td>8</td>\n",
              "      <td>Matthew Hoffman</td>\n",
              "      <td>2015-01-04</td>\n",
              "      <td>shot</td>\n",
              "      <td>toy weapon</td>\n",
              "      <td>32.0</td>\n",
              "      <td>M</td>\n",
              "      <td>W</td>\n",
              "      <td>San Francisco</td>\n",
              "      <td>CA</td>\n",
              "      <td>True</td>\n",
              "      <td>attack</td>\n",
              "      <td>Not fleeing</td>\n",
              "      <td>False</td>\n",
              "    </tr>\n",
              "    <tr>\n",
              "      <th>4</th>\n",
              "      <td>9</td>\n",
              "      <td>Michael Rodriguez</td>\n",
              "      <td>2015-01-04</td>\n",
              "      <td>shot</td>\n",
              "      <td>nail gun</td>\n",
              "      <td>39.0</td>\n",
              "      <td>M</td>\n",
              "      <td>H</td>\n",
              "      <td>Evans</td>\n",
              "      <td>CO</td>\n",
              "      <td>False</td>\n",
              "      <td>attack</td>\n",
              "      <td>Not fleeing</td>\n",
              "      <td>False</td>\n",
              "    </tr>\n",
              "  </tbody>\n",
              "</table>\n",
              "</div>"
            ],
            "text/plain": [
              "   id                name        date  ... threat_level         flee  body_camera\n",
              "0   3          Tim Elliot  2015-01-02  ...       attack  Not fleeing        False\n",
              "1   4    Lewis Lee Lembke  2015-01-02  ...       attack  Not fleeing        False\n",
              "2   5  John Paul Quintero  2015-01-03  ...        other  Not fleeing        False\n",
              "3   8     Matthew Hoffman  2015-01-04  ...       attack  Not fleeing        False\n",
              "4   9   Michael Rodriguez  2015-01-04  ...       attack  Not fleeing        False\n",
              "\n",
              "[5 rows x 14 columns]"
            ]
          },
          "metadata": {
            "tags": []
          },
          "execution_count": 2
        }
      ]
    },
    {
      "cell_type": "code",
      "metadata": {
        "colab": {
          "base_uri": "https://localhost:8080/"
        },
        "id": "l9ILN_L5Uu8b",
        "outputId": "670b5eeb-b3b3-4c98-d65f-74bbd17b3a03"
      },
      "source": [
        "df.info()"
      ],
      "execution_count": 3,
      "outputs": [
        {
          "output_type": "stream",
          "text": [
            "<class 'pandas.core.frame.DataFrame'>\n",
            "RangeIndex: 2142 entries, 0 to 2141\n",
            "Data columns (total 14 columns):\n",
            " #   Column                   Non-Null Count  Dtype  \n",
            "---  ------                   --------------  -----  \n",
            " 0   id                       2142 non-null   int64  \n",
            " 1   name                     2123 non-null   object \n",
            " 2   date                     2142 non-null   object \n",
            " 3   manner_of_death          2142 non-null   object \n",
            " 4   armed                    2136 non-null   object \n",
            " 5   age                      2099 non-null   float64\n",
            " 6   gender                   2141 non-null   object \n",
            " 7   race                     2039 non-null   object \n",
            " 8   city                     2142 non-null   object \n",
            " 9   state                    2142 non-null   object \n",
            " 10  signs_of_mental_illness  2142 non-null   bool   \n",
            " 11  threat_level             2142 non-null   object \n",
            " 12  flee                     2106 non-null   object \n",
            " 13  body_camera              2142 non-null   bool   \n",
            "dtypes: bool(2), float64(1), int64(1), object(10)\n",
            "memory usage: 205.1+ KB\n"
          ],
          "name": "stdout"
        }
      ]
    },
    {
      "cell_type": "markdown",
      "metadata": {
        "id": "nFyRniNKu63Q"
      },
      "source": [
        "Since there are null values, the dataset will need to be cleaned"
      ]
    },
    {
      "cell_type": "markdown",
      "metadata": {
        "id": "TLkFSwOfuBgr"
      },
      "source": [
        "### Cleaning dataset"
      ]
    },
    {
      "cell_type": "code",
      "metadata": {
        "colab": {
          "base_uri": "https://localhost:8080/"
        },
        "id": "ERC05Q4zuJAx",
        "outputId": "befd9f48-1750-4c21-b538-3e288e664fe2"
      },
      "source": [
        "# Counting null values in each column\r\n",
        "\r\n",
        "df.isnull().sum()"
      ],
      "execution_count": 4,
      "outputs": [
        {
          "output_type": "execute_result",
          "data": {
            "text/plain": [
              "id                           0\n",
              "name                        19\n",
              "date                         0\n",
              "manner_of_death              0\n",
              "armed                        6\n",
              "age                         43\n",
              "gender                       1\n",
              "race                       103\n",
              "city                         0\n",
              "state                        0\n",
              "signs_of_mental_illness      0\n",
              "threat_level                 0\n",
              "flee                        36\n",
              "body_camera                  0\n",
              "dtype: int64"
            ]
          },
          "metadata": {
            "tags": []
          },
          "execution_count": 4
        }
      ]
    },
    {
      "cell_type": "code",
      "metadata": {
        "colab": {
          "base_uri": "https://localhost:8080/",
          "height": 402
        },
        "id": "8WBVaWo4uOvM",
        "outputId": "75b1e8c9-7720-49a8-c4df-f856fe283782"
      },
      "source": [
        "# Dropping all null values\r\n",
        "\r\n",
        "clean_df = df.dropna().drop('id', axis=1).reset_index()\r\n",
        "\r\n",
        "clean_df"
      ],
      "execution_count": 5,
      "outputs": [
        {
          "output_type": "execute_result",
          "data": {
            "text/html": [
              "<div>\n",
              "<style scoped>\n",
              "    .dataframe tbody tr th:only-of-type {\n",
              "        vertical-align: middle;\n",
              "    }\n",
              "\n",
              "    .dataframe tbody tr th {\n",
              "        vertical-align: top;\n",
              "    }\n",
              "\n",
              "    .dataframe thead th {\n",
              "        text-align: right;\n",
              "    }\n",
              "</style>\n",
              "<table border=\"1\" class=\"dataframe\">\n",
              "  <thead>\n",
              "    <tr style=\"text-align: right;\">\n",
              "      <th></th>\n",
              "      <th>index</th>\n",
              "      <th>name</th>\n",
              "      <th>date</th>\n",
              "      <th>manner_of_death</th>\n",
              "      <th>armed</th>\n",
              "      <th>age</th>\n",
              "      <th>gender</th>\n",
              "      <th>race</th>\n",
              "      <th>city</th>\n",
              "      <th>state</th>\n",
              "      <th>signs_of_mental_illness</th>\n",
              "      <th>threat_level</th>\n",
              "      <th>flee</th>\n",
              "      <th>body_camera</th>\n",
              "    </tr>\n",
              "  </thead>\n",
              "  <tbody>\n",
              "    <tr>\n",
              "      <th>0</th>\n",
              "      <td>0</td>\n",
              "      <td>Tim Elliot</td>\n",
              "      <td>2015-01-02</td>\n",
              "      <td>shot</td>\n",
              "      <td>gun</td>\n",
              "      <td>53.0</td>\n",
              "      <td>M</td>\n",
              "      <td>A</td>\n",
              "      <td>Shelton</td>\n",
              "      <td>WA</td>\n",
              "      <td>True</td>\n",
              "      <td>attack</td>\n",
              "      <td>Not fleeing</td>\n",
              "      <td>False</td>\n",
              "    </tr>\n",
              "    <tr>\n",
              "      <th>1</th>\n",
              "      <td>1</td>\n",
              "      <td>Lewis Lee Lembke</td>\n",
              "      <td>2015-01-02</td>\n",
              "      <td>shot</td>\n",
              "      <td>gun</td>\n",
              "      <td>47.0</td>\n",
              "      <td>M</td>\n",
              "      <td>W</td>\n",
              "      <td>Aloha</td>\n",
              "      <td>OR</td>\n",
              "      <td>False</td>\n",
              "      <td>attack</td>\n",
              "      <td>Not fleeing</td>\n",
              "      <td>False</td>\n",
              "    </tr>\n",
              "    <tr>\n",
              "      <th>2</th>\n",
              "      <td>2</td>\n",
              "      <td>John Paul Quintero</td>\n",
              "      <td>2015-01-03</td>\n",
              "      <td>shot and Tasered</td>\n",
              "      <td>unarmed</td>\n",
              "      <td>23.0</td>\n",
              "      <td>M</td>\n",
              "      <td>H</td>\n",
              "      <td>Wichita</td>\n",
              "      <td>KS</td>\n",
              "      <td>False</td>\n",
              "      <td>other</td>\n",
              "      <td>Not fleeing</td>\n",
              "      <td>False</td>\n",
              "    </tr>\n",
              "    <tr>\n",
              "      <th>3</th>\n",
              "      <td>3</td>\n",
              "      <td>Matthew Hoffman</td>\n",
              "      <td>2015-01-04</td>\n",
              "      <td>shot</td>\n",
              "      <td>toy weapon</td>\n",
              "      <td>32.0</td>\n",
              "      <td>M</td>\n",
              "      <td>W</td>\n",
              "      <td>San Francisco</td>\n",
              "      <td>CA</td>\n",
              "      <td>True</td>\n",
              "      <td>attack</td>\n",
              "      <td>Not fleeing</td>\n",
              "      <td>False</td>\n",
              "    </tr>\n",
              "    <tr>\n",
              "      <th>4</th>\n",
              "      <td>4</td>\n",
              "      <td>Michael Rodriguez</td>\n",
              "      <td>2015-01-04</td>\n",
              "      <td>shot</td>\n",
              "      <td>nail gun</td>\n",
              "      <td>39.0</td>\n",
              "      <td>M</td>\n",
              "      <td>H</td>\n",
              "      <td>Evans</td>\n",
              "      <td>CO</td>\n",
              "      <td>False</td>\n",
              "      <td>attack</td>\n",
              "      <td>Not fleeing</td>\n",
              "      <td>False</td>\n",
              "    </tr>\n",
              "    <tr>\n",
              "      <th>...</th>\n",
              "      <td>...</td>\n",
              "      <td>...</td>\n",
              "      <td>...</td>\n",
              "      <td>...</td>\n",
              "      <td>...</td>\n",
              "      <td>...</td>\n",
              "      <td>...</td>\n",
              "      <td>...</td>\n",
              "      <td>...</td>\n",
              "      <td>...</td>\n",
              "      <td>...</td>\n",
              "      <td>...</td>\n",
              "      <td>...</td>\n",
              "      <td>...</td>\n",
              "    </tr>\n",
              "    <tr>\n",
              "      <th>1981</th>\n",
              "      <td>2137</td>\n",
              "      <td>James Leroy Marker</td>\n",
              "      <td>2017-02-26</td>\n",
              "      <td>shot</td>\n",
              "      <td>gun</td>\n",
              "      <td>66.0</td>\n",
              "      <td>M</td>\n",
              "      <td>W</td>\n",
              "      <td>Floral City</td>\n",
              "      <td>FL</td>\n",
              "      <td>False</td>\n",
              "      <td>other</td>\n",
              "      <td>Car</td>\n",
              "      <td>False</td>\n",
              "    </tr>\n",
              "    <tr>\n",
              "      <th>1982</th>\n",
              "      <td>2138</td>\n",
              "      <td>Joey J. Bridges</td>\n",
              "      <td>2017-02-27</td>\n",
              "      <td>shot</td>\n",
              "      <td>gun</td>\n",
              "      <td>27.0</td>\n",
              "      <td>M</td>\n",
              "      <td>W</td>\n",
              "      <td>Shelby</td>\n",
              "      <td>NC</td>\n",
              "      <td>True</td>\n",
              "      <td>attack</td>\n",
              "      <td>Foot</td>\n",
              "      <td>False</td>\n",
              "    </tr>\n",
              "    <tr>\n",
              "      <th>1983</th>\n",
              "      <td>2139</td>\n",
              "      <td>Shawn M. Igers</td>\n",
              "      <td>2017-02-27</td>\n",
              "      <td>shot</td>\n",
              "      <td>gun</td>\n",
              "      <td>40.0</td>\n",
              "      <td>M</td>\n",
              "      <td>W</td>\n",
              "      <td>Corning</td>\n",
              "      <td>WI</td>\n",
              "      <td>False</td>\n",
              "      <td>attack</td>\n",
              "      <td>Not fleeing</td>\n",
              "      <td>False</td>\n",
              "    </tr>\n",
              "    <tr>\n",
              "      <th>1984</th>\n",
              "      <td>2140</td>\n",
              "      <td>Earl Riley</td>\n",
              "      <td>2017-02-28</td>\n",
              "      <td>shot</td>\n",
              "      <td>gun</td>\n",
              "      <td>25.0</td>\n",
              "      <td>M</td>\n",
              "      <td>B</td>\n",
              "      <td>Houston</td>\n",
              "      <td>TX</td>\n",
              "      <td>False</td>\n",
              "      <td>attack</td>\n",
              "      <td>Not fleeing</td>\n",
              "      <td>False</td>\n",
              "    </tr>\n",
              "    <tr>\n",
              "      <th>1985</th>\n",
              "      <td>2141</td>\n",
              "      <td>Christopher Redding</td>\n",
              "      <td>2017-02-28</td>\n",
              "      <td>shot</td>\n",
              "      <td>gun</td>\n",
              "      <td>20.0</td>\n",
              "      <td>M</td>\n",
              "      <td>B</td>\n",
              "      <td>Orlando</td>\n",
              "      <td>FL</td>\n",
              "      <td>False</td>\n",
              "      <td>attack</td>\n",
              "      <td>Foot</td>\n",
              "      <td>False</td>\n",
              "    </tr>\n",
              "  </tbody>\n",
              "</table>\n",
              "<p>1986 rows × 14 columns</p>\n",
              "</div>"
            ],
            "text/plain": [
              "      index                 name  ...         flee body_camera\n",
              "0         0           Tim Elliot  ...  Not fleeing       False\n",
              "1         1     Lewis Lee Lembke  ...  Not fleeing       False\n",
              "2         2   John Paul Quintero  ...  Not fleeing       False\n",
              "3         3      Matthew Hoffman  ...  Not fleeing       False\n",
              "4         4    Michael Rodriguez  ...  Not fleeing       False\n",
              "...     ...                  ...  ...          ...         ...\n",
              "1981   2137   James Leroy Marker  ...          Car       False\n",
              "1982   2138      Joey J. Bridges  ...         Foot       False\n",
              "1983   2139       Shawn M. Igers  ...  Not fleeing       False\n",
              "1984   2140           Earl Riley  ...  Not fleeing       False\n",
              "1985   2141  Christopher Redding  ...         Foot       False\n",
              "\n",
              "[1986 rows x 14 columns]"
            ]
          },
          "metadata": {
            "tags": []
          },
          "execution_count": 5
        }
      ]
    },
    {
      "cell_type": "code",
      "metadata": {
        "id": "tdKFad87zHfx"
      },
      "source": [
        "# Parsing date column\r\n",
        "\r\n",
        "clean_df['date'] = pd.to_datetime(clean_df['date'])"
      ],
      "execution_count": 6,
      "outputs": []
    },
    {
      "cell_type": "markdown",
      "metadata": {
        "id": "iK1kfonclTtu"
      },
      "source": [
        "## Mental ilness among fatal police shootings"
      ]
    },
    {
      "cell_type": "markdown",
      "metadata": {
        "id": "tCmwsv905Gp4"
      },
      "source": [
        "### Preprocessing data"
      ]
    },
    {
      "cell_type": "code",
      "metadata": {
        "id": "idBPAbBVpCRz"
      },
      "source": [
        "# Grouping the data by state and if there are signs of mental ilness\r\n",
        "\r\n",
        "mi = clean_df.groupby(['state','signs_of_mental_illness'], as_index = False).index.count()\r\n",
        "mi.sort_values(by = ['signs_of_mental_illness', 'index'], ascending=[False, False], inplace = True)\r\n",
        "mi = mi.rename(columns={\"index\": \"count\"})"
      ],
      "execution_count": 7,
      "outputs": []
    },
    {
      "cell_type": "code",
      "metadata": {
        "colab": {
          "base_uri": "https://localhost:8080/",
          "height": 136
        },
        "id": "KFk3Vu2Mo5HX",
        "outputId": "b7775518-5466-473b-8233-33ee9266962e"
      },
      "source": [
        "mi.head(3)"
      ],
      "execution_count": 8,
      "outputs": [
        {
          "output_type": "execute_result",
          "data": {
            "text/html": [
              "<div>\n",
              "<style scoped>\n",
              "    .dataframe tbody tr th:only-of-type {\n",
              "        vertical-align: middle;\n",
              "    }\n",
              "\n",
              "    .dataframe tbody tr th {\n",
              "        vertical-align: top;\n",
              "    }\n",
              "\n",
              "    .dataframe thead th {\n",
              "        text-align: right;\n",
              "    }\n",
              "</style>\n",
              "<table border=\"1\" class=\"dataframe\">\n",
              "  <thead>\n",
              "    <tr style=\"text-align: right;\">\n",
              "      <th></th>\n",
              "      <th>state</th>\n",
              "      <th>signs_of_mental_illness</th>\n",
              "      <th>count</th>\n",
              "    </tr>\n",
              "  </thead>\n",
              "  <tbody>\n",
              "    <tr>\n",
              "      <th>9</th>\n",
              "      <td>CA</td>\n",
              "      <td>True</td>\n",
              "      <td>76</td>\n",
              "    </tr>\n",
              "    <tr>\n",
              "      <th>84</th>\n",
              "      <td>TX</td>\n",
              "      <td>True</td>\n",
              "      <td>45</td>\n",
              "    </tr>\n",
              "    <tr>\n",
              "      <th>19</th>\n",
              "      <td>FL</td>\n",
              "      <td>True</td>\n",
              "      <td>34</td>\n",
              "    </tr>\n",
              "  </tbody>\n",
              "</table>\n",
              "</div>"
            ],
            "text/plain": [
              "   state  signs_of_mental_illness  count\n",
              "9     CA                     True     76\n",
              "84    TX                     True     45\n",
              "19    FL                     True     34"
            ]
          },
          "metadata": {
            "tags": []
          },
          "execution_count": 8
        }
      ]
    },
    {
      "cell_type": "markdown",
      "metadata": {
        "id": "ugmzBKj1-4hb"
      },
      "source": [
        "### Fatal shootings by state"
      ]
    },
    {
      "cell_type": "code",
      "metadata": {
        "colab": {
          "base_uri": "https://localhost:8080/",
          "height": 511
        },
        "id": "HRo1PSFzm3ZH",
        "outputId": "e5cc2f29-6180-46d5-b113-f650ed48344a"
      },
      "source": [
        "# Plotting the data\r\n",
        "\r\n",
        "fig, ax = plt.subplots(figsize = (15,8))\r\n",
        "sns.stripplot(ax = ax,data = mi, x = 'state', y = 'count',\r\n",
        "              hue = 'signs_of_mental_illness').legend(loc='center left', \r\n",
        "                                                      bbox_to_anchor=(1.25, 0.5), ncol=1, title='Signs of mental ilness')\r\n",
        "plt.xticks(rotation=90)\r\n",
        "ax.xaxis.grid(True)\r\n",
        "plt.ylabel('Fatal shootings')\r\n",
        "plt.xlabel('State')        \r\n",
        "plt.show()       "
      ],
      "execution_count": 9,
      "outputs": [
        {
          "output_type": "display_data",
          "data": {
            "image/png": "[encoded data removed]",
            "text/plain": [
              "<Figure size 1080x576 with 1 Axes>"
            ]
          },
          "metadata": {
            "tags": [],
            "needs_background": "dark"
          }
        }
      ]
    },
    {
      "cell_type": "markdown",
      "metadata": {
        "id": "vsilyamNkynM"
      },
      "source": [
        "We can see that California has by far the most fatal shootings by the police, let us see if their average rate of shooting a mentally ill person is higher than the national average"
      ]
    },
    {
      "cell_type": "markdown",
      "metadata": {
        "id": "hm4UL6iK50Yb"
      },
      "source": [
        "### Testing the hypothesis, that California's proportion of fatally shot people, with a mental illness is equal to the national proportion, with a 95% significance level: \r\n",
        "\r\n",
        "### H0: pC = pN"
      ]
    },
    {
      "cell_type": "code",
      "metadata": {
        "colab": {
          "base_uri": "https://localhost:8080/",
          "height": 166
        },
        "id": "f43ff9-kHQiq",
        "outputId": "e617eb58-7897-4817-e19f-b3be59cca80d"
      },
      "source": [
        "# Calculating the proportion for every state\r\n",
        "\r\n",
        "rate_of_shot_mi = mi.pivot('state','signs_of_mental_illness','count').apply(lambda x: x/x.sum(), axis = 1).sort_values(by = True).dropna()\r\n",
        "rate_of_shot_mi.head(3)"
      ],
      "execution_count": 10,
      "outputs": [
        {
          "output_type": "execute_result",
          "data": {
            "text/html": [
              "<div>\n",
              "<style scoped>\n",
              "    .dataframe tbody tr th:only-of-type {\n",
              "        vertical-align: middle;\n",
              "    }\n",
              "\n",
              "    .dataframe tbody tr th {\n",
              "        vertical-align: top;\n",
              "    }\n",
              "\n",
              "    .dataframe thead th {\n",
              "        text-align: right;\n",
              "    }\n",
              "</style>\n",
              "<table border=\"1\" class=\"dataframe\">\n",
              "  <thead>\n",
              "    <tr style=\"text-align: right;\">\n",
              "      <th>signs_of_mental_illness</th>\n",
              "      <th>False</th>\n",
              "      <th>True</th>\n",
              "    </tr>\n",
              "    <tr>\n",
              "      <th>state</th>\n",
              "      <th></th>\n",
              "      <th></th>\n",
              "    </tr>\n",
              "  </thead>\n",
              "  <tbody>\n",
              "    <tr>\n",
              "      <th>MS</th>\n",
              "      <td>0.944444</td>\n",
              "      <td>0.055556</td>\n",
              "    </tr>\n",
              "    <tr>\n",
              "      <th>WV</th>\n",
              "      <td>0.900000</td>\n",
              "      <td>0.100000</td>\n",
              "    </tr>\n",
              "    <tr>\n",
              "      <th>HI</th>\n",
              "      <td>0.900000</td>\n",
              "      <td>0.100000</td>\n",
              "    </tr>\n",
              "  </tbody>\n",
              "</table>\n",
              "</div>"
            ],
            "text/plain": [
              "signs_of_mental_illness     False     True \n",
              "state                                      \n",
              "MS                       0.944444  0.055556\n",
              "WV                       0.900000  0.100000\n",
              "HI                       0.900000  0.100000"
            ]
          },
          "metadata": {
            "tags": []
          },
          "execution_count": 10
        }
      ]
    },
    {
      "cell_type": "code",
      "metadata": {
        "colab": {
          "base_uri": "https://localhost:8080/",
          "height": 581
        },
        "id": "-U-BbRV7JZhs",
        "outputId": "8acbe15c-8484-4e97-a314-4cfda4351f8e"
      },
      "source": [
        "# Plotting the proportion for every state\r\n",
        "\r\n",
        "fig, ax = plt.subplots(figsize = (15,9))\r\n",
        "rate_of_shot_mi.plot(kind='bar', ax=ax).legend(loc='center left', \r\n",
        "                                                      bbox_to_anchor=(1.25, 0.5), ncol=1, title='Signs of mental ilness')\r\n",
        "plt.yticks(np.arange(0,1.05,0.05))\r\n",
        "plt.ylabel('Fatal shootings')\r\n",
        "plt.xlabel('State')\r\n",
        "plt.title('Rate of fatally shot metally ill')\r\n",
        "plt.show()  "
      ],
      "execution_count": 11,
      "outputs": [
        {
          "output_type": "display_data",
          "data": {
            "image/png": "[encoded data removed]",
            "text/plain": [
              "<Figure size 1080x648 with 1 Axes>"
            ]
          },
          "metadata": {
            "tags": [],
            "needs_background": "dark"
          }
        }
      ]
    },
    {
      "cell_type": "markdown",
      "metadata": {
        "id": "4bi-Gtb4Uipj"
      },
      "source": [
        "Although California has a rate close to the middle, we can see that Utah has the highest rate, while Massachusetts has the lowest. Let us see if it is statistically significan using a z-test"
      ]
    },
    {
      "cell_type": "markdown",
      "metadata": {
        "id": "ZGx9y9XexeE3"
      },
      "source": [
        "### One-proportion z-test to test the null hypothesis"
      ]
    },
    {
      "cell_type": "code",
      "metadata": {
        "colab": {
          "base_uri": "https://localhost:8080/"
        },
        "id": "5vtlC-TJZlgX",
        "outputId": "16977bca-025d-499f-ed30-beaa39cf0e52"
      },
      "source": [
        "# Defining variables for a One-proportion z-test\r\n",
        "p_hat = rate_of_shot_mi[True].loc['CA']\r\n",
        "p_0 = np.mean(rate_of_shot_mi[True])\r\n",
        "n = np.sum(mi[mi['state'] == 'CA']['count'])\r\n",
        "\r\n",
        "p_hat, p_0, n"
      ],
      "execution_count": 12,
      "outputs": [
        {
          "output_type": "execute_result",
          "data": {
            "text/plain": [
              "(0.2375, 0.24475642351104213, 320)"
            ]
          },
          "metadata": {
            "tags": []
          },
          "execution_count": 12
        }
      ]
    },
    {
      "cell_type": "code",
      "metadata": {
        "colab": {
          "base_uri": "https://localhost:8080/"
        },
        "id": "GrtWzeG6Q1g4",
        "outputId": "4c8d25bc-019a-4f52-ab49-1a19a8f4b7a0"
      },
      "source": [
        "# Calculating One-proportion z-test\r\n",
        "z = (p_hat*p_0) / np.sqrt(p_0*(1 - p_0)) * np.sqrt(n)\r\n",
        "z"
      ],
      "execution_count": 13,
      "outputs": [
        {
          "output_type": "execute_result",
          "data": {
            "text/plain": [
              "2.4185893282110684"
            ]
          },
          "metadata": {
            "tags": []
          },
          "execution_count": 13
        }
      ]
    },
    {
      "cell_type": "code",
      "metadata": {
        "colab": {
          "base_uri": "https://localhost:8080/"
        },
        "id": "yYUZFJu5cHWj",
        "outputId": "2825b280-beee-45ac-db7f-9b68f911138e"
      },
      "source": [
        "# Calculating the p-value\r\n",
        "st.norm.cdf(z)"
      ],
      "execution_count": 14,
      "outputs": [
        {
          "output_type": "execute_result",
          "data": {
            "text/plain": [
              "0.9922095902702917"
            ]
          },
          "metadata": {
            "tags": []
          },
          "execution_count": 14
        }
      ]
    },
    {
      "cell_type": "markdown",
      "metadata": {
        "id": "Pa8HFI97Pvcw"
      },
      "source": [
        "We can not reject the null hypothesis that the proportion of California and the national population proportion is equal (pC = pN), with a significance level of 95% as the p-value is 99.2%"
      ]
    },
    {
      "cell_type": "markdown",
      "metadata": {
        "id": "WcGMt9f4UFys"
      },
      "source": [
        "## Racial bias among fatal police shootings"
      ]
    },
    {
      "cell_type": "markdown",
      "metadata": {
        "id": "Ft2tBXGH8jkh"
      },
      "source": [
        "### Racial distribution of fatal police shootings"
      ]
    },
    {
      "cell_type": "code",
      "metadata": {
        "colab": {
          "base_uri": "https://localhost:8080/",
          "height": 464
        },
        "id": "EtyVQ0MBUN5G",
        "outputId": "9ab4b9bd-5cf8-4f3a-f43d-90aedbf151e2"
      },
      "source": [
        "# Plotting the race among fatal police shootings\r\n",
        "\r\n",
        "fig, ax = plt.subplots(figsize=(8,6))\r\n",
        "sns.countplot(df['race'],ax=ax)\r\n",
        "plt.title('Race Count')\r\n",
        "plt.show()"
      ],
      "execution_count": 15,
      "outputs": [
        {
          "output_type": "stream",
          "text": [
            "/usr/local/lib/python3.6/dist-packages/seaborn/_decorators.py:43: FutureWarning: Pass the following variable as a keyword arg: x. From version 0.12, the only valid positional argument will be `data`, and passing other arguments without an explicit keyword will result in an error or misinterpretation.\n",
            "  FutureWarning\n"
          ],
          "name": "stderr"
        },
        {
          "output_type": "display_data",
          "data": {
            "image/png": "[encoded data removed]",
            "text/plain": [
              "<Figure size 576x432 with 1 Axes>"
            ]
          },
          "metadata": {
            "tags": [],
            "needs_background": "dark"
          }
        }
      ]
    },
    {
      "cell_type": "markdown",
      "metadata": {
        "id": "sLX_YL3T7nlP"
      },
      "source": [
        "Although it seems as if white people are shot most often, we need to keep in mind that >70% of the racial composition of the United States is white. Let us calculate the proportion of fatally shot unarmed people by race"
      ]
    },
    {
      "cell_type": "markdown",
      "metadata": {
        "id": "kNuVBBlf8utc"
      },
      "source": [
        "### Percentage of unarmed people shot by race"
      ]
    },
    {
      "cell_type": "code",
      "metadata": {
        "colab": {
          "base_uri": "https://localhost:8080/",
          "height": 373
        },
        "id": "DlxPjRbshfzB",
        "outputId": "86f443c9-446c-4d0b-efdc-710334728332"
      },
      "source": [
        "# Grouping the data by race and if they were armed\r\n",
        "\r\n",
        "df_armed = clean_df\r\n",
        "df_armed['armed'] = clean_df['armed'] != 'unarmed'\r\n",
        "\r\n",
        "race_armed = df_armed.groupby(['race','armed'], as_index = False).index.count()\r\n",
        "race_armed.sort_values(by = ['armed', 'index'], ascending=[False, False], inplace = True)\r\n",
        "race_armed = race_armed.rename(columns={\"index\": \"count\"})\r\n",
        "race_armed"
      ],
      "execution_count": 16,
      "outputs": [
        {
          "output_type": "execute_result",
          "data": {
            "text/html": [
              "<div>\n",
              "<style scoped>\n",
              "    .dataframe tbody tr th:only-of-type {\n",
              "        vertical-align: middle;\n",
              "    }\n",
              "\n",
              "    .dataframe tbody tr th {\n",
              "        vertical-align: top;\n",
              "    }\n",
              "\n",
              "    .dataframe thead th {\n",
              "        text-align: right;\n",
              "    }\n",
              "</style>\n",
              "<table border=\"1\" class=\"dataframe\">\n",
              "  <thead>\n",
              "    <tr style=\"text-align: right;\">\n",
              "      <th></th>\n",
              "      <th>race</th>\n",
              "      <th>armed</th>\n",
              "      <th>count</th>\n",
              "    </tr>\n",
              "  </thead>\n",
              "  <tbody>\n",
              "    <tr>\n",
              "      <th>10</th>\n",
              "      <td>W</td>\n",
              "      <td>True</td>\n",
              "      <td>962</td>\n",
              "    </tr>\n",
              "    <tr>\n",
              "      <th>2</th>\n",
              "      <td>B</td>\n",
              "      <td>True</td>\n",
              "      <td>467</td>\n",
              "    </tr>\n",
              "    <tr>\n",
              "      <th>4</th>\n",
              "      <td>H</td>\n",
              "      <td>True</td>\n",
              "      <td>326</td>\n",
              "    </tr>\n",
              "    <tr>\n",
              "      <th>0</th>\n",
              "      <td>A</td>\n",
              "      <td>True</td>\n",
              "      <td>32</td>\n",
              "    </tr>\n",
              "    <tr>\n",
              "      <th>6</th>\n",
              "      <td>N</td>\n",
              "      <td>True</td>\n",
              "      <td>24</td>\n",
              "    </tr>\n",
              "    <tr>\n",
              "      <th>8</th>\n",
              "      <td>O</td>\n",
              "      <td>True</td>\n",
              "      <td>24</td>\n",
              "    </tr>\n",
              "    <tr>\n",
              "      <th>9</th>\n",
              "      <td>W</td>\n",
              "      <td>False</td>\n",
              "      <td>60</td>\n",
              "    </tr>\n",
              "    <tr>\n",
              "      <th>1</th>\n",
              "      <td>B</td>\n",
              "      <td>False</td>\n",
              "      <td>56</td>\n",
              "    </tr>\n",
              "    <tr>\n",
              "      <th>3</th>\n",
              "      <td>H</td>\n",
              "      <td>False</td>\n",
              "      <td>29</td>\n",
              "    </tr>\n",
              "    <tr>\n",
              "      <th>7</th>\n",
              "      <td>O</td>\n",
              "      <td>False</td>\n",
              "      <td>4</td>\n",
              "    </tr>\n",
              "    <tr>\n",
              "      <th>5</th>\n",
              "      <td>N</td>\n",
              "      <td>False</td>\n",
              "      <td>2</td>\n",
              "    </tr>\n",
              "  </tbody>\n",
              "</table>\n",
              "</div>"
            ],
            "text/plain": [
              "   race  armed  count\n",
              "10    W   True    962\n",
              "2     B   True    467\n",
              "4     H   True    326\n",
              "0     A   True     32\n",
              "6     N   True     24\n",
              "8     O   True     24\n",
              "9     W  False     60\n",
              "1     B  False     56\n",
              "3     H  False     29\n",
              "7     O  False      4\n",
              "5     N  False      2"
            ]
          },
          "metadata": {
            "tags": []
          },
          "execution_count": 16
        }
      ]
    },
    {
      "cell_type": "code",
      "metadata": {
        "colab": {
          "base_uri": "https://localhost:8080/",
          "height": 225
        },
        "id": "Z8CvqXZtiVOa",
        "outputId": "4e2d3fdb-f1a5-46ad-e370-5353c28da95b"
      },
      "source": [
        "# Calculating the percentage of armed and unarmed police shootings\r\n",
        "\r\n",
        "rate_race_armed = race_armed.pivot('race', 'armed', 'count').apply(lambda x: x/x.sum(), axis = 1).sort_values(by = True).dropna()\r\n",
        "rate_race_armed"
      ],
      "execution_count": 17,
      "outputs": [
        {
          "output_type": "execute_result",
          "data": {
            "text/html": [
              "<div>\n",
              "<style scoped>\n",
              "    .dataframe tbody tr th:only-of-type {\n",
              "        vertical-align: middle;\n",
              "    }\n",
              "\n",
              "    .dataframe tbody tr th {\n",
              "        vertical-align: top;\n",
              "    }\n",
              "\n",
              "    .dataframe thead th {\n",
              "        text-align: right;\n",
              "    }\n",
              "</style>\n",
              "<table border=\"1\" class=\"dataframe\">\n",
              "  <thead>\n",
              "    <tr style=\"text-align: right;\">\n",
              "      <th>armed</th>\n",
              "      <th>False</th>\n",
              "      <th>True</th>\n",
              "    </tr>\n",
              "    <tr>\n",
              "      <th>race</th>\n",
              "      <th></th>\n",
              "      <th></th>\n",
              "    </tr>\n",
              "  </thead>\n",
              "  <tbody>\n",
              "    <tr>\n",
              "      <th>O</th>\n",
              "      <td>0.142857</td>\n",
              "      <td>0.857143</td>\n",
              "    </tr>\n",
              "    <tr>\n",
              "      <th>B</th>\n",
              "      <td>0.107075</td>\n",
              "      <td>0.892925</td>\n",
              "    </tr>\n",
              "    <tr>\n",
              "      <th>H</th>\n",
              "      <td>0.081690</td>\n",
              "      <td>0.918310</td>\n",
              "    </tr>\n",
              "    <tr>\n",
              "      <th>N</th>\n",
              "      <td>0.076923</td>\n",
              "      <td>0.923077</td>\n",
              "    </tr>\n",
              "    <tr>\n",
              "      <th>W</th>\n",
              "      <td>0.058708</td>\n",
              "      <td>0.941292</td>\n",
              "    </tr>\n",
              "  </tbody>\n",
              "</table>\n",
              "</div>"
            ],
            "text/plain": [
              "armed     False     True \n",
              "race                     \n",
              "O      0.142857  0.857143\n",
              "B      0.107075  0.892925\n",
              "H      0.081690  0.918310\n",
              "N      0.076923  0.923077\n",
              "W      0.058708  0.941292"
            ]
          },
          "metadata": {
            "tags": []
          },
          "execution_count": 17
        }
      ]
    },
    {
      "cell_type": "code",
      "metadata": {
        "colab": {
          "base_uri": "https://localhost:8080/",
          "height": 610
        },
        "id": "WRFslSxqtIrk",
        "outputId": "77a791fd-6801-4dd3-c50a-66a8e84b94a6"
      },
      "source": [
        "# Plotting the results\r\n",
        "\r\n",
        "fig, ax = plt.subplots(figsize = (15,10))\r\n",
        "rate_race_armed[False].plot(kind = 'barh', stacked = True,ax = ax).legend(loc='center left', \r\n",
        "                                                      bbox_to_anchor=(1.25, 0.5), ncol=1, title='Armed')\r\n",
        "\r\n",
        "plt.xticks(np.arange(0,np.max(rate_race_armed[False])+0.01,0.01))\r\n",
        "plt.title('Pencentage of unarmed shot by police')\r\n",
        "plt.show()"
      ],
      "execution_count": 18,
      "outputs": [
        {
          "output_type": "display_data",
          "data": {
            "image/png": "[encoded data removed]",
            "text/plain": [
              "<Figure size 1080x720 with 1 Axes>"
            ]
          },
          "metadata": {
            "tags": [],
            "needs_background": "dark"
          }
        }
      ]
    },
    {
      "cell_type": "markdown",
      "metadata": {
        "id": "euZPLqh8924b"
      },
      "source": [
        "We can see that only ~6% of white and ~11% of black people were unarmed when they were shot"
      ]
    },
    {
      "cell_type": "markdown",
      "metadata": {
        "id": "sgd7IoewUqyk"
      },
      "source": [
        "## Dimensionality reduction"
      ]
    },
    {
      "cell_type": "markdown",
      "metadata": {
        "id": "YU9IHcNaCfGr"
      },
      "source": [
        "### Preprocessing data for PCA and t-SNE"
      ]
    },
    {
      "cell_type": "code",
      "metadata": {
        "colab": {
          "base_uri": "https://localhost:8080/"
        },
        "id": "NjLJqR2DEGkg",
        "outputId": "36f5bff5-8924-44f4-e78f-0c1fa965f65c"
      },
      "source": [
        "clean_df.info()"
      ],
      "execution_count": 19,
      "outputs": [
        {
          "output_type": "stream",
          "text": [
            "<class 'pandas.core.frame.DataFrame'>\n",
            "RangeIndex: 1986 entries, 0 to 1985\n",
            "Data columns (total 14 columns):\n",
            " #   Column                   Non-Null Count  Dtype         \n",
            "---  ------                   --------------  -----         \n",
            " 0   index                    1986 non-null   int64         \n",
            " 1   name                     1986 non-null   object        \n",
            " 2   date                     1986 non-null   datetime64[ns]\n",
            " 3   manner_of_death          1986 non-null   object        \n",
            " 4   armed                    1986 non-null   bool          \n",
            " 5   age                      1986 non-null   float64       \n",
            " 6   gender                   1986 non-null   object        \n",
            " 7   race                     1986 non-null   object        \n",
            " 8   city                     1986 non-null   object        \n",
            " 9   state                    1986 non-null   object        \n",
            " 10  signs_of_mental_illness  1986 non-null   bool          \n",
            " 11  threat_level             1986 non-null   object        \n",
            " 12  flee                     1986 non-null   object        \n",
            " 13  body_camera              1986 non-null   bool          \n",
            "dtypes: bool(3), datetime64[ns](1), float64(1), int64(1), object(8)\n",
            "memory usage: 176.6+ KB\n"
          ],
          "name": "stdout"
        }
      ]
    },
    {
      "cell_type": "code",
      "metadata": {
        "colab": {
          "base_uri": "https://localhost:8080/",
          "height": 402
        },
        "id": "SpxfWcxl8AUv",
        "outputId": "3b219af2-e816-4606-a5db-6c07d84eeef7"
      },
      "source": [
        "# Encoding text and bool values to integers as you can only perform dimensionality reduction on numerical values\r\n",
        "\r\n",
        "encoded_df = pd.get_dummies(clean_df.filter(['manner_of_death',\r\n",
        "                            'signs_of_mental_illness', 'armed', 'race'\r\n",
        "                            ]))\r\n",
        "\r\n",
        "encoded_df"
      ],
      "execution_count": 20,
      "outputs": [
        {
          "output_type": "execute_result",
          "data": {
            "text/html": [
              "<div>\n",
              "<style scoped>\n",
              "    .dataframe tbody tr th:only-of-type {\n",
              "        vertical-align: middle;\n",
              "    }\n",
              "\n",
              "    .dataframe tbody tr th {\n",
              "        vertical-align: top;\n",
              "    }\n",
              "\n",
              "    .dataframe thead th {\n",
              "        text-align: right;\n",
              "    }\n",
              "</style>\n",
              "<table border=\"1\" class=\"dataframe\">\n",
              "  <thead>\n",
              "    <tr style=\"text-align: right;\">\n",
              "      <th></th>\n",
              "      <th>signs_of_mental_illness</th>\n",
              "      <th>armed</th>\n",
              "      <th>manner_of_death_shot</th>\n",
              "      <th>manner_of_death_shot and Tasered</th>\n",
              "      <th>race_A</th>\n",
              "      <th>race_B</th>\n",
              "      <th>race_H</th>\n",
              "      <th>race_N</th>\n",
              "      <th>race_O</th>\n",
              "      <th>race_W</th>\n",
              "    </tr>\n",
              "  </thead>\n",
              "  <tbody>\n",
              "    <tr>\n",
              "      <th>0</th>\n",
              "      <td>True</td>\n",
              "      <td>True</td>\n",
              "      <td>1</td>\n",
              "      <td>0</td>\n",
              "      <td>1</td>\n",
              "      <td>0</td>\n",
              "      <td>0</td>\n",
              "      <td>0</td>\n",
              "      <td>0</td>\n",
              "      <td>0</td>\n",
              "    </tr>\n",
              "    <tr>\n",
              "      <th>1</th>\n",
              "      <td>False</td>\n",
              "      <td>True</td>\n",
              "      <td>1</td>\n",
              "      <td>0</td>\n",
              "      <td>0</td>\n",
              "      <td>0</td>\n",
              "      <td>0</td>\n",
              "      <td>0</td>\n",
              "      <td>0</td>\n",
              "      <td>1</td>\n",
              "    </tr>\n",
              "    <tr>\n",
              "      <th>2</th>\n",
              "      <td>False</td>\n",
              "      <td>False</td>\n",
              "      <td>0</td>\n",
              "      <td>1</td>\n",
              "      <td>0</td>\n",
              "      <td>0</td>\n",
              "      <td>1</td>\n",
              "      <td>0</td>\n",
              "      <td>0</td>\n",
              "      <td>0</td>\n",
              "    </tr>\n",
              "    <tr>\n",
              "      <th>3</th>\n",
              "      <td>True</td>\n",
              "      <td>True</td>\n",
              "      <td>1</td>\n",
              "      <td>0</td>\n",
              "      <td>0</td>\n",
              "      <td>0</td>\n",
              "      <td>0</td>\n",
              "      <td>0</td>\n",
              "      <td>0</td>\n",
              "      <td>1</td>\n",
              "    </tr>\n",
              "    <tr>\n",
              "      <th>4</th>\n",
              "      <td>False</td>\n",
              "      <td>True</td>\n",
              "      <td>1</td>\n",
              "      <td>0</td>\n",
              "      <td>0</td>\n",
              "      <td>0</td>\n",
              "      <td>1</td>\n",
              "      <td>0</td>\n",
              "      <td>0</td>\n",
              "      <td>0</td>\n",
              "    </tr>\n",
              "    <tr>\n",
              "      <th>...</th>\n",
              "      <td>...</td>\n",
              "      <td>...</td>\n",
              "      <td>...</td>\n",
              "      <td>...</td>\n",
              "      <td>...</td>\n",
              "      <td>...</td>\n",
              "      <td>...</td>\n",
              "      <td>...</td>\n",
              "      <td>...</td>\n",
              "      <td>...</td>\n",
              "    </tr>\n",
              "    <tr>\n",
              "      <th>1981</th>\n",
              "      <td>False</td>\n",
              "      <td>True</td>\n",
              "      <td>1</td>\n",
              "      <td>0</td>\n",
              "      <td>0</td>\n",
              "      <td>0</td>\n",
              "      <td>0</td>\n",
              "      <td>0</td>\n",
              "      <td>0</td>\n",
              "      <td>1</td>\n",
              "    </tr>\n",
              "    <tr>\n",
              "      <th>1982</th>\n",
              "      <td>True</td>\n",
              "      <td>True</td>\n",
              "      <td>1</td>\n",
              "      <td>0</td>\n",
              "      <td>0</td>\n",
              "      <td>0</td>\n",
              "      <td>0</td>\n",
              "      <td>0</td>\n",
              "      <td>0</td>\n",
              "      <td>1</td>\n",
              "    </tr>\n",
              "    <tr>\n",
              "      <th>1983</th>\n",
              "      <td>False</td>\n",
              "      <td>True</td>\n",
              "      <td>1</td>\n",
              "      <td>0</td>\n",
              "      <td>0</td>\n",
              "      <td>0</td>\n",
              "      <td>0</td>\n",
              "      <td>0</td>\n",
              "      <td>0</td>\n",
              "      <td>1</td>\n",
              "    </tr>\n",
              "    <tr>\n",
              "      <th>1984</th>\n",
              "      <td>False</td>\n",
              "      <td>True</td>\n",
              "      <td>1</td>\n",
              "      <td>0</td>\n",
              "      <td>0</td>\n",
              "      <td>1</td>\n",
              "      <td>0</td>\n",
              "      <td>0</td>\n",
              "      <td>0</td>\n",
              "      <td>0</td>\n",
              "    </tr>\n",
              "    <tr>\n",
              "      <th>1985</th>\n",
              "      <td>False</td>\n",
              "      <td>True</td>\n",
              "      <td>1</td>\n",
              "      <td>0</td>\n",
              "      <td>0</td>\n",
              "      <td>1</td>\n",
              "      <td>0</td>\n",
              "      <td>0</td>\n",
              "      <td>0</td>\n",
              "      <td>0</td>\n",
              "    </tr>\n",
              "  </tbody>\n",
              "</table>\n",
              "<p>1986 rows × 10 columns</p>\n",
              "</div>"
            ],
            "text/plain": [
              "      signs_of_mental_illness  armed  ...  race_O  race_W\n",
              "0                        True   True  ...       0       0\n",
              "1                       False   True  ...       0       1\n",
              "2                       False  False  ...       0       0\n",
              "3                        True   True  ...       0       1\n",
              "4                       False   True  ...       0       0\n",
              "...                       ...    ...  ...     ...     ...\n",
              "1981                    False   True  ...       0       1\n",
              "1982                     True   True  ...       0       1\n",
              "1983                    False   True  ...       0       1\n",
              "1984                    False   True  ...       0       0\n",
              "1985                    False   True  ...       0       0\n",
              "\n",
              "[1986 rows x 10 columns]"
            ]
          },
          "metadata": {
            "tags": []
          },
          "execution_count": 20
        }
      ]
    },
    {
      "cell_type": "markdown",
      "metadata": {
        "id": "RjnWx46CB4tn"
      },
      "source": [
        "### Principal component analysis"
      ]
    },
    {
      "cell_type": "code",
      "metadata": {
        "colab": {
          "base_uri": "https://localhost:8080/"
        },
        "id": "HOkLKEbIGHNU",
        "outputId": "aeeeb70b-79c3-479f-d312-786a3fbad09b"
      },
      "source": [
        "# Calculating the maximum number of principal components\r\n",
        "\r\n",
        "min(len(encoded_df.columns), len(encoded_df))"
      ],
      "execution_count": 21,
      "outputs": [
        {
          "output_type": "execute_result",
          "data": {
            "text/plain": [
              "10"
            ]
          },
          "metadata": {
            "tags": []
          },
          "execution_count": 21
        }
      ]
    },
    {
      "cell_type": "code",
      "metadata": {
        "colab": {
          "base_uri": "https://localhost:8080/"
        },
        "id": "DkBMIRQjGQLN",
        "outputId": "11517d6d-2e5c-4a26-a1ff-6e72209e00ce"
      },
      "source": [
        "from sklearn.decomposition import PCA as RandomizedPCA\r\n",
        "pca = RandomizedPCA(10)\r\n",
        "pca.fit(encoded_df)"
      ],
      "execution_count": 22,
      "outputs": [
        {
          "output_type": "execute_result",
          "data": {
            "text/plain": [
              "PCA(copy=True, iterated_power='auto', n_components=10, random_state=None,\n",
              "    svd_solver='auto', tol=0.0, whiten=False)"
            ]
          },
          "metadata": {
            "tags": []
          },
          "execution_count": 22
        }
      ]
    },
    {
      "cell_type": "code",
      "metadata": {
        "colab": {
          "base_uri": "https://localhost:8080/",
          "height": 285
        },
        "id": "-kayBiImGZOq",
        "outputId": "96230645-750c-41ad-ced8-917e9e03434f"
      },
      "source": [
        "# Plotting the cumulative explained variance by the number of components\r\n",
        "\r\n",
        "plt.plot(np.cumsum(pca.explained_variance_ratio_))\r\n",
        "plt.xlabel('number of components')\r\n",
        "plt.ylabel('cumulative explained variance');\r\n",
        "plt.xticks(range(10))\r\n",
        "plt.scatter(4, np.cumsum(pca.explained_variance_ratio_)[4], color='r')\r\n",
        "plt.show()"
      ],
      "execution_count": 23,
      "outputs": [
        {
          "output_type": "display_data",
          "data": {
            "image/png": "[encoded data removed]",
            "text/plain": [
              "<Figure size 432x288 with 1 Axes>"
            ]
          },
          "metadata": {
            "tags": [],
            "needs_background": "dark"
          }
        }
      ]
    },
    {
      "cell_type": "code",
      "metadata": {
        "colab": {
          "base_uri": "https://localhost:8080/"
        },
        "id": "cscenkH1B8R2",
        "outputId": "ada82b94-3624-44d4-f475-0b8be1223052"
      },
      "source": [
        "from sklearn.decomposition import PCA\r\n",
        "pca = PCA(n_components=4)\r\n",
        "pca.fit(encoded_df)"
      ],
      "execution_count": 24,
      "outputs": [
        {
          "output_type": "execute_result",
          "data": {
            "text/plain": [
              "PCA(copy=True, iterated_power='auto', n_components=4, random_state=None,\n",
              "    svd_solver='auto', tol=0.0, whiten=False)"
            ]
          },
          "metadata": {
            "tags": []
          },
          "execution_count": 24
        }
      ]
    },
    {
      "cell_type": "code",
      "metadata": {
        "colab": {
          "base_uri": "https://localhost:8080/"
        },
        "id": "7E5u87clCaMZ",
        "outputId": "cbbf5b78-c0e1-4241-ecc0-753fde4634b9"
      },
      "source": [
        "print(f\"The 4 components account for {round(np.sum(pca.explained_variance_ratio_), 1)*100}% variance\")"
      ],
      "execution_count": 25,
      "outputs": [
        {
          "output_type": "stream",
          "text": [
            "The 4 components account for 90.0% variance\n"
          ],
          "name": "stdout"
        }
      ]
    },
    {
      "cell_type": "code",
      "metadata": {
        "id": "PBZ7FSolBSkh"
      },
      "source": [
        "# PCA with only 2 components to be able to plot it\r\n",
        "\r\n",
        "pca = PCA(n_components=2)\r\n",
        "pca.fit(encoded_df)\r\n",
        "x_pca = pca.fit_transform(encoded_df)"
      ],
      "execution_count": 26,
      "outputs": []
    },
    {
      "cell_type": "code",
      "metadata": {
        "colab": {
          "base_uri": "https://localhost:8080/",
          "height": 628
        },
        "id": "ETevqbajBMTw",
        "outputId": "80c55bc3-db39-4ccc-bec8-27334dc470b1"
      },
      "source": [
        "plt.figure(figsize=(10, 10))\r\n",
        "plt.xlabel('Principal component 1')\r\n",
        "plt.ylabel('Principal component 2');\r\n",
        "sns.scatterplot(x = x_pca[:, 0], y = x_pca[:, 1], hue=clean_df.armed).legend(loc='center left', bbox_to_anchor=(1.25, 0.5), ncol=1, title='Armed')"
      ],
      "execution_count": 27,
      "outputs": [
        {
          "output_type": "execute_result",
          "data": {
            "text/plain": [
              "<matplotlib.legend.Legend at 0x7f7c65c26ba8>"
            ]
          },
          "metadata": {
            "tags": []
          },
          "execution_count": 27
        },
        {
          "output_type": "display_data",
          "data": {
            "image/png": "[encoded data removed]",
            "text/plain": [
              "<Figure size 720x720 with 1 Axes>"
            ]
          },
          "metadata": {
            "tags": [],
            "needs_background": "dark"
          }
        }
      ]
    },
    {
      "cell_type": "markdown",
      "metadata": {
        "id": "KC2rlcT2_lcG"
      },
      "source": [
        "As we can see, there are four clusters of data"
      ]
    },
    {
      "cell_type": "markdown",
      "metadata": {
        "id": "M6wzmzcrwaxv"
      },
      "source": [
        "### t-SNE"
      ]
    },
    {
      "cell_type": "code",
      "metadata": {
        "id": "5xBvvL0BwaAF"
      },
      "source": [
        "# Performing t-SNE on the same encoded values and visualising the result\r\n",
        "\r\n",
        "from sklearn.manifold import TSNE\r\n",
        "tsne = TSNE(n_components=2).fit_transform(encoded_df)"
      ],
      "execution_count": 28,
      "outputs": []
    },
    {
      "cell_type": "code",
      "metadata": {
        "colab": {
          "base_uri": "https://localhost:8080/",
          "height": 288
        },
        "id": "kQcIbdaby4PO",
        "outputId": "4c1eacad-7b5a-438a-c061-c41a55db755f"
      },
      "source": [
        "sns.scatterplot(x = tsne[:, 0], y = tsne[:, 1], hue=clean_df.armed).legend(loc='center left', bbox_to_anchor=(1.25, 0.5), ncol=1, title='Armed')"
      ],
      "execution_count": 29,
      "outputs": [
        {
          "output_type": "execute_result",
          "data": {
            "text/plain": [
              "<matplotlib.legend.Legend at 0x7f7c60d8f160>"
            ]
          },
          "metadata": {
            "tags": []
          },
          "execution_count": 29
        },
        {
          "output_type": "display_data",
          "data": {
            "image/png": "[encoded data removed]",
            "text/plain": [
              "<Figure size 432x288 with 1 Axes>"
            ]
          },
          "metadata": {
            "tags": [],
            "needs_background": "dark"
          }
        }
      ]
    },
    {
      "cell_type": "markdown",
      "metadata": {
        "id": "NyGb_Af3FV9l"
      },
      "source": [
        "## Cluster analysis"
      ]
    },
    {
      "cell_type": "code",
      "metadata": {
        "colab": {
          "base_uri": "https://localhost:8080/"
        },
        "id": "oXg5VPdk4sWr",
        "outputId": "8f3eb714-71ca-41ee-90b8-faa089b478d9"
      },
      "source": [
        "clean_df.info()"
      ],
      "execution_count": 30,
      "outputs": [
        {
          "output_type": "stream",
          "text": [
            "<class 'pandas.core.frame.DataFrame'>\n",
            "RangeIndex: 1986 entries, 0 to 1985\n",
            "Data columns (total 14 columns):\n",
            " #   Column                   Non-Null Count  Dtype         \n",
            "---  ------                   --------------  -----         \n",
            " 0   index                    1986 non-null   int64         \n",
            " 1   name                     1986 non-null   object        \n",
            " 2   date                     1986 non-null   datetime64[ns]\n",
            " 3   manner_of_death          1986 non-null   object        \n",
            " 4   armed                    1986 non-null   bool          \n",
            " 5   age                      1986 non-null   float64       \n",
            " 6   gender                   1986 non-null   object        \n",
            " 7   race                     1986 non-null   object        \n",
            " 8   city                     1986 non-null   object        \n",
            " 9   state                    1986 non-null   object        \n",
            " 10  signs_of_mental_illness  1986 non-null   bool          \n",
            " 11  threat_level             1986 non-null   object        \n",
            " 12  flee                     1986 non-null   object        \n",
            " 13  body_camera              1986 non-null   bool          \n",
            "dtypes: bool(3), datetime64[ns](1), float64(1), int64(1), object(8)\n",
            "memory usage: 176.6+ KB\n"
          ],
          "name": "stdout"
        }
      ]
    },
    {
      "cell_type": "code",
      "metadata": {
        "colab": {
          "base_uri": "https://localhost:8080/",
          "height": 195
        },
        "id": "7iUUc2Ox4q-Q",
        "outputId": "b977c7f7-05a8-43c2-c89e-33db1ee7c337"
      },
      "source": [
        "# Encoding string data to numeric for clustering\r\n",
        "\r\n",
        "X = pd.get_dummies(clean_df.filter(['manner_of_death', 'signs_of_mental_illness', 'armed', 'race', 'flee', 'gender']))\r\n",
        "X.head()"
      ],
      "execution_count": 31,
      "outputs": [
        {
          "output_type": "execute_result",
          "data": {
            "text/html": [
              "<div>\n",
              "<style scoped>\n",
              "    .dataframe tbody tr th:only-of-type {\n",
              "        vertical-align: middle;\n",
              "    }\n",
              "\n",
              "    .dataframe tbody tr th {\n",
              "        vertical-align: top;\n",
              "    }\n",
              "\n",
              "    .dataframe thead th {\n",
              "        text-align: right;\n",
              "    }\n",
              "</style>\n",
              "<table border=\"1\" class=\"dataframe\">\n",
              "  <thead>\n",
              "    <tr style=\"text-align: right;\">\n",
              "      <th></th>\n",
              "      <th>signs_of_mental_illness</th>\n",
              "      <th>armed</th>\n",
              "      <th>manner_of_death_shot</th>\n",
              "      <th>manner_of_death_shot and Tasered</th>\n",
              "      <th>race_A</th>\n",
              "      <th>race_B</th>\n",
              "      <th>race_H</th>\n",
              "      <th>race_N</th>\n",
              "      <th>race_O</th>\n",
              "      <th>race_W</th>\n",
              "      <th>flee_Car</th>\n",
              "      <th>flee_Foot</th>\n",
              "      <th>flee_Not fleeing</th>\n",
              "      <th>flee_Other</th>\n",
              "      <th>gender_F</th>\n",
              "      <th>gender_M</th>\n",
              "    </tr>\n",
              "  </thead>\n",
              "  <tbody>\n",
              "    <tr>\n",
              "      <th>0</th>\n",
              "      <td>True</td>\n",
              "      <td>True</td>\n",
              "      <td>1</td>\n",
              "      <td>0</td>\n",
              "      <td>1</td>\n",
              "      <td>0</td>\n",
              "      <td>0</td>\n",
              "      <td>0</td>\n",
              "      <td>0</td>\n",
              "      <td>0</td>\n",
              "      <td>0</td>\n",
              "      <td>0</td>\n",
              "      <td>1</td>\n",
              "      <td>0</td>\n",
              "      <td>0</td>\n",
              "      <td>1</td>\n",
              "    </tr>\n",
              "    <tr>\n",
              "      <th>1</th>\n",
              "      <td>False</td>\n",
              "      <td>True</td>\n",
              "      <td>1</td>\n",
              "      <td>0</td>\n",
              "      <td>0</td>\n",
              "      <td>0</td>\n",
              "      <td>0</td>\n",
              "      <td>0</td>\n",
              "      <td>0</td>\n",
              "      <td>1</td>\n",
              "      <td>0</td>\n",
              "      <td>0</td>\n",
              "      <td>1</td>\n",
              "      <td>0</td>\n",
              "      <td>0</td>\n",
              "      <td>1</td>\n",
              "    </tr>\n",
              "    <tr>\n",
              "      <th>2</th>\n",
              "      <td>False</td>\n",
              "      <td>False</td>\n",
              "      <td>0</td>\n",
              "      <td>1</td>\n",
              "      <td>0</td>\n",
              "      <td>0</td>\n",
              "      <td>1</td>\n",
              "      <td>0</td>\n",
              "      <td>0</td>\n",
              "      <td>0</td>\n",
              "      <td>0</td>\n",
              "      <td>0</td>\n",
              "      <td>1</td>\n",
              "      <td>0</td>\n",
              "      <td>0</td>\n",
              "      <td>1</td>\n",
              "    </tr>\n",
              "    <tr>\n",
              "      <th>3</th>\n",
              "      <td>True</td>\n",
              "      <td>True</td>\n",
              "      <td>1</td>\n",
              "      <td>0</td>\n",
              "      <td>0</td>\n",
              "      <td>0</td>\n",
              "      <td>0</td>\n",
              "      <td>0</td>\n",
              "      <td>0</td>\n",
              "      <td>1</td>\n",
              "      <td>0</td>\n",
              "      <td>0</td>\n",
              "      <td>1</td>\n",
              "      <td>0</td>\n",
              "      <td>0</td>\n",
              "      <td>1</td>\n",
              "    </tr>\n",
              "    <tr>\n",
              "      <th>4</th>\n",
              "      <td>False</td>\n",
              "      <td>True</td>\n",
              "      <td>1</td>\n",
              "      <td>0</td>\n",
              "      <td>0</td>\n",
              "      <td>0</td>\n",
              "      <td>1</td>\n",
              "      <td>0</td>\n",
              "      <td>0</td>\n",
              "      <td>0</td>\n",
              "      <td>0</td>\n",
              "      <td>0</td>\n",
              "      <td>1</td>\n",
              "      <td>0</td>\n",
              "      <td>0</td>\n",
              "      <td>1</td>\n",
              "    </tr>\n",
              "  </tbody>\n",
              "</table>\n",
              "</div>"
            ],
            "text/plain": [
              "   signs_of_mental_illness  armed  ...  gender_F  gender_M\n",
              "0                     True   True  ...         0         1\n",
              "1                    False   True  ...         0         1\n",
              "2                    False  False  ...         0         1\n",
              "3                     True   True  ...         0         1\n",
              "4                    False   True  ...         0         1\n",
              "\n",
              "[5 rows x 16 columns]"
            ]
          },
          "metadata": {
            "tags": []
          },
          "execution_count": 31
        }
      ]
    },
    {
      "cell_type": "code",
      "metadata": {
        "colab": {
          "base_uri": "https://localhost:8080/",
          "height": 301
        },
        "id": "ZaGmmpzLFa6S",
        "outputId": "1eb0c953-9231-46a1-e101-47810ae454bc"
      },
      "source": [
        "from sklearn.cluster import KMeans\r\n",
        "\r\n",
        "Sum_of_squared_distances = []\r\n",
        "K = range(1,15)\r\n",
        "for k in K:\r\n",
        "    km = KMeans(n_clusters=k)\r\n",
        "    km = km.fit(X)\r\n",
        "    Sum_of_squared_distances.append(km.inertia_)\r\n",
        "\r\n",
        "\r\n",
        "# Plotting the sum of square distances by k to find optimal k\r\n",
        "\r\n",
        "plt.grid()\r\n",
        "plt.xticks(range(15))\r\n",
        "plt.plot(K, Sum_of_squared_distances, 'bx-')\r\n",
        "plt.xlabel('k')\r\n",
        "plt.ylabel('Sum of squared distances')\r\n",
        "plt.title('Elbow Method For Optimal k')\r\n",
        "plt.scatter(9, Sum_of_squared_distances[8], color='r')\r\n",
        "plt.show()"
      ],
      "execution_count": 32,
      "outputs": [
        {
          "output_type": "display_data",
          "data": {
            "image/png": "[encoded data removed]",
            "text/plain": [
              "<Figure size 432x288 with 1 Axes>"
            ]
          },
          "metadata": {
            "tags": [],
            "needs_background": "dark"
          }
        }
      ]
    },
    {
      "cell_type": "code",
      "metadata": {
        "colab": {
          "base_uri": "https://localhost:8080/"
        },
        "id": "Ukq2qEZhHD34",
        "outputId": "007db018-3fb3-4b97-9b30-fbafa31ae5a1"
      },
      "source": [
        "# Performing k-means clustering with the optimal k of 9\r\n",
        "\r\n",
        "from sklearn.cluster import KMeans\r\n",
        "\r\n",
        "kmeans = KMeans(n_clusters=9)\r\n",
        "clusters = kmeans.fit_predict(X)\r\n",
        "clusters"
      ],
      "execution_count": 33,
      "outputs": [
        {
          "output_type": "execute_result",
          "data": {
            "text/plain": [
              "array([1, 4, 8, ..., 4, 2, 5], dtype=int32)"
            ]
          },
          "metadata": {
            "tags": []
          },
          "execution_count": 33
        }
      ]
    },
    {
      "cell_type": "code",
      "metadata": {
        "colab": {
          "base_uri": "https://localhost:8080/"
        },
        "id": "FyuTVhhpQgGJ",
        "outputId": "5fff7da4-6832-4e05-91ce-16b663d839f1"
      },
      "source": [
        "# Making the clusters understandable by converting cluster id to the index in the original dataframe\r\n",
        "\r\n",
        "similar_shootings = []\r\n",
        "\r\n",
        "for num in range(np.max(clusters)+1):\r\n",
        "  similar_shootings.append(np.squeeze(np.where(clusters == num)))\r\n",
        "\r\n",
        "similar_shootings[0][:10]"
      ],
      "execution_count": 34,
      "outputs": [
        {
          "output_type": "execute_result",
          "data": {
            "text/plain": [
              "array([ 4,  6, 20, 22, 35, 40, 41, 47, 54, 58])"
            ]
          },
          "metadata": {
            "tags": []
          },
          "execution_count": 34
        }
      ]
    },
    {
      "cell_type": "code",
      "metadata": {
        "colab": {
          "base_uri": "https://localhost:8080/",
          "height": 455
        },
        "id": "uovu2J23R6PH",
        "outputId": "3aec402b-e1fb-49b7-d01d-3df6bfec67ba"
      },
      "source": [
        "# Picking and displaying a random cluster of similar shootings\r\n",
        "\r\n",
        "import random\r\n",
        "\r\n",
        "sample = similar_shootings[random.randint(0, np.size(similar_shootings)-1)]\r\n",
        "\r\n",
        "random_similar = pd.DataFrame()\r\n",
        "\r\n",
        "for id in sample:\r\n",
        "  random_similar[id] = clean_df.iloc[id]\r\n",
        "\r\n",
        "random_similar.transpose().reset_index(drop=True)"
      ],
      "execution_count": 35,
      "outputs": [
        {
          "output_type": "stream",
          "text": [
            "/usr/local/lib/python3.6/dist-packages/numpy/core/_asarray.py:83: VisibleDeprecationWarning: Creating an ndarray from ragged nested sequences (which is a list-or-tuple of lists-or-tuples-or ndarrays with different lengths or shapes) is deprecated. If you meant to do this, you must specify 'dtype=object' when creating the ndarray\n",
            "  return array(a, dtype, copy=False, order=order)\n"
          ],
          "name": "stderr"
        },
        {
          "output_type": "execute_result",
          "data": {
            "text/html": [
              "<div>\n",
              "<style scoped>\n",
              "    .dataframe tbody tr th:only-of-type {\n",
              "        vertical-align: middle;\n",
              "    }\n",
              "\n",
              "    .dataframe tbody tr th {\n",
              "        vertical-align: top;\n",
              "    }\n",
              "\n",
              "    .dataframe thead th {\n",
              "        text-align: right;\n",
              "    }\n",
              "</style>\n",
              "<table border=\"1\" class=\"dataframe\">\n",
              "  <thead>\n",
              "    <tr style=\"text-align: right;\">\n",
              "      <th></th>\n",
              "      <th>index</th>\n",
              "      <th>name</th>\n",
              "      <th>date</th>\n",
              "      <th>manner_of_death</th>\n",
              "      <th>armed</th>\n",
              "      <th>age</th>\n",
              "      <th>gender</th>\n",
              "      <th>race</th>\n",
              "      <th>city</th>\n",
              "      <th>state</th>\n",
              "      <th>signs_of_mental_illness</th>\n",
              "      <th>threat_level</th>\n",
              "      <th>flee</th>\n",
              "      <th>body_camera</th>\n",
              "    </tr>\n",
              "  </thead>\n",
              "  <tbody>\n",
              "    <tr>\n",
              "      <th>0</th>\n",
              "      <td>45</td>\n",
              "      <td>Dewayne Carr</td>\n",
              "      <td>2015-01-20</td>\n",
              "      <td>shot</td>\n",
              "      <td>True</td>\n",
              "      <td>42</td>\n",
              "      <td>M</td>\n",
              "      <td>B</td>\n",
              "      <td>Scottsdale</td>\n",
              "      <td>AZ</td>\n",
              "      <td>False</td>\n",
              "      <td>other</td>\n",
              "      <td>Car</td>\n",
              "      <td>False</td>\n",
              "    </tr>\n",
              "    <tr>\n",
              "      <th>1</th>\n",
              "      <td>50</td>\n",
              "      <td>Tiano Meton</td>\n",
              "      <td>2015-01-22</td>\n",
              "      <td>shot</td>\n",
              "      <td>True</td>\n",
              "      <td>25</td>\n",
              "      <td>M</td>\n",
              "      <td>B</td>\n",
              "      <td>Sierra Blanca</td>\n",
              "      <td>TX</td>\n",
              "      <td>False</td>\n",
              "      <td>attack</td>\n",
              "      <td>Car</td>\n",
              "      <td>False</td>\n",
              "    </tr>\n",
              "    <tr>\n",
              "      <th>2</th>\n",
              "      <td>80</td>\n",
              "      <td>Yuvette Henderson</td>\n",
              "      <td>2015-02-03</td>\n",
              "      <td>shot</td>\n",
              "      <td>True</td>\n",
              "      <td>38</td>\n",
              "      <td>F</td>\n",
              "      <td>B</td>\n",
              "      <td>Emeryville</td>\n",
              "      <td>CA</td>\n",
              "      <td>False</td>\n",
              "      <td>attack</td>\n",
              "      <td>Car</td>\n",
              "      <td>False</td>\n",
              "    </tr>\n",
              "    <tr>\n",
              "      <th>3</th>\n",
              "      <td>87</td>\n",
              "      <td>Jimmy Ray Robinson Jr.</td>\n",
              "      <td>2015-02-04</td>\n",
              "      <td>shot</td>\n",
              "      <td>True</td>\n",
              "      <td>51</td>\n",
              "      <td>M</td>\n",
              "      <td>B</td>\n",
              "      <td>Lorena</td>\n",
              "      <td>TX</td>\n",
              "      <td>False</td>\n",
              "      <td>attack</td>\n",
              "      <td>Car</td>\n",
              "      <td>False</td>\n",
              "    </tr>\n",
              "    <tr>\n",
              "      <th>4</th>\n",
              "      <td>138</td>\n",
              "      <td>Glenn Lewis</td>\n",
              "      <td>2015-02-25</td>\n",
              "      <td>shot</td>\n",
              "      <td>True</td>\n",
              "      <td>27</td>\n",
              "      <td>M</td>\n",
              "      <td>B</td>\n",
              "      <td>Oklahoma City</td>\n",
              "      <td>OK</td>\n",
              "      <td>False</td>\n",
              "      <td>other</td>\n",
              "      <td>Car</td>\n",
              "      <td>False</td>\n",
              "    </tr>\n",
              "    <tr>\n",
              "      <th>...</th>\n",
              "      <td>...</td>\n",
              "      <td>...</td>\n",
              "      <td>...</td>\n",
              "      <td>...</td>\n",
              "      <td>...</td>\n",
              "      <td>...</td>\n",
              "      <td>...</td>\n",
              "      <td>...</td>\n",
              "      <td>...</td>\n",
              "      <td>...</td>\n",
              "      <td>...</td>\n",
              "      <td>...</td>\n",
              "      <td>...</td>\n",
              "      <td>...</td>\n",
              "    </tr>\n",
              "    <tr>\n",
              "      <th>76</th>\n",
              "      <td>2045</td>\n",
              "      <td>Tavis Crane</td>\n",
              "      <td>2017-02-01</td>\n",
              "      <td>shot</td>\n",
              "      <td>True</td>\n",
              "      <td>23</td>\n",
              "      <td>M</td>\n",
              "      <td>B</td>\n",
              "      <td>Arlington</td>\n",
              "      <td>TX</td>\n",
              "      <td>False</td>\n",
              "      <td>attack</td>\n",
              "      <td>Car</td>\n",
              "      <td>False</td>\n",
              "    </tr>\n",
              "    <tr>\n",
              "      <th>77</th>\n",
              "      <td>2046</td>\n",
              "      <td>Michael Russo</td>\n",
              "      <td>2017-02-01</td>\n",
              "      <td>shot</td>\n",
              "      <td>True</td>\n",
              "      <td>31</td>\n",
              "      <td>M</td>\n",
              "      <td>B</td>\n",
              "      <td>Highland</td>\n",
              "      <td>CA</td>\n",
              "      <td>False</td>\n",
              "      <td>attack</td>\n",
              "      <td>Car</td>\n",
              "      <td>False</td>\n",
              "    </tr>\n",
              "    <tr>\n",
              "      <th>78</th>\n",
              "      <td>2049</td>\n",
              "      <td>Jamake Cason Thomas</td>\n",
              "      <td>2017-02-03</td>\n",
              "      <td>shot</td>\n",
              "      <td>True</td>\n",
              "      <td>22</td>\n",
              "      <td>M</td>\n",
              "      <td>B</td>\n",
              "      <td>Rowland</td>\n",
              "      <td>NC</td>\n",
              "      <td>False</td>\n",
              "      <td>attack</td>\n",
              "      <td>Car</td>\n",
              "      <td>False</td>\n",
              "    </tr>\n",
              "    <tr>\n",
              "      <th>79</th>\n",
              "      <td>2053</td>\n",
              "      <td>Jamake Cason Thomas</td>\n",
              "      <td>2017-02-03</td>\n",
              "      <td>shot</td>\n",
              "      <td>True</td>\n",
              "      <td>22</td>\n",
              "      <td>M</td>\n",
              "      <td>B</td>\n",
              "      <td>Rowland</td>\n",
              "      <td>NC</td>\n",
              "      <td>False</td>\n",
              "      <td>attack</td>\n",
              "      <td>Car</td>\n",
              "      <td>False</td>\n",
              "    </tr>\n",
              "    <tr>\n",
              "      <th>80</th>\n",
              "      <td>2123</td>\n",
              "      <td>Morgan London Rankins</td>\n",
              "      <td>2017-02-22</td>\n",
              "      <td>shot</td>\n",
              "      <td>True</td>\n",
              "      <td>30</td>\n",
              "      <td>F</td>\n",
              "      <td>B</td>\n",
              "      <td>Austin</td>\n",
              "      <td>TX</td>\n",
              "      <td>True</td>\n",
              "      <td>other</td>\n",
              "      <td>Car</td>\n",
              "      <td>False</td>\n",
              "    </tr>\n",
              "  </tbody>\n",
              "</table>\n",
              "<p>81 rows × 14 columns</p>\n",
              "</div>"
            ],
            "text/plain": [
              "   index                    name       date  ... threat_level flee body_camera\n",
              "0     45            Dewayne Carr 2015-01-20  ...        other  Car       False\n",
              "1     50             Tiano Meton 2015-01-22  ...       attack  Car       False\n",
              "2     80       Yuvette Henderson 2015-02-03  ...       attack  Car       False\n",
              "3     87  Jimmy Ray Robinson Jr. 2015-02-04  ...       attack  Car       False\n",
              "4    138             Glenn Lewis 2015-02-25  ...        other  Car       False\n",
              "..   ...                     ...        ...  ...          ...  ...         ...\n",
              "76  2045             Tavis Crane 2017-02-01  ...       attack  Car       False\n",
              "77  2046           Michael Russo 2017-02-01  ...       attack  Car       False\n",
              "78  2049     Jamake Cason Thomas 2017-02-03  ...       attack  Car       False\n",
              "79  2053     Jamake Cason Thomas 2017-02-03  ...       attack  Car       False\n",
              "80  2123   Morgan London Rankins 2017-02-22  ...        other  Car       False\n",
              "\n",
              "[81 rows x 14 columns]"
            ]
          },
          "metadata": {
            "tags": []
          },
          "execution_count": 35
        }
      ]
    },
    {
      "cell_type": "markdown",
      "metadata": {
        "id": "msz4qzg885WC"
      },
      "source": [
        "## Building a model and predicting new values"
      ]
    },
    {
      "cell_type": "code",
      "metadata": {
        "id": "DNrZQZSYANQD"
      },
      "source": [
        "# Separating and encoding data to integers\r\n",
        "\r\n",
        "from sklearn.preprocessing import LabelEncoder\r\n",
        "\r\n",
        "y = LabelEncoder().fit_transform(clean_df['race'])\r\n",
        "X = pd.get_dummies(clean_df.filter(['manner_of_death', 'signs_of_mental_illness',\r\n",
        "                                    'armed', 'flee', 'threat_level', 'state', 'gender', \r\n",
        "                                    'age', 'city']))"
      ],
      "execution_count": 36,
      "outputs": []
    },
    {
      "cell_type": "code",
      "metadata": {
        "colab": {
          "base_uri": "https://localhost:8080/"
        },
        "id": "KRMRfPMo9UBj",
        "outputId": "6ed61ef6-7929-4a2c-8635-5756225bc50d"
      },
      "source": [
        "# Splitting the dataset\r\n",
        "\r\n",
        "from sklearn.model_selection import train_test_split\r\n",
        "\r\n",
        "X_train, X_test, y_train, y_test = \\\r\n",
        "train_test_split(X, y, test_size=0.3)\r\n",
        "\r\n",
        "\r\n",
        "# Building a random forests classifier\r\n",
        "\r\n",
        "from sklearn.ensemble import RandomForestClassifier\r\n",
        "\r\n",
        "rfc = RandomForestClassifier()\r\n",
        "rfc.fit(X_train, y_train)\r\n",
        "\r\n",
        "\r\n",
        "print(f\"Model predicts with {round((rfc.score(X_test, y_test)*100), 2)}% accuracy\")"
      ],
      "execution_count": 37,
      "outputs": [
        {
          "output_type": "stream",
          "text": [
            "Model predicts with 61.07% accuracy\n"
          ],
          "name": "stdout"
        }
      ]
    },
    {
      "cell_type": "code",
      "metadata": {
        "colab": {
          "base_uri": "https://localhost:8080/"
        },
        "id": "LPB5U0IVxp9X",
        "outputId": "65d361be-e9e8-4020-a1cd-818c113fef24"
      },
      "source": [
        "# Testing for accuracy with a random sample\r\n",
        "\r\n",
        "random_id = random.randint(0, np.size(y)-1)\r\n",
        "\r\n",
        "new_prediction = rfc.predict([X.iloc[random_id]])\r\n",
        "print(f\"The model predicted the race to be {new_prediction[0]}, while the ground truth is {y[random_id]} ({clean_df['race'].iloc[random_id]})\")"
      ],
      "execution_count": 39,
      "outputs": [
        {
          "output_type": "stream",
          "text": [
            "The model predicted the race to be 5, while the ground truth is 5 (W)\n"
          ],
          "name": "stdout"
        }
      ]
    }
  ]
}